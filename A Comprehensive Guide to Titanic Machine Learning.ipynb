{
 "cells": [
  {
   "cell_type": "markdown",
   "metadata": {
    "_uuid": "21aea7f05d8507e9c72430cc2e653c11fc4fea74"
   },
   "source": [
    "# About this Kernel\n",
    "This kernel may (or may not) be helpful in your long and often tedious machine learning journey particularly if you're a beginner. In the making of this kernel, I've almost always used multiple line comments (''' ''') instead of single line comments (#) because some single line comments weren't visible after committing the kernel. Sometimes you may find this notebook too verbose. This verbosity tries to explain everything I could possibly know. I've also tried to write reusable codes as much as possible using custom functions so that we can avoid writing the same code again and again. You can ask and comment if you have any query about this notebook."
   ]
  },
  {
   "cell_type": "markdown",
   "metadata": {
    "_uuid": "a337b7f9603fcc514e5cd90a78678ac275692856"
   },
   "source": [
    "# Outlines\n",
    "\n",
    "* [1.Problem Description and Objective](#1)\n",
    "* [2.Importing Packages and Collecting Data](#2)\n",
    "* [3.Variable Description and Identification](#3)\n",
    "   * [3.1 Variable Description](#3.1) [3.2 Categorical and Numerical Variables](#3.2) [3.3 Variable Data Types](#3.3)\n",
    "* [4.Univariate Analysis](#4)\n",
    "   * [4.1 Categorical Variables](#4.1)\n",
    "      * [4.1.1 Survived](#4.1.1) [4.1.2 Sex](#4.1.2) [4.1.3 Pclass](#4.1.3) [4.1.4 Embarked](#4.1.4) [4.1.5 Cabin](#4.1.5) [4.1.6 Name](#4.1.6) [4.1.7 Ticket](#4.1.7) [4.1.8 SibSp](#4.1.8) [4.1.9 Parch](#4.1.9)\n",
    "   * [4.2 Numerical Variables](#4.2)    \n",
    "      * [4.2.1 Fare](#4.2.1)  [4.2.2 Age](#4.2.2)  [4.2.3 PassengerId](#4.2.3)\n",
    "* [5.Feature Engineering](#5)\n",
    "   * [5.1 Process Cabin](#5.1) [5.2 Process Name](#5.2) [5.3 Process SibSp & Parch](#5.3)  [5.4 Process Ticket](#5.4)\n",
    "* [6.Outliers Detection](#6)\n",
    "   * [6.1 Outliers Detection of Age](#6.1)  [6.1 Outliers Detection of Fare](#6.2)\n",
    "* [7.Imputing Missing Variables](#7)\n",
    "   * [7.1 Impute Embarked & Fare](#7.1)  [7.2 Impute Age](#7.2)\n",
    "* [8.Bivariate Analysis](#8)\n",
    "   * [8.1 Numerical & Categorical Variables](#8.1)\n",
    "      * [8.1.1 Fare & Survived](#8.1.1)   [8.1.2 Age & Survived](#8.1.2)\n",
    "   * [8.2 Categorical & Categorical Variables](#8.2)\n",
    "      * [8.2.1 Sex & Survived](#8.2.1) [8.2.2 Pclass & Survived](#8.2.2) [8.2.3 Embarked & Survived](#8.2.3) [8.2.4 SIbSp & Survived](#8.2.4) [8.2.5 Parch & Survived](#8.2.5) [8.2.6 Title & Survived](#8.2.6) [8.2.7 Family_size & Survived](#8.2.7) [8.2.8 Cabin & Survived](#8.2.8) [ 8.2.9 Ticket & Survived](#8.2.9)\n",
    "* [9.Multivariate Analysis](#9)  \n",
    "   * [9.1 (Pclass, Sex, Cabin) vs Survived](#9.1) [9.2 (Pclass, Sex, Embarked) vs Survived](#9.2) [9.3 (Pclass, Sex, SibSp) vs Survived](#9.3) [9.4 (Pclass, Sex, Parch) vs Survived](#9.4) [9.5 (Pclass, Sex, Title) vs Survived](#9.5) [9.6 (Pclass, Sex, Family_size) vs Survived](#9.6) [9.7 (Pclass, Sex, Ticket) vs Survived](#9.7) [9.8 (Pclass, Title, Cabin) vs Survived](#9.8) [9.9 (Family_size, Sex, Cabin) vs Survived](#9.9) [9.10 (Sex, Title, Family_size) vs Survived](#9.10) [9.11 (Sex, Title, Cabin) vs Survived](#9.11) [9.12 (Sex, Title, Embarked) vs Survived](#9.12) [9.13 (Sex, Title, Ticket) vs Survived ](#9.13)\n",
    "* [10.Data Transformation](#10) \n",
    "   * [10.1 Binning Continuous Variables](#10.1)\n",
    "      * [10.1.1 Binning Age](#10.1.1) [10.1.2 Binning Fare](#10.1.2)\n",
    "   * [10.2 Dropping Features](#10.2) [10.3 Correcting Data Types](#10.3) [10.4 Encoding Categorical Variables](#10.4)\n",
    "* [11.Model Building and Evaluation](#11)   \n",
    "   * [11.1 Training Model](#11.1) [11.2 Model Evaluation](#11.2) [11.2.1 Cross Validation](#11.2.1) [11.2.2 Tunning Hyperparameters](#11.2.2) [11.2.3 Model Selection](#11.2.3) [11.3 Retrain & Predict Using Optimized Hyperparameters](#11.3) [11.4 Feature Importance](#11.4) [11.5 Learning Curves](#11.5)\n",
    "* [12.More Evaluation Metrics](#12)  \n",
    "   * [12.1 Confusion Matrix](#12.1) [12.2 Precision Score](#12.2) [12.3 Recall (or Sensitivity or True Positive Rate)](#12.3) [12.4 Specificity ( or True Negative Rate)](#12.4) [12.5 F1 Score](#12.5) [12.6 Classification Report](#12.6) [12.7 Precision-Recall vs Threshold Curve](#12.7) [12.8 Precision-Recall Curve](#12.8) [12.9 ROC  Curve & AUC Score ](#12.9)\n",
    "* [13.Prediction & Submission](#13) \n",
    "* [14.Introduction to Ensemble](#14)\n",
    "   * [14.1 Hard Voting Ensemble](#14.1) [14.2 Introduction to PCA](#14.2) [14.3 Soft Voting Ensemble](#14.3) [14.4 Bagging](#14.4) [14.5 Boosting](#14.5) [14.6 Blending](#14.6) [14.7 Stacking](#14.7) [14.8 Evaluating Different Ensembles](#14.8)\n",
    "* [15.End Note](#15)"
   ]
  },
  {
   "cell_type": "markdown",
   "metadata": {
    "_uuid": "617cef684116288c99d7b6fb64db85938842707b"
   },
   "source": [
    "# 1.Problem Description and Objective <a id=\"1\"></a>\n",
    "The sinking of the RMS Titanic is one of the most notorious shipwrecks in history. On April 15, 1912, during her maiden voyage, the Titanic sank after colliding with an iceberg, killing 1502 out of 2224 passengers and crew. This harrowing tragedy shocked the international community and led to better safety regulations for ships.\n",
    "\n",
    "In this problem, we're asked to complete the analysis of what sorts of passengers were likely to survive the tragedy using machine learning. So its our job to predict if a passenger survived from the sinking Titanic or not with the help of machine learning. So its a binary classification problem.\n",
    "\n",
    "# 2.Importing Packages and Collecting Data <a id=\"2\"></a>\n",
    "After importing required modules, read train and test data from csv files."
   ]
  },
  {
   "cell_type": "code",
   "execution_count": 16,
   "metadata": {
    "_uuid": "33c3d655f6f600f8105e52328378c708c8411fb4"
   },
   "outputs": [],
   "source": [
    "'''Ignore deprecation and future warnings.''' #test\n",
    "import warnings\n",
    "warnings.filterwarnings('ignore', category = DeprecationWarning) \n",
    "warnings.filterwarnings('ignore', category = FutureWarning) \n",
    "\n",
    "'''Import required modules.'''\n",
    "import numpy as np               # For linear algebra\n",
    "import pandas as pd              # For data manipulation\n",
    "import matplotlib.pyplot as plt  # For 2D visualization\n",
    "import seaborn as sns            \n",
    "import missingno as mn           # For visualizing missing values.\n",
    "from scipy import stats          # For statistics"
   ]
  },
  {
   "cell_type": "code",
   "execution_count": 17,
   "metadata": {
    "_uuid": "133e85bb560aa240c6251dfb999e6834606ca4fd"
   },
   "outputs": [],
   "source": [
    "'''Customize visualization.'''\n",
    "plt.style.use('bmh')                    # Use bmh's style for plotting\n",
    "sns.set_style({'axes.grid':False})      # Removes gridlines\n",
    "\n",
    "'''Display markdown formatted output like bold, italic bold etc.'''\n",
    "from IPython.display import Markdown\n",
    "def bold(string):\n",
    "    display(Markdown(string))"
   ]
  },
  {
   "cell_type": "code",
   "execution_count": 18,
   "metadata": {
    "_uuid": "3c74b9d726681f3b6cc5035a82e2909f5cd466a8",
    "scrolled": false
   },
   "outputs": [
    {
     "data": {
      "text/markdown": [
       "**Preview of Train Data:**"
      ],
      "text/plain": [
       "<IPython.core.display.Markdown object>"
      ]
     },
     "metadata": {},
     "output_type": "display_data"
    },
    {
     "data": {
      "text/html": [
       "<div>\n",
       "<style scoped>\n",
       "    .dataframe tbody tr th:only-of-type {\n",
       "        vertical-align: middle;\n",
       "    }\n",
       "\n",
       "    .dataframe tbody tr th {\n",
       "        vertical-align: top;\n",
       "    }\n",
       "\n",
       "    .dataframe thead th {\n",
       "        text-align: right;\n",
       "    }\n",
       "</style>\n",
       "<table border=\"1\" class=\"dataframe\">\n",
       "  <thead>\n",
       "    <tr style=\"text-align: right;\">\n",
       "      <th></th>\n",
       "      <th>PassengerId</th>\n",
       "      <th>Survived</th>\n",
       "      <th>Pclass</th>\n",
       "      <th>Name</th>\n",
       "      <th>Sex</th>\n",
       "      <th>Age</th>\n",
       "      <th>SibSp</th>\n",
       "      <th>Parch</th>\n",
       "      <th>Ticket</th>\n",
       "      <th>Fare</th>\n",
       "      <th>Cabin</th>\n",
       "      <th>Embarked</th>\n",
       "    </tr>\n",
       "  </thead>\n",
       "  <tbody>\n",
       "    <tr>\n",
       "      <th>0</th>\n",
       "      <td>1</td>\n",
       "      <td>0</td>\n",
       "      <td>3</td>\n",
       "      <td>Braund, Mr. Owen Harris</td>\n",
       "      <td>male</td>\n",
       "      <td>22.0</td>\n",
       "      <td>1</td>\n",
       "      <td>0</td>\n",
       "      <td>A/5 21171</td>\n",
       "      <td>7.2500</td>\n",
       "      <td>NaN</td>\n",
       "      <td>S</td>\n",
       "    </tr>\n",
       "    <tr>\n",
       "      <th>1</th>\n",
       "      <td>2</td>\n",
       "      <td>1</td>\n",
       "      <td>1</td>\n",
       "      <td>Cumings, Mrs. John Bradley (Florence Briggs Th...</td>\n",
       "      <td>female</td>\n",
       "      <td>38.0</td>\n",
       "      <td>1</td>\n",
       "      <td>0</td>\n",
       "      <td>PC 17599</td>\n",
       "      <td>71.2833</td>\n",
       "      <td>C85</td>\n",
       "      <td>C</td>\n",
       "    </tr>\n",
       "  </tbody>\n",
       "</table>\n",
       "</div>"
      ],
      "text/plain": [
       "   PassengerId  Survived  Pclass  \\\n",
       "0            1         0       3   \n",
       "1            2         1       1   \n",
       "\n",
       "                                                Name     Sex   Age  SibSp  \\\n",
       "0                            Braund, Mr. Owen Harris    male  22.0      1   \n",
       "1  Cumings, Mrs. John Bradley (Florence Briggs Th...  female  38.0      1   \n",
       "\n",
       "   Parch     Ticket     Fare Cabin Embarked  \n",
       "0      0  A/5 21171   7.2500   NaN        S  \n",
       "1      0   PC 17599  71.2833   C85        C  "
      ]
     },
     "metadata": {},
     "output_type": "display_data"
    },
    {
     "data": {
      "text/markdown": [
       "**Preview of Test Data:**"
      ],
      "text/plain": [
       "<IPython.core.display.Markdown object>"
      ]
     },
     "metadata": {},
     "output_type": "display_data"
    },
    {
     "data": {
      "text/html": [
       "<div>\n",
       "<style scoped>\n",
       "    .dataframe tbody tr th:only-of-type {\n",
       "        vertical-align: middle;\n",
       "    }\n",
       "\n",
       "    .dataframe tbody tr th {\n",
       "        vertical-align: top;\n",
       "    }\n",
       "\n",
       "    .dataframe thead th {\n",
       "        text-align: right;\n",
       "    }\n",
       "</style>\n",
       "<table border=\"1\" class=\"dataframe\">\n",
       "  <thead>\n",
       "    <tr style=\"text-align: right;\">\n",
       "      <th></th>\n",
       "      <th>PassengerId</th>\n",
       "      <th>Pclass</th>\n",
       "      <th>Name</th>\n",
       "      <th>Sex</th>\n",
       "      <th>Age</th>\n",
       "      <th>SibSp</th>\n",
       "      <th>Parch</th>\n",
       "      <th>Ticket</th>\n",
       "      <th>Fare</th>\n",
       "      <th>Cabin</th>\n",
       "      <th>Embarked</th>\n",
       "    </tr>\n",
       "  </thead>\n",
       "  <tbody>\n",
       "    <tr>\n",
       "      <th>0</th>\n",
       "      <td>892</td>\n",
       "      <td>3</td>\n",
       "      <td>Kelly, Mr. James</td>\n",
       "      <td>male</td>\n",
       "      <td>34.5</td>\n",
       "      <td>0</td>\n",
       "      <td>0</td>\n",
       "      <td>330911</td>\n",
       "      <td>7.8292</td>\n",
       "      <td>NaN</td>\n",
       "      <td>Q</td>\n",
       "    </tr>\n",
       "    <tr>\n",
       "      <th>1</th>\n",
       "      <td>893</td>\n",
       "      <td>3</td>\n",
       "      <td>Wilkes, Mrs. James (Ellen Needs)</td>\n",
       "      <td>female</td>\n",
       "      <td>47.0</td>\n",
       "      <td>1</td>\n",
       "      <td>0</td>\n",
       "      <td>363272</td>\n",
       "      <td>7.0000</td>\n",
       "      <td>NaN</td>\n",
       "      <td>S</td>\n",
       "    </tr>\n",
       "  </tbody>\n",
       "</table>\n",
       "</div>"
      ],
      "text/plain": [
       "   PassengerId  Pclass                              Name     Sex   Age  SibSp  \\\n",
       "0          892       3                  Kelly, Mr. James    male  34.5      0   \n",
       "1          893       3  Wilkes, Mrs. James (Ellen Needs)  female  47.0      1   \n",
       "\n",
       "   Parch  Ticket    Fare Cabin Embarked  \n",
       "0      0  330911  7.8292   NaN        Q  \n",
       "1      0  363272  7.0000   NaN        S  "
      ]
     },
     "metadata": {},
     "output_type": "display_data"
    }
   ],
   "source": [
    "'''Read and preview the train data from csv file.'''\n",
    "train = pd.read_csv('input/train.csv')\n",
    "bold('**Preview of Train Data:**')\n",
    "display(train.head(2))\n",
    "\n",
    "'''Read and preview the test from csv file.'''\n",
    "test = pd.read_csv('input/test.csv')\n",
    "bold('**Preview of Test Data:**')\n",
    "display(test.head(2))"
   ]
  },
  {
   "cell_type": "markdown",
   "metadata": {
    "_uuid": "24fe123384be6f16c454b1167e6081dd7850c8bd"
   },
   "source": [
    "**Note:** We don't have Survived variable for test set. This will be our task to infer Survived for test set by learning from \n",
    "train set."
   ]
  },
  {
   "cell_type": "markdown",
   "metadata": {
    "_uuid": "f0717bedceb25044342188e3dc979bd03074286d"
   },
   "source": [
    "# 3.Variable Description and Identification <a id=\"3\"></a>\n",
    "Describe what each of the variable indicates and identify our response and predictor variables. Then seperate the categorical variables from numerical variables and finally identify pandas data types (i.e., object, float64 or int64) for every variable.\n",
    "\n",
    "## 3.1 Variable Description <a id=\"3.1\"></a>"
   ]
  },
  {
   "cell_type": "code",
   "execution_count": 19,
   "metadata": {
    "_uuid": "629fc147f19b6ec5fff70733916e8219c928c530"
   },
   "outputs": [
    {
     "data": {
      "text/markdown": [
       "**Preview of Merged Data:**"
      ],
      "text/plain": [
       "<IPython.core.display.Markdown object>"
      ]
     },
     "metadata": {},
     "output_type": "display_data"
    },
    {
     "data": {
      "text/html": [
       "<div>\n",
       "<style scoped>\n",
       "    .dataframe tbody tr th:only-of-type {\n",
       "        vertical-align: middle;\n",
       "    }\n",
       "\n",
       "    .dataframe tbody tr th {\n",
       "        vertical-align: top;\n",
       "    }\n",
       "\n",
       "    .dataframe thead th {\n",
       "        text-align: right;\n",
       "    }\n",
       "</style>\n",
       "<table border=\"1\" class=\"dataframe\">\n",
       "  <thead>\n",
       "    <tr style=\"text-align: right;\">\n",
       "      <th></th>\n",
       "      <th>PassengerId</th>\n",
       "      <th>Survived</th>\n",
       "      <th>Pclass</th>\n",
       "      <th>Name</th>\n",
       "      <th>Sex</th>\n",
       "      <th>Age</th>\n",
       "      <th>SibSp</th>\n",
       "      <th>Parch</th>\n",
       "      <th>Ticket</th>\n",
       "      <th>Fare</th>\n",
       "      <th>Cabin</th>\n",
       "      <th>Embarked</th>\n",
       "    </tr>\n",
       "  </thead>\n",
       "  <tbody>\n",
       "    <tr>\n",
       "      <th>0</th>\n",
       "      <td>1</td>\n",
       "      <td>0.0</td>\n",
       "      <td>3</td>\n",
       "      <td>Braund, Mr. Owen Harris</td>\n",
       "      <td>male</td>\n",
       "      <td>22.0</td>\n",
       "      <td>1</td>\n",
       "      <td>0</td>\n",
       "      <td>A/5 21171</td>\n",
       "      <td>7.2500</td>\n",
       "      <td>NaN</td>\n",
       "      <td>S</td>\n",
       "    </tr>\n",
       "    <tr>\n",
       "      <th>1</th>\n",
       "      <td>2</td>\n",
       "      <td>1.0</td>\n",
       "      <td>1</td>\n",
       "      <td>Cumings, Mrs. John Bradley (Florence Briggs Th...</td>\n",
       "      <td>female</td>\n",
       "      <td>38.0</td>\n",
       "      <td>1</td>\n",
       "      <td>0</td>\n",
       "      <td>PC 17599</td>\n",
       "      <td>71.2833</td>\n",
       "      <td>C85</td>\n",
       "      <td>C</td>\n",
       "    </tr>\n",
       "  </tbody>\n",
       "</table>\n",
       "</div>"
      ],
      "text/plain": [
       "   PassengerId  Survived  Pclass  \\\n",
       "0            1       0.0       3   \n",
       "1            2       1.0       1   \n",
       "\n",
       "                                                Name     Sex   Age  SibSp  \\\n",
       "0                            Braund, Mr. Owen Harris    male  22.0      1   \n",
       "1  Cumings, Mrs. John Bradley (Florence Briggs Th...  female  38.0      1   \n",
       "\n",
       "   Parch     Ticket     Fare Cabin Embarked  \n",
       "0      0  A/5 21171   7.2500   NaN        S  \n",
       "1      0   PC 17599  71.2833   C85        C  "
      ]
     },
     "metadata": {},
     "output_type": "display_data"
    },
    {
     "data": {
      "text/markdown": [
       "**Shape of the Merged Data:**"
      ],
      "text/plain": [
       "<IPython.core.display.Markdown object>"
      ]
     },
     "metadata": {},
     "output_type": "display_data"
    },
    {
     "data": {
      "text/plain": [
       "(1309, 12)"
      ]
     },
     "metadata": {},
     "output_type": "display_data"
    },
    {
     "data": {
      "text/markdown": [
       "**Name of the Variables:**"
      ],
      "text/plain": [
       "<IPython.core.display.Markdown object>"
      ]
     },
     "metadata": {},
     "output_type": "display_data"
    },
    {
     "data": {
      "text/plain": [
       "Index(['PassengerId', 'Survived', 'Pclass', 'Name', 'Sex', 'Age', 'SibSp',\n",
       "       'Parch', 'Ticket', 'Fare', 'Cabin', 'Embarked'],\n",
       "      dtype='object')"
      ]
     },
     "metadata": {},
     "output_type": "display_data"
    }
   ],
   "source": [
    "'''Merge train and test data together. This eliminates the hassle of handling train and test data seperately for various analysis.'''\n",
    "merged = pd.concat([train, test], sort = False)\n",
    "bold('**Preview of Merged Data:**')\n",
    "display(merged.head(2))\n",
    "\n",
    "'''Shape of the combined data'''\n",
    "bold('**Shape of the Merged Data:**')\n",
    "display(merged.shape)\n",
    "\n",
    "'''Variables in the combined data'''\n",
    "bold('**Name of the Variables:**')\n",
    "display(merged.columns)"
   ]
  },
  {
   "cell_type": "markdown",
   "metadata": {
    "_uuid": "c11f272dc1802f9db56fdceae7716b85967fef03"
   },
   "source": [
    "### So what can we see??\n",
    "**We can see total 12 variables. And each variable has 1309 observations (excluding Survived).**\n",
    "### Here comes the description of all variables:\n",
    "1. **PassengerId** is a unique identifying number assigned to each passenger.\n",
    "2. **Survived** is a flag that indicates if a passenger survived or died ( i.e., 0 = No, 1 = Yes).\n",
    "3. **Pclass** is the passenger class (i.e., 1 = 1st class, 2 = 2nd class, 3 = 3rd class).\n",
    "4. **Name** is the name of the passenger.\n",
    "5. **Sex** indicates the gender of the passenger (i.e., Male or female).\n",
    "6. **Age** indicates the age of the passenger.\n",
    "7. **Sibsp**  is the number of siblings/spouses aboard.\n",
    "8. **Parch** is the number of parents/children aboard.\n",
    "9. **Ticket** indicates the ticket number issued to the passenger.\n",
    "10. **Fare** indicates the amount of money spent on their ticket.\n",
    "11. **Cabin** indicates the cabin category occupied by the passenger.\n",
    "12. **Embarked** indicates the port where the passenger embarked from (i.e., C = Cherbourg, Q = Queenstown, S = Southampton).\n",
    "\n",
    "\n",
    "### Here, Survived is the target variable and rest of the variables are predictor variables.\n",
    "\n",
    "## 3.2 Categorical and Numerical Variables  <a id=\"3.2\"></a>\n",
    "**Categorical Variable:** Survived, Sex, Pclass (ordinal), Embarked, Cabin, Name, Ticket, SibSp, and Parch.\n",
    "\n",
    "**Numerical Variable:** Fare, Age, and PassengerId.\n",
    "## 3.3 Variable Data Types <a id=\"3.3\"></a>"
   ]
  },
  {
   "cell_type": "code",
   "execution_count": 20,
   "metadata": {
    "_uuid": "e54de8e516ba55815049ae6a5346054a9868da9c"
   },
   "outputs": [
    {
     "data": {
      "text/markdown": [
       "**Data Types of Our Variables:**"
      ],
      "text/plain": [
       "<IPython.core.display.Markdown object>"
      ]
     },
     "metadata": {},
     "output_type": "display_data"
    },
    {
     "data": {
      "text/plain": [
       "PassengerId      int64\n",
       "Survived       float64\n",
       "Pclass           int64\n",
       "Name            object\n",
       "Sex             object\n",
       "Age            float64\n",
       "SibSp            int64\n",
       "Parch            int64\n",
       "Ticket          object\n",
       "Fare           float64\n",
       "Cabin           object\n",
       "Embarked        object\n",
       "dtype: object"
      ]
     },
     "metadata": {},
     "output_type": "display_data"
    }
   ],
   "source": [
    "'''Pandas data types for our different variables.'''\n",
    "bold('**Data Types of Our Variables:**')\n",
    "display(merged.dtypes)"
   ]
  },
  {
   "cell_type": "markdown",
   "metadata": {
    "_uuid": "038648976bc748083ad60ceeb48aeade90c6c039"
   },
   "source": [
    "1. **int data type variables:** Pclass, SibSp, Parch, and PassengerId.\n",
    "2. **float data type variables:** Fare and Age, *Survived (due to concatenation)*\n",
    "3. **object (numbers + strings) data type variables:** Name, Sex, Ticket, Cabin, and Embarked.\n",
    "\n",
    "# 4.Univariate Analysis <a id=\"4\"></a>\n",
    "Univariate analysis separately explores the distribution of each variable in a data set. It looks at the range of values, as well as the central tendency of the values. Univariate data analysis does not look at relationships between various variables (like bivariate and multivariate analysis) rather it summarises each variable on its own. Methods to perform univariate analysis will depend on whether the variable is categorical or numerical. For numerical variable, we would explore its shape of distribution (distribution can either be symmetric or skewed) using histogram and density plots. For categorical variables, we would use bar plots to visualize the absolute and proportional frequency distribution. Knowing the distribution of the feature values becomes important when you use machine learning methods that assume a particular type of it, most often Gaussian. **Let's starts off with categorical variables:**\n",
    "\n",
    "## 4.1 Categorical Variables  <a id=\"4.1\"></a>\n",
    "For categorical univariate analysis, we will create barplot and data frame of absolute and relative frequency for each categorical variable."
   ]
  },
  {
   "cell_type": "code",
   "execution_count": 21,
   "metadata": {
    "_uuid": "c3a8ab9a2145e8a7c22a844e7e8ba3a663067c4b"
   },
   "outputs": [],
   "source": [
    "'''To analyse categorical variables, we will create three custom functions.\n",
    "The first two functions displays bar labels in absolute and relative scale respectively. And the 3rd one creates a dataframe of absolute and relative and also generates abs and relative frequency plot for each variable.'''\n",
    "\n",
    "''' #1.Function for displaying bar labels in absolute scale.'''\n",
    "def abs_bar_labels():\n",
    "    font_size = 15\n",
    "    plt.ylabel('Absolute Frequency', fontsize = font_size)\n",
    "    plt.xticks(rotation = 0, fontsize = font_size)\n",
    "    plt.yticks([])\n",
    "    \n",
    "    # Set individual bar lebels in absolute number\n",
    "    for x in ax.patches:\n",
    "        ax.annotate(x.get_height(), \n",
    "        (x.get_x() + x.get_width()/2., x.get_height()), ha = 'center', va = 'center', xytext = (0, 7), \n",
    "        textcoords = 'offset points', fontsize = font_size, color = 'black')\n",
    "    \n",
    "'''#2.Function for displaying bar lebels in relative scale.'''\n",
    "def pct_bar_labels():\n",
    "    font_size = 15\n",
    "    plt.ylabel('Relative Frequency (%)', fontsize = font_size)\n",
    "    plt.xticks(rotation = 0, fontsize = font_size)\n",
    "    plt.yticks([]) \n",
    "    \n",
    "    # Set individual bar lebels in proportional scale\n",
    "    for x in ax1.patches:\n",
    "        ax1.annotate(str(x.get_height()) + '%', \n",
    "        (x.get_x() + x.get_width()/2., x.get_height()), ha = 'center', va = 'center', xytext = (0, 7), \n",
    "        textcoords = 'offset points', fontsize = font_size, color = 'black')\n",
    "         \n",
    "'''#3.Function to create a dataframe of absolute and relative frequency of each variable. And plot absolute and relative frequency.'''\n",
    "def absolute_and_relative_freq(variable):\n",
    "    global  ax, ax1 \n",
    "    # Dataframe of absolute and relative frequency\n",
    "    absolute_frequency = variable.value_counts()\n",
    "    relative_frequency = round(variable.value_counts(normalize = True)*100, 2)\n",
    "    # Was multiplied by 100 and rounded to 2 decimal points for percentage.\n",
    "    df = pd.DataFrame({'Absolute Frequency':absolute_frequency, 'Relative Frequency(%)':relative_frequency})\n",
    "    print('Absolute & Relative Frequency of',variable.name,':')\n",
    "    display(df)\n",
    "    \n",
    "    # This portion plots absolute frequency with bar labeled.\n",
    "    fig_size = (18,5)\n",
    "    font_size = 15\n",
    "    title_size = 18\n",
    "    ax =  absolute_frequency.plot.bar(title = 'Absolute Frequency of %s' %variable.name, figsize = fig_size)\n",
    "    ax.title.set_size(title_size)\n",
    "    abs_bar_labels()  # Displays bar labels in abs scale.\n",
    "    plt.show()\n",
    "    \n",
    "    # This portion plots relative frequency with bar labeled.\n",
    "    ax1 = relative_frequency.plot.bar(title = 'Relative Frequency of %s' %variable.name, figsize = fig_size)\n",
    "    ax1.title.set_size(title_size)\n",
    "    pct_bar_labels() # Displays bar labels in relative scale.\n",
    "    plt.show()"
   ]
  },
  {
   "cell_type": "markdown",
   "metadata": {
    "_uuid": "de18ef2c19c0afe56de0b686596207d21558e021"
   },
   "source": [
    "###  4.1.1 Survived <a id=\"4.1.1\"></a>"
   ]
  },
  {
   "cell_type": "code",
   "execution_count": 22,
   "metadata": {
    "_uuid": "ab9b05c594e4b3148560c07025e5c9eb3390adc1"
   },
   "outputs": [
    {
     "name": "stdout",
     "output_type": "stream",
     "text": [
      "Absolute & Relative Frequency of Survived :\n"
     ]
    },
    {
     "data": {
      "text/html": [
       "<div>\n",
       "<style scoped>\n",
       "    .dataframe tbody tr th:only-of-type {\n",
       "        vertical-align: middle;\n",
       "    }\n",
       "\n",
       "    .dataframe tbody tr th {\n",
       "        vertical-align: top;\n",
       "    }\n",
       "\n",
       "    .dataframe thead th {\n",
       "        text-align: right;\n",
       "    }\n",
       "</style>\n",
       "<table border=\"1\" class=\"dataframe\">\n",
       "  <thead>\n",
       "    <tr style=\"text-align: right;\">\n",
       "      <th></th>\n",
       "      <th>Absolute Frequency</th>\n",
       "      <th>Relative Frequency(%)</th>\n",
       "    </tr>\n",
       "  </thead>\n",
       "  <tbody>\n",
       "    <tr>\n",
       "      <th>0.0</th>\n",
       "      <td>549</td>\n",
       "      <td>61.62</td>\n",
       "    </tr>\n",
       "    <tr>\n",
       "      <th>1.0</th>\n",
       "      <td>342</td>\n",
       "      <td>38.38</td>\n",
       "    </tr>\n",
       "  </tbody>\n",
       "</table>\n",
       "</div>"
      ],
      "text/plain": [
       "     Absolute Frequency  Relative Frequency(%)\n",
       "0.0                 549                  61.62\n",
       "1.0                 342                  38.38"
      ]
     },
     "metadata": {},
     "output_type": "display_data"
    },
    {
     "data": {
      "image/png": "[encoded data removed]",
      "text/plain": [
       "<Figure size 1296x360 with 1 Axes>"
      ]
     },
     "metadata": {},
     "output_type": "display_data"
    },
    {
     "data": {
      "image/png": "[encoded data removed]",
      "text/plain": [
       "<Figure size 1296x360 with 1 Axes>"
      ]
     },
     "metadata": {},
     "output_type": "display_data"
    }
   ],
   "source": [
    "'''Plot and count the number of survivors and victims in absolute and relative scale in the tragedy.'''\n",
    "absolute_and_relative_freq(merged.Survived)"
   ]
  },
  {
   "cell_type": "markdown",
   "metadata": {
    "_uuid": "8eae3dd210a4243695a0c3fc0cb547d5b9414893"
   },
   "source": [
    "**Findings:** Variable Survived is imbalanced since the proportion of survivors and victims is not equally represented in its distribution. Out of 891 passengers, only 342 passengers survived and a whopping 549 passengers died. Or put another way, 61.62% passengers died while just 38.38% of passengers were lucky enough to survive."
   ]
  },
  {
   "cell_type": "markdown",
   "metadata": {
    "_uuid": "ef501e0c630009002ecfe37264e09531c26addb8"
   },
   "source": [
    "### 4.1.2 Sex <a id=\"4.1.2\"></a>"
   ]
  },
  {
   "cell_type": "code",
   "execution_count": 23,
   "metadata": {
    "_uuid": "54bcdc6d485ba71fc046b238bddeb59d45419e6d"
   },
   "outputs": [
    {
     "name": "stdout",
     "output_type": "stream",
     "text": [
      "Absolute & Relative Frequency of Sex :\n"
     ]
    },
    {
     "data": {
      "text/html": [
       "<div>\n",
       "<style scoped>\n",
       "    .dataframe tbody tr th:only-of-type {\n",
       "        vertical-align: middle;\n",
       "    }\n",
       "\n",
       "    .dataframe tbody tr th {\n",
       "        vertical-align: top;\n",
       "    }\n",
       "\n",
       "    .dataframe thead th {\n",
       "        text-align: right;\n",
       "    }\n",
       "</style>\n",
       "<table border=\"1\" class=\"dataframe\">\n",
       "  <thead>\n",
       "    <tr style=\"text-align: right;\">\n",
       "      <th></th>\n",
       "      <th>Absolute Frequency</th>\n",
       "      <th>Relative Frequency(%)</th>\n",
       "    </tr>\n",
       "  </thead>\n",
       "  <tbody>\n",
       "    <tr>\n",
       "      <th>male</th>\n",
       "      <td>843</td>\n",
       "      <td>64.4</td>\n",
       "    </tr>\n",
       "    <tr>\n",
       "      <th>female</th>\n",
       "      <td>466</td>\n",
       "      <td>35.6</td>\n",
       "    </tr>\n",
       "  </tbody>\n",
       "</table>\n",
       "</div>"
      ],
      "text/plain": [
       "        Absolute Frequency  Relative Frequency(%)\n",
       "male                   843                   64.4\n",
       "female                 466                   35.6"
      ]
     },
     "metadata": {},
     "output_type": "display_data"
    },
    {
     "data": {
      "image/png": "[encoded data removed]",
      "text/plain": [
       "<Figure size 1296x360 with 1 Axes>"
      ]
     },
     "metadata": {},
     "output_type": "display_data"
    },
    {
     "data": {
      "image/png": "[encoded data removed]",
      "text/plain": [
       "<Figure size 1296x360 with 1 Axes>"
      ]
     },
     "metadata": {},
     "output_type": "display_data"
    }
   ],
   "source": [
    "'''Plot and count the absolute and relative frequency of Sex.'''\n",
    "absolute_and_relative_freq(merged.Sex)"
   ]
  },
  {
   "cell_type": "markdown",
   "metadata": {
    "_uuid": "c86ccb1eda056015b18df36fdf6ccd0b57cbb416"
   },
   "source": [
    "**Findings:** Variable Sex is imbalanced as proportion of male vs female in its distribution are not equally represented. Rather Male(843) has outnumbered female (466) in variable Sex. Or, proportionally, over 64% of Sex variable consists of label male while female contibutes to only over 35.5% of Sex.\n",
    "\n",
    "### 4.1.3 Pclass  <a id=\"4.1.3\"></a>"
   ]
  },
  {
   "cell_type": "code",
   "execution_count": 24,
   "metadata": {
    "_uuid": "3946fb895aa1c130a7dde5c4220488fada44d063"
   },
   "outputs": [
    {
     "name": "stdout",
     "output_type": "stream",
     "text": [
      "Absolute & Relative Frequency of Pclass :\n"
     ]
    },
    {
     "data": {
      "text/html": [
       "<div>\n",
       "<style scoped>\n",
       "    .dataframe tbody tr th:only-of-type {\n",
       "        vertical-align: middle;\n",
       "    }\n",
       "\n",
       "    .dataframe tbody tr th {\n",
       "        vertical-align: top;\n",
       "    }\n",
       "\n",
       "    .dataframe thead th {\n",
       "        text-align: right;\n",
       "    }\n",
       "</style>\n",
       "<table border=\"1\" class=\"dataframe\">\n",
       "  <thead>\n",
       "    <tr style=\"text-align: right;\">\n",
       "      <th></th>\n",
       "      <th>Absolute Frequency</th>\n",
       "      <th>Relative Frequency(%)</th>\n",
       "    </tr>\n",
       "  </thead>\n",
       "  <tbody>\n",
       "    <tr>\n",
       "      <th>3</th>\n",
       "      <td>709</td>\n",
       "      <td>54.16</td>\n",
       "    </tr>\n",
       "    <tr>\n",
       "      <th>1</th>\n",
       "      <td>323</td>\n",
       "      <td>24.68</td>\n",
       "    </tr>\n",
       "    <tr>\n",
       "      <th>2</th>\n",
       "      <td>277</td>\n",
       "      <td>21.16</td>\n",
       "    </tr>\n",
       "  </tbody>\n",
       "</table>\n",
       "</div>"
      ],
      "text/plain": [
       "   Absolute Frequency  Relative Frequency(%)\n",
       "3                 709                  54.16\n",
       "1                 323                  24.68\n",
       "2                 277                  21.16"
      ]
     },
     "metadata": {},
     "output_type": "display_data"
    },
    {
     "data": {
      "image/png": "[encoded data removed]",
      "text/plain": [
       "<Figure size 1296x360 with 1 Axes>"
      ]
     },
     "metadata": {},
     "output_type": "display_data"
    },
    {
     "data": {
      "image/png": "[encoded data removed]",
      "text/plain": [
       "<Figure size 1296x360 with 1 Axes>"
      ]
     },
     "metadata": {},
     "output_type": "display_data"
    }
   ],
   "source": [
    "'''Plot and count the absolute and relative frequency of Pclass.'''\n",
    "absolute_and_relative_freq(merged.Pclass)"
   ]
  },
  {
   "cell_type": "markdown",
   "metadata": {
    "_uuid": "ad5bdee2d8143ae670c497271a0bc938fa9a53a1"
   },
   "source": [
    "**Findings:** Again class distribution of Pclass is imbalanced as three categories of Pclass are not evenly represented in its distribution. 3 (Pclass3) is the most occured (709) levels of Pclass while 2 is the least occured (277). Another way of saying that, over  54% of Pclass variable consists of 3(Pclass3) while 1 and 2 both combinedly contribute to nearly 46% of Pclass.\n",
    "\n",
    "### 4.1.4 Embarked  <a id=\"4.1.4\"></a>"
   ]
  },
  {
   "cell_type": "code",
   "execution_count": 25,
   "metadata": {
    "_uuid": "9dff295fa666312b1458e25044aaa4af49d2c315"
   },
   "outputs": [
    {
     "name": "stdout",
     "output_type": "stream",
     "text": [
      "Absolute & Relative Frequency of Embarked :\n"
     ]
    },
    {
     "data": {
      "text/html": [
       "<div>\n",
       "<style scoped>\n",
       "    .dataframe tbody tr th:only-of-type {\n",
       "        vertical-align: middle;\n",
       "    }\n",
       "\n",
       "    .dataframe tbody tr th {\n",
       "        vertical-align: top;\n",
       "    }\n",
       "\n",
       "    .dataframe thead th {\n",
       "        text-align: right;\n",
       "    }\n",
       "</style>\n",
       "<table border=\"1\" class=\"dataframe\">\n",
       "  <thead>\n",
       "    <tr style=\"text-align: right;\">\n",
       "      <th></th>\n",
       "      <th>Absolute Frequency</th>\n",
       "      <th>Relative Frequency(%)</th>\n",
       "    </tr>\n",
       "  </thead>\n",
       "  <tbody>\n",
       "    <tr>\n",
       "      <th>S</th>\n",
       "      <td>914</td>\n",
       "      <td>69.93</td>\n",
       "    </tr>\n",
       "    <tr>\n",
       "      <th>C</th>\n",
       "      <td>270</td>\n",
       "      <td>20.66</td>\n",
       "    </tr>\n",
       "    <tr>\n",
       "      <th>Q</th>\n",
       "      <td>123</td>\n",
       "      <td>9.41</td>\n",
       "    </tr>\n",
       "  </tbody>\n",
       "</table>\n",
       "</div>"
      ],
      "text/plain": [
       "   Absolute Frequency  Relative Frequency(%)\n",
       "S                 914                  69.93\n",
       "C                 270                  20.66\n",
       "Q                 123                   9.41"
      ]
     },
     "metadata": {},
     "output_type": "display_data"
    },
    {
     "data": {
      "image/png": "[encoded data removed]",
      "text/plain": [
       "<Figure size 1296x360 with 1 Axes>"
      ]
     },
     "metadata": {},
     "output_type": "display_data"
    },
    {
     "data": {
      "image/png": "[encoded data removed]",
      "text/plain": [
       "<Figure size 1296x360 with 1 Axes>"
      ]
     },
     "metadata": {},
     "output_type": "display_data"
    }
   ],
   "source": [
    "'''Plot and count the absolute and relative frequency of Embarked.'''\n",
    "absolute_and_relative_freq(merged.Embarked)"
   ]
  },
  {
   "cell_type": "markdown",
   "metadata": {
    "_uuid": "5283bd749d7303e5a5b553301628b2c70b8b0da3"
   },
   "source": [
    "**Findings:** Embarked is also imbalanced since its levels are not equally represented in its distribution. A whopping 914 passengers embarked from Southamton while just 123 embarked from Queenstown. In other words, almost 70% of Embarked consists of S while both C and Q contribute to 30 to Embarked.\n",
    "\n",
    "### 4.1.5 Cabin <a id=\"4.1.5\"></a>"
   ]
  },
  {
   "cell_type": "code",
   "execution_count": 26,
   "metadata": {
    "_uuid": "407136f08fee46cf8b79acf0e2a3b38633e5b785"
   },
   "outputs": [
    {
     "data": {
      "text/markdown": [
       "**Categories of Cabin:**"
      ],
      "text/plain": [
       "<IPython.core.display.Markdown object>"
      ]
     },
     "metadata": {},
     "output_type": "display_data"
    },
    {
     "data": {
      "text/plain": [
       "NaN                1014\n",
       "C23 C25 C27           6\n",
       "B57 B59 B63 B66       5\n",
       "G6                    5\n",
       "F2                    4\n",
       "Name: Cabin, dtype: int64"
      ]
     },
     "metadata": {},
     "output_type": "display_data"
    },
    {
     "data": {
      "text/markdown": [
       "**Total Categories in Cabin:**"
      ],
      "text/plain": [
       "<IPython.core.display.Markdown object>"
      ]
     },
     "metadata": {},
     "output_type": "display_data"
    },
    {
     "data": {
      "text/plain": [
       "187"
      ]
     },
     "metadata": {},
     "output_type": "display_data"
    },
    {
     "data": {
      "text/markdown": [
       "**Preview of Cabin:**"
      ],
      "text/plain": [
       "<IPython.core.display.Markdown object>"
      ]
     },
     "metadata": {},
     "output_type": "display_data"
    },
    {
     "data": {
      "text/plain": [
       "0     NaN\n",
       "1     C85\n",
       "2     NaN\n",
       "3    C123\n",
       "4     NaN\n",
       "5     NaN\n",
       "6     E46\n",
       "Name: Cabin, dtype: object"
      ]
     },
     "metadata": {},
     "output_type": "display_data"
    }
   ],
   "source": [
    "'''Absolute frequency of Cabin.'''\n",
    "abs_freq_cabin = merged.Cabin.value_counts(dropna = False)\n",
    "bold('**Categories of Cabin:**')\n",
    "display(abs_freq_cabin.head())\n",
    "\n",
    "\"\"\"As frequency of Cabin isn't what we expected, let's count total categories in Cabin.\"\"\"\n",
    "bold('**Total Categories in Cabin:**')\n",
    "display(abs_freq_cabin.count())\n",
    "\n",
    "'''Finally preview the variable Cabin to see what is causing the irregularity.'''\n",
    "bold('**Preview of Cabin:**')\n",
    "display(merged.Cabin.head(7))"
   ]
  },
  {
   "cell_type": "markdown",
   "metadata": {
    "_uuid": "9818a6f93c68eceed83222e014e1580a17c6ff0a"
   },
   "source": [
    "**Findings:** Looks like Cabin is alphanumeric type variable with 1014 missing obsevations. There are 187 kinds of categories in variable Cabin. Since there are too many categories in Cabin, we must process (i.e., reduce the number of categories) Cabin to check if there is any association between Survived and Cabin.\n",
    "\n",
    "### 4.1.6 Name <a id=\"4.1.6\"></a>"
   ]
  },
  {
   "cell_type": "code",
   "execution_count": 27,
   "metadata": {
    "_uuid": "b8ba3e91f2ab6c505bbc14924b1150cd93b72dfb"
   },
   "outputs": [
    {
     "data": {
      "text/markdown": [
       "**Total Categories in Name:**"
      ],
      "text/plain": [
       "<IPython.core.display.Markdown object>"
      ]
     },
     "metadata": {},
     "output_type": "display_data"
    },
    {
     "data": {
      "text/plain": [
       "1307"
      ]
     },
     "metadata": {},
     "output_type": "display_data"
    },
    {
     "data": {
      "text/markdown": [
       "**Preview Name:**"
      ],
      "text/plain": [
       "<IPython.core.display.Markdown object>"
      ]
     },
     "metadata": {},
     "output_type": "display_data"
    },
    {
     "data": {
      "text/plain": [
       "0                              Braund, Mr. Owen Harris\n",
       "1    Cumings, Mrs. John Bradley (Florence Briggs Th...\n",
       "2                               Heikkinen, Miss. Laina\n",
       "3         Futrelle, Mrs. Jacques Heath (Lily May Peel)\n",
       "4                             Allen, Mr. William Henry\n",
       "Name: Name, dtype: object"
      ]
     },
     "metadata": {},
     "output_type": "display_data"
    }
   ],
   "source": [
    "'''Count total categories in Name.'''\n",
    "bold('**Total Categories in Name:**')\n",
    "display(merged.Name.value_counts().count())\n",
    "\n",
    "\"\"\"Let's finally check the what's inside the variable Name.\"\"\"\n",
    "bold('**Preview Name:**')\n",
    "display(merged.Name.head())"
   ]
  },
  {
   "cell_type": "markdown",
   "metadata": {
    "_uuid": "809f2a08e83acfe836f2d32973d8514f48163511"
   },
   "source": [
    "**Findings:** As expected Name contains strings that has 1307 variations. So, like Cabin, we must process Name to get any clue about survival from it.\n",
    "\n",
    "### 4.1.7 Ticket  <a id=\"4.1.7\"></a>"
   ]
  },
  {
   "cell_type": "code",
   "execution_count": 28,
   "metadata": {
    "_uuid": "a6aba97b051f615ec701a2e558d2c48ad6579811"
   },
   "outputs": [
    {
     "data": {
      "text/markdown": [
       "**Total Groups in Ticket:**"
      ],
      "text/plain": [
       "<IPython.core.display.Markdown object>"
      ]
     },
     "metadata": {},
     "output_type": "display_data"
    },
    {
     "data": {
      "text/plain": [
       "929"
      ]
     },
     "metadata": {},
     "output_type": "display_data"
    },
    {
     "data": {
      "text/markdown": [
       "**Preview of Ticket:**"
      ],
      "text/plain": [
       "<IPython.core.display.Markdown object>"
      ]
     },
     "metadata": {},
     "output_type": "display_data"
    },
    {
     "data": {
      "text/plain": [
       "0           A/5 21171\n",
       "1            PC 17599\n",
       "2    STON/O2. 3101282\n",
       "3              113803\n",
       "4              373450\n",
       "Name: Ticket, dtype: object"
      ]
     },
     "metadata": {},
     "output_type": "display_data"
    }
   ],
   "source": [
    "'''Count total groups in variable Ticket.'''\n",
    "bold('**Total Groups in Ticket:**')\n",
    "display(merged.Ticket.value_counts().count())\n",
    "\n",
    "'''Lets investigate Ticket.'''\n",
    "bold('**Preview of Ticket:**')\n",
    "display(merged.Ticket.head())"
   ]
  },
  {
   "cell_type": "markdown",
   "metadata": {
    "_uuid": "bcb800d93b821fc3c9455959ed0cfd204e7f5c00"
   },
   "source": [
    "**Findings:** It seems Ticket also has too many unique categories (929). Being an alphanumeric type variable, we must process Ticket to get any useful insights about survival.\n",
    "\n",
    "### 4.1.8 SibSp  <a id=\"4.1.8\"></a>"
   ]
  },
  {
   "cell_type": "code",
   "execution_count": 29,
   "metadata": {
    "_uuid": "3965bba9c08874b96c07d85bd85b5238db59350c"
   },
   "outputs": [
    {
     "name": "stdout",
     "output_type": "stream",
     "text": [
      "Absolute & Relative Frequency of SibSp :\n"
     ]
    },
    {
     "data": {
      "text/html": [
       "<div>\n",
       "<style scoped>\n",
       "    .dataframe tbody tr th:only-of-type {\n",
       "        vertical-align: middle;\n",
       "    }\n",
       "\n",
       "    .dataframe tbody tr th {\n",
       "        vertical-align: top;\n",
       "    }\n",
       "\n",
       "    .dataframe thead th {\n",
       "        text-align: right;\n",
       "    }\n",
       "</style>\n",
       "<table border=\"1\" class=\"dataframe\">\n",
       "  <thead>\n",
       "    <tr style=\"text-align: right;\">\n",
       "      <th></th>\n",
       "      <th>Absolute Frequency</th>\n",
       "      <th>Relative Frequency(%)</th>\n",
       "    </tr>\n",
       "  </thead>\n",
       "  <tbody>\n",
       "    <tr>\n",
       "      <th>0</th>\n",
       "      <td>891</td>\n",
       "      <td>68.07</td>\n",
       "    </tr>\n",
       "    <tr>\n",
       "      <th>1</th>\n",
       "      <td>319</td>\n",
       "      <td>24.37</td>\n",
       "    </tr>\n",
       "    <tr>\n",
       "      <th>2</th>\n",
       "      <td>42</td>\n",
       "      <td>3.21</td>\n",
       "    </tr>\n",
       "    <tr>\n",
       "      <th>4</th>\n",
       "      <td>22</td>\n",
       "      <td>1.68</td>\n",
       "    </tr>\n",
       "    <tr>\n",
       "      <th>3</th>\n",
       "      <td>20</td>\n",
       "      <td>1.53</td>\n",
       "    </tr>\n",
       "    <tr>\n",
       "      <th>8</th>\n",
       "      <td>9</td>\n",
       "      <td>0.69</td>\n",
       "    </tr>\n",
       "    <tr>\n",
       "      <th>5</th>\n",
       "      <td>6</td>\n",
       "      <td>0.46</td>\n",
       "    </tr>\n",
       "  </tbody>\n",
       "</table>\n",
       "</div>"
      ],
      "text/plain": [
       "   Absolute Frequency  Relative Frequency(%)\n",
       "0                 891                  68.07\n",
       "1                 319                  24.37\n",
       "2                  42                   3.21\n",
       "4                  22                   1.68\n",
       "3                  20                   1.53\n",
       "8                   9                   0.69\n",
       "5                   6                   0.46"
      ]
     },
     "metadata": {},
     "output_type": "display_data"
    },
    {
     "data": {
      "image/png": "[encoded data removed]",
      "text/plain": [
       "<Figure size 1296x360 with 1 Axes>"
      ]
     },
     "metadata": {},
     "output_type": "display_data"
    },
    {
     "data": {
      "image/png": "[encoded data removed]",
      "text/plain": [
       "<Figure size 1296x360 with 1 Axes>"
      ]
     },
     "metadata": {},
     "output_type": "display_data"
    }
   ],
   "source": [
    "'''Plot and count the absolute and relative frequency of SibSp.'''\n",
    "absolute_and_relative_freq(merged.SibSp)"
   ]
  },
  {
   "cell_type": "markdown",
   "metadata": {
    "_uuid": "95493a5aabfdb4cc908d636eb657e7bb7525a6a1"
   },
   "source": [
    "**Findings:** Once again, SibSp is not balanced as levels of SibSp(7) are not equally represented in its distribution. 891 passengers were without siblings or spouses. Put another way, over 68% passengers had no siblings or spouses aboard, followed by over 24% passengers had 1 siblings or spouse.\n",
    "\n",
    "### 4.1.9 Parch  <a id=\"4.1.9\"></a>"
   ]
  },
  {
   "cell_type": "code",
   "execution_count": 30,
   "metadata": {
    "_uuid": "d29f2e873b497b062e6e3f14e1b7d3c89a2a6677"
   },
   "outputs": [
    {
     "name": "stdout",
     "output_type": "stream",
     "text": [
      "Absolute & Relative Frequency of Parch :\n"
     ]
    },
    {
     "data": {
      "text/html": [
       "<div>\n",
       "<style scoped>\n",
       "    .dataframe tbody tr th:only-of-type {\n",
       "        vertical-align: middle;\n",
       "    }\n",
       "\n",
       "    .dataframe tbody tr th {\n",
       "        vertical-align: top;\n",
       "    }\n",
       "\n",
       "    .dataframe thead th {\n",
       "        text-align: right;\n",
       "    }\n",
       "</style>\n",
       "<table border=\"1\" class=\"dataframe\">\n",
       "  <thead>\n",
       "    <tr style=\"text-align: right;\">\n",
       "      <th></th>\n",
       "      <th>Absolute Frequency</th>\n",
       "      <th>Relative Frequency(%)</th>\n",
       "    </tr>\n",
       "  </thead>\n",
       "  <tbody>\n",
       "    <tr>\n",
       "      <th>0</th>\n",
       "      <td>1002</td>\n",
       "      <td>76.55</td>\n",
       "    </tr>\n",
       "    <tr>\n",
       "      <th>1</th>\n",
       "      <td>170</td>\n",
       "      <td>12.99</td>\n",
       "    </tr>\n",
       "    <tr>\n",
       "      <th>2</th>\n",
       "      <td>113</td>\n",
       "      <td>8.63</td>\n",
       "    </tr>\n",
       "    <tr>\n",
       "      <th>3</th>\n",
       "      <td>8</td>\n",
       "      <td>0.61</td>\n",
       "    </tr>\n",
       "    <tr>\n",
       "      <th>5</th>\n",
       "      <td>6</td>\n",
       "      <td>0.46</td>\n",
       "    </tr>\n",
       "    <tr>\n",
       "      <th>4</th>\n",
       "      <td>6</td>\n",
       "      <td>0.46</td>\n",
       "    </tr>\n",
       "    <tr>\n",
       "      <th>9</th>\n",
       "      <td>2</td>\n",
       "      <td>0.15</td>\n",
       "    </tr>\n",
       "    <tr>\n",
       "      <th>6</th>\n",
       "      <td>2</td>\n",
       "      <td>0.15</td>\n",
       "    </tr>\n",
       "  </tbody>\n",
       "</table>\n",
       "</div>"
      ],
      "text/plain": [
       "   Absolute Frequency  Relative Frequency(%)\n",
       "0                1002                  76.55\n",
       "1                 170                  12.99\n",
       "2                 113                   8.63\n",
       "3                   8                   0.61\n",
       "5                   6                   0.46\n",
       "4                   6                   0.46\n",
       "9                   2                   0.15\n",
       "6                   2                   0.15"
      ]
     },
     "metadata": {},
     "output_type": "display_data"
    },
    {
     "data": {
      "image/png": "[encoded data removed]",
      "text/plain": [
       "<Figure size 1296x360 with 1 Axes>"
      ]
     },
     "metadata": {},
     "output_type": "display_data"
    },
    {
     "data": {
      "image/png": "[encoded data removed]",
      "text/plain": [
       "<Figure size 1296x360 with 1 Axes>"
      ]
     },
     "metadata": {},
     "output_type": "display_data"
    }
   ],
   "source": [
    "'''Plot and count the absolute and relative frequency of Parch.'''\n",
    "absolute_and_relative_freq(merged.Parch)"
   ]
  },
  {
   "cell_type": "markdown",
   "metadata": {
    "_uuid": "a8e7bceb71bf47b6b50584d7c3316bd067cb627c"
   },
   "source": [
    "**Findings:** Parch isn't balanced as levels of Parch(8) are not equally represented in its distribution. Over one thousand passengers were without parents or children, followed by 170 passengers had one parents or children. In other words, over 76.5% passengers were without parents or children while rest of the 23.5% had few parents or children.\n",
    "\n",
    "## 4.2 Numerical Variables <a id=\"4.2\"></a>\n",
    "We would like to analyse numerical variables using histogram, density plot, and summary statistics."
   ]
  },
  {
   "cell_type": "code",
   "execution_count": 31,
   "metadata": {
    "_uuid": "33b42eb1344dfe45010608c37df7af1554ed2317"
   },
   "outputs": [],
   "source": [
    "'''To analyse numerical variables, we will create three custom functions.\n",
    "The 1st one will plot histogram for each numerical variable. The 2nd function will plot kernel density plot.And the third one will calculate skewness and '''\n",
    "\n",
    "'''#1.Plot histogram.'''\n",
    "def histogram(variable):\n",
    "    global ax\n",
    "    font_size = 15\n",
    "    fig_size = (18, 7)\n",
    "    title_size = 18\n",
    "    ax = variable.plot.hist(figsize = fig_size)\n",
    "    plt.xlabel('%s' %variable.name, fontsize = font_size)\n",
    "    plt.xticks(fontsize = font_size)\n",
    "    plt.title('%s' %variable.name + ' Distribution with Histogram', fontsize = title_size)\n",
    "    abs_bar_labels()\n",
    "    plt.show()\n",
    "    \n",
    "'''#2.Plot density plot .'''\n",
    "def density_plot(variable):\n",
    "    fig_size = (18, 7)\n",
    "    font_size = 15\n",
    "    title_size = 18\n",
    "    plt.figure(figsize = fig_size)\n",
    "    variable.plot.hist(density = True)\n",
    "    variable.plot.kde(style = 'k--')\n",
    "    plt.xlabel('%s'%variable.name, fontsize = font_size)\n",
    "    plt.ylabel('Density', fontsize = font_size)\n",
    "    plt.xticks(fontsize = font_size)\n",
    "    plt.yticks(fontsize = font_size)\n",
    "    plt.title('%s ' %variable.name + 'Distribution with Density Plot & Histogram', fontsize = title_size)\n",
    "    plt.show()\n",
    "    \n",
    "'''#3.Calculate descriptive statistics.'''\n",
    "def summary_stats(variable):\n",
    "    stats = variable.describe()\n",
    "    skew = pd.Series(variable.skew(), index = ['skewness'])\n",
    "    df_stats = pd.DataFrame(pd.concat([skew, stats], sort = False), columns = [variable.name])\n",
    "    df_stats.index.name = 'Stats'\n",
    "    display(df_stats)"
   ]
  },
  {
   "cell_type": "markdown",
   "metadata": {
    "_uuid": "f2d944c374ce3d6810e043303ae27d7c3dcc0c44"
   },
   "source": [
    "### 4.2.1 Fare <a id=\"4.2.1\"></a>"
   ]
  },
  {
   "cell_type": "code",
   "execution_count": 32,
   "metadata": {
    "_uuid": "efe7675609276198381fff0092a4ccac88b9fc5e"
   },
   "outputs": [
    {
     "data": {
      "image/png": "[encoded data removed]",
      "text/plain": [
       "<Figure size 1296x504 with 1 Axes>"
      ]
     },
     "metadata": {},
     "output_type": "display_data"
    }
   ],
   "source": [
    "'''Plot histogram of Fare.'''\n",
    "histogram(merged.Fare)"
   ]
  },
  {
   "cell_type": "markdown",
   "metadata": {
    "_uuid": "f7199b0938a3e40c4d7d1a283ff3cca389f42d13"
   },
   "source": [
    "**Reading the histogram, it's clear that Fare's distribution has a high positive skewness. And it seems most of the passengers (1070) paid for fare between 0 to 51, followed by 51 to 102.**\n",
    "\n",
    "There is also another, often clearer, way to grasp the distribution: density plots or, more formally, Kernel Density Plots. They can be considered a smoothed version of the histogram. One advantage of density plot over histogram is that its shape of distribution isn't affected by the number of bins used."
   ]
  },
  {
   "cell_type": "code",
   "execution_count": 33,
   "metadata": {
    "_uuid": "c90783c6fd00213272a228c92270689a8afefca5"
   },
   "outputs": [
    {
     "data": {
      "image/png": "[encoded data removed]",
      "text/plain": [
       "<Figure size 1296x504 with 1 Axes>"
      ]
     },
     "metadata": {},
     "output_type": "display_data"
    }
   ],
   "source": [
    "'''Plot density plot of Fare.'''\n",
    "density_plot(merged.Fare)"
   ]
  },
  {
   "cell_type": "code",
   "execution_count": 34,
   "metadata": {
    "_uuid": "e49c7b359aa425f37afeea76cba7d37a33213eea"
   },
   "outputs": [
    {
     "data": {
      "text/markdown": [
       "**Summary Stats of Fare:**"
      ],
      "text/plain": [
       "<IPython.core.display.Markdown object>"
      ]
     },
     "metadata": {},
     "output_type": "display_data"
    },
    {
     "data": {
      "text/html": [
       "<div>\n",
       "<style scoped>\n",
       "    .dataframe tbody tr th:only-of-type {\n",
       "        vertical-align: middle;\n",
       "    }\n",
       "\n",
       "    .dataframe tbody tr th {\n",
       "        vertical-align: top;\n",
       "    }\n",
       "\n",
       "    .dataframe thead th {\n",
       "        text-align: right;\n",
       "    }\n",
       "</style>\n",
       "<table border=\"1\" class=\"dataframe\">\n",
       "  <thead>\n",
       "    <tr style=\"text-align: right;\">\n",
       "      <th></th>\n",
       "      <th>Fare</th>\n",
       "    </tr>\n",
       "    <tr>\n",
       "      <th>Stats</th>\n",
       "      <th></th>\n",
       "    </tr>\n",
       "  </thead>\n",
       "  <tbody>\n",
       "    <tr>\n",
       "      <th>skewness</th>\n",
       "      <td>4.367709</td>\n",
       "    </tr>\n",
       "    <tr>\n",
       "      <th>count</th>\n",
       "      <td>1308.000000</td>\n",
       "    </tr>\n",
       "    <tr>\n",
       "      <th>mean</th>\n",
       "      <td>33.295479</td>\n",
       "    </tr>\n",
       "    <tr>\n",
       "      <th>std</th>\n",
       "      <td>51.758668</td>\n",
       "    </tr>\n",
       "    <tr>\n",
       "      <th>min</th>\n",
       "      <td>0.000000</td>\n",
       "    </tr>\n",
       "    <tr>\n",
       "      <th>25%</th>\n",
       "      <td>7.895800</td>\n",
       "    </tr>\n",
       "    <tr>\n",
       "      <th>50%</th>\n",
       "      <td>14.454200</td>\n",
       "    </tr>\n",
       "    <tr>\n",
       "      <th>75%</th>\n",
       "      <td>31.275000</td>\n",
       "    </tr>\n",
       "    <tr>\n",
       "      <th>max</th>\n",
       "      <td>512.329200</td>\n",
       "    </tr>\n",
       "  </tbody>\n",
       "</table>\n",
       "</div>"
      ],
      "text/plain": [
       "                 Fare\n",
       "Stats                \n",
       "skewness     4.367709\n",
       "count     1308.000000\n",
       "mean        33.295479\n",
       "std         51.758668\n",
       "min          0.000000\n",
       "25%          7.895800\n",
       "50%         14.454200\n",
       "75%         31.275000\n",
       "max        512.329200"
      ]
     },
     "metadata": {},
     "output_type": "display_data"
    }
   ],
   "source": [
    "'''Calculate summary statistics of Fare.'''\n",
    "bold('**Summary Stats of Fare:**')\n",
    "summary_stats(merged.Fare)"
   ]
  },
  {
   "cell_type": "markdown",
   "metadata": {
    "_uuid": "f04ef5ba3500c081b352de028358791ea85b8dea"
   },
   "source": [
    "**So what does the  value of skewness suggest?**\n",
    "1. If skewness is less than −1 or greater than +1, the distribution can be considered as highly skewed.\n",
    "2. If skewness is between −1 and −½ or between +½ and +1, the distribution can be considered as moderately skewed.\n",
    "3. And finally if skewness is between −½ and +½, the distribution can be considered as approximately symmetric.    \n",
    "\n",
    "**Findings:** Density plot shows the mass of the distribution of Fare is heavily concentrated on the left of the figure due to very long tail on the right side. So it can be said that Fare is substantially skewed(positively) that is also supported by the calculated positive value of skewness of 4.368\n",
    "\n",
    "### 4.2.2 Age <a id=\"4.2.2\"></a>"
   ]
  },
  {
   "cell_type": "code",
   "execution_count": 35,
   "metadata": {
    "_uuid": "5d56dd23634eed6ef16bd2befeb6570910ed2422"
   },
   "outputs": [
    {
     "data": {
      "image/png": "[encoded data removed]",
      "text/plain": [
       "<Figure size 1296x504 with 1 Axes>"
      ]
     },
     "metadata": {},
     "output_type": "display_data"
    }
   ],
   "source": [
    "'''Plot histogram of Age.'''\n",
    "histogram(merged.Age)"
   ]
  },
  {
   "cell_type": "markdown",
   "metadata": {
    "_uuid": "7c37fc50432dcacd33c90895ced38f6793388266"
   },
   "source": [
    "**At first glance, Age seems to be positively skewed (slightly). 344 passengers' age is between 20 to 30(not including 30). And passengers between age 70 to 80(including 80 = 8) were the least.**"
   ]
  },
  {
   "cell_type": "code",
   "execution_count": 36,
   "metadata": {
    "_uuid": "15904f7a86b9ae8bdca29013aeb7df145732aa8b"
   },
   "outputs": [
    {
     "data": {
      "image/png": "[encoded data removed]",
      "text/plain": [
       "<Figure size 1296x504 with 1 Axes>"
      ]
     },
     "metadata": {},
     "output_type": "display_data"
    },
    {
     "data": {
      "text/markdown": [
       "**Summary Stats of Age:**"
      ],
      "text/plain": [
       "<IPython.core.display.Markdown object>"
      ]
     },
     "metadata": {},
     "output_type": "display_data"
    },
    {
     "data": {
      "text/html": [
       "<div>\n",
       "<style scoped>\n",
       "    .dataframe tbody tr th:only-of-type {\n",
       "        vertical-align: middle;\n",
       "    }\n",
       "\n",
       "    .dataframe tbody tr th {\n",
       "        vertical-align: top;\n",
       "    }\n",
       "\n",
       "    .dataframe thead th {\n",
       "        text-align: right;\n",
       "    }\n",
       "</style>\n",
       "<table border=\"1\" class=\"dataframe\">\n",
       "  <thead>\n",
       "    <tr style=\"text-align: right;\">\n",
       "      <th></th>\n",
       "      <th>Age</th>\n",
       "    </tr>\n",
       "    <tr>\n",
       "      <th>Stats</th>\n",
       "      <th></th>\n",
       "    </tr>\n",
       "  </thead>\n",
       "  <tbody>\n",
       "    <tr>\n",
       "      <th>skewness</th>\n",
       "      <td>0.407675</td>\n",
       "    </tr>\n",
       "    <tr>\n",
       "      <th>count</th>\n",
       "      <td>1046.000000</td>\n",
       "    </tr>\n",
       "    <tr>\n",
       "      <th>mean</th>\n",
       "      <td>29.881138</td>\n",
       "    </tr>\n",
       "    <tr>\n",
       "      <th>std</th>\n",
       "      <td>14.413493</td>\n",
       "    </tr>\n",
       "    <tr>\n",
       "      <th>min</th>\n",
       "      <td>0.170000</td>\n",
       "    </tr>\n",
       "    <tr>\n",
       "      <th>25%</th>\n",
       "      <td>21.000000</td>\n",
       "    </tr>\n",
       "    <tr>\n",
       "      <th>50%</th>\n",
       "      <td>28.000000</td>\n",
       "    </tr>\n",
       "    <tr>\n",
       "      <th>75%</th>\n",
       "      <td>39.000000</td>\n",
       "    </tr>\n",
       "    <tr>\n",
       "      <th>max</th>\n",
       "      <td>80.000000</td>\n",
       "    </tr>\n",
       "  </tbody>\n",
       "</table>\n",
       "</div>"
      ],
      "text/plain": [
       "                  Age\n",
       "Stats                \n",
       "skewness     0.407675\n",
       "count     1046.000000\n",
       "mean        29.881138\n",
       "std         14.413493\n",
       "min          0.170000\n",
       "25%         21.000000\n",
       "50%         28.000000\n",
       "75%         39.000000\n",
       "max         80.000000"
      ]
     },
     "metadata": {},
     "output_type": "display_data"
    }
   ],
   "source": [
    "'''Plot density plot of Age and calculate summary statistics.'''\n",
    "density_plot(merged.Age)\n",
    "bold('**Summary Stats of Age:**')\n",
    "summary_stats(merged.Age)"
   ]
  },
  {
   "cell_type": "markdown",
   "metadata": {
    "_uuid": "05b03838978177410381330e0302195f7e573d94"
   },
   "source": [
    "**Findings:** What we can see from the density plot is that the mass of the distribution of Age is slightly concentrated on the left of the figure due to comparatively long tail on the right side. So it can be said that Age is almost normally distributed since the tail on the both sides are almost equal and it has a small value of positive skewness of 0.40767 (in between -0.5 to 0.5). So it can be said that Age is almost normally distributed.\n",
    "\n",
    "### 4.2.3 PassengerId <a id=\"4.2.3\"></a>"
   ]
  },
  {
   "cell_type": "code",
   "execution_count": 37,
   "metadata": {
    "_uuid": "f90f4e241670f059e1d8a58d788cd9248cfe1720"
   },
   "outputs": [
    {
     "data": {
      "text/plain": [
       "0    1\n",
       "1    2\n",
       "2    3\n",
       "3    4\n",
       "4    5\n",
       "Name: PassengerId, dtype: int64"
      ]
     },
     "metadata": {},
     "output_type": "display_data"
    }
   ],
   "source": [
    "'''What does passengerId contain?'''\n",
    "display(merged.PassengerId.head())"
   ]
  },
  {
   "cell_type": "markdown",
   "metadata": {
    "_uuid": "6150b2106a32793ed00a6755c5acf79d1db5d65e"
   },
   "source": [
    "**Findings:** PassengersId is an unique identity number (positive integer) assigned to each passenger.\n",
    "\n",
    "# 5.Feature Engineering <a id=\"5\"></a>\n",
    "In this section, we would either modify or create new features from the exsisting features which are otherwise hard to analyse in their raw forms that we saw in Univariate Analysis section. We would engineer features like Cabin, Name, SibSp & Parch, and Ticket that could tell us something about survival or death once they're processed.\n",
    "\n",
    "## 5.1 Process Cabin <a id=\"5.1\"></a>"
   ]
  },
  {
   "cell_type": "code",
   "execution_count": 38,
   "metadata": {
    "_uuid": "feb05ddaba865d16f94999b63c723dc7d8c862d0"
   },
   "outputs": [
    {
     "data": {
      "text/markdown": [
       "**Preview of Cabin:**"
      ],
      "text/plain": [
       "<IPython.core.display.Markdown object>"
      ]
     },
     "metadata": {},
     "output_type": "display_data"
    },
    {
     "data": {
      "text/plain": [
       "0     NaN\n",
       "1     C85\n",
       "2     NaN\n",
       "3    C123\n",
       "4     NaN\n",
       "Name: Cabin, dtype: object"
      ]
     },
     "metadata": {},
     "output_type": "display_data"
    },
    {
     "data": {
      "text/markdown": [
       "**Missing Values in Cabin:**"
      ],
      "text/plain": [
       "<IPython.core.display.Markdown object>"
      ]
     },
     "metadata": {},
     "output_type": "display_data"
    },
    {
     "data": {
      "text/plain": [
       "1014"
      ]
     },
     "metadata": {},
     "output_type": "display_data"
    },
    {
     "data": {
      "text/markdown": [
       "**Total Categories in Cabin before Processing:**"
      ],
      "text/plain": [
       "<IPython.core.display.Markdown object>"
      ]
     },
     "metadata": {},
     "output_type": "display_data"
    },
    {
     "data": {
      "text/plain": [
       "187"
      ]
     },
     "metadata": {},
     "output_type": "display_data"
    }
   ],
   "source": [
    "\"\"\"Let's preview the Cabin again.\"\"\"\n",
    "bold('**Preview of Cabin:**')\n",
    "display(merged.Cabin.head())\n",
    "\n",
    "\"\"\"It seems Cabin contains some missing values. Let's count them.\"\"\"\n",
    "bold('**Missing Values in Cabin:**')\n",
    "display(merged.Cabin.isnull().sum())\n",
    "\n",
    "'''Total categories in Cabin before processing.'''\n",
    "bold('**Total Categories in Cabin before Processing:**')\n",
    "display(merged.Cabin.value_counts(dropna = False).count())"
   ]
  },
  {
   "cell_type": "markdown",
   "metadata": {
    "_uuid": "3a32419bc5702e6675549627c31339ca6c4ea4d2"
   },
   "source": [
    "Looks like Cabin is alphanumeric type variable with no special characters (like ., /, % etc) between letters and numbers. It has also 1014 missing obsevations. It is reasonable to presume that those NaNs didn't have a cabin, which could tell us something about 'Survived'. We will flag NaN as 'X' and keep only the 1st character where Cabin has alphanumeric values. Since its a categorical variable, we must reduce the number of categories for further analysis."
   ]
  },
  {
   "cell_type": "code",
   "execution_count": 39,
   "metadata": {
    "_uuid": "c0c369c78100575ed4a9e0d7c67786d62cf31e29"
   },
   "outputs": [
    {
     "data": {
      "text/markdown": [
       "**Cabin Categories after Processing:**"
      ],
      "text/plain": [
       "<IPython.core.display.Markdown object>"
      ]
     },
     "metadata": {},
     "output_type": "display_data"
    },
    {
     "data": {
      "text/plain": [
       "X    1014\n",
       "C      94\n",
       "B      65\n",
       "D      46\n",
       "E      41\n",
       "A      22\n",
       "F      21\n",
       "G       5\n",
       "T       1\n",
       "Name: Cabin, dtype: int64"
      ]
     },
     "metadata": {},
     "output_type": "display_data"
    },
    {
     "name": "stdout",
     "output_type": "stream",
     "text": [
      "Absolute & Relative Frequency of Cabin :\n"
     ]
    },
    {
     "data": {
      "text/html": [
       "<div>\n",
       "<style scoped>\n",
       "    .dataframe tbody tr th:only-of-type {\n",
       "        vertical-align: middle;\n",
       "    }\n",
       "\n",
       "    .dataframe tbody tr th {\n",
       "        vertical-align: top;\n",
       "    }\n",
       "\n",
       "    .dataframe thead th {\n",
       "        text-align: right;\n",
       "    }\n",
       "</style>\n",
       "<table border=\"1\" class=\"dataframe\">\n",
       "  <thead>\n",
       "    <tr style=\"text-align: right;\">\n",
       "      <th></th>\n",
       "      <th>Absolute Frequency</th>\n",
       "      <th>Relative Frequency(%)</th>\n",
       "    </tr>\n",
       "  </thead>\n",
       "  <tbody>\n",
       "    <tr>\n",
       "      <th>X</th>\n",
       "      <td>1014</td>\n",
       "      <td>77.46</td>\n",
       "    </tr>\n",
       "    <tr>\n",
       "      <th>C</th>\n",
       "      <td>94</td>\n",
       "      <td>7.18</td>\n",
       "    </tr>\n",
       "    <tr>\n",
       "      <th>B</th>\n",
       "      <td>65</td>\n",
       "      <td>4.97</td>\n",
       "    </tr>\n",
       "    <tr>\n",
       "      <th>D</th>\n",
       "      <td>46</td>\n",
       "      <td>3.51</td>\n",
       "    </tr>\n",
       "    <tr>\n",
       "      <th>E</th>\n",
       "      <td>41</td>\n",
       "      <td>3.13</td>\n",
       "    </tr>\n",
       "    <tr>\n",
       "      <th>A</th>\n",
       "      <td>22</td>\n",
       "      <td>1.68</td>\n",
       "    </tr>\n",
       "    <tr>\n",
       "      <th>F</th>\n",
       "      <td>21</td>\n",
       "      <td>1.60</td>\n",
       "    </tr>\n",
       "    <tr>\n",
       "      <th>G</th>\n",
       "      <td>5</td>\n",
       "      <td>0.38</td>\n",
       "    </tr>\n",
       "    <tr>\n",
       "      <th>T</th>\n",
       "      <td>1</td>\n",
       "      <td>0.08</td>\n",
       "    </tr>\n",
       "  </tbody>\n",
       "</table>\n",
       "</div>"
      ],
      "text/plain": [
       "   Absolute Frequency  Relative Frequency(%)\n",
       "X                1014                  77.46\n",
       "C                  94                   7.18\n",
       "B                  65                   4.97\n",
       "D                  46                   3.51\n",
       "E                  41                   3.13\n",
       "A                  22                   1.68\n",
       "F                  21                   1.60\n",
       "G                   5                   0.38\n",
       "T                   1                   0.08"
      ]
     },
     "metadata": {},
     "output_type": "display_data"
    },
    {
     "data": {
      "image/png": "[encoded data removed]",
      "text/plain": [
       "<Figure size 1296x360 with 1 Axes>"
      ]
     },
     "metadata": {},
     "output_type": "display_data"
    },
    {
     "data": {
      "image/png": "[encoded data removed]",
      "text/plain": [
       "<Figure size 1296x360 with 1 Axes>"
      ]
     },
     "metadata": {},
     "output_type": "display_data"
    }
   ],
   "source": [
    "\"\"\"Flag all the NaNs of Cabin as 'X'.\"\"\"\n",
    "merged.Cabin.fillna(value = 'X', inplace = True)\n",
    "\n",
    "'''Keep only the 1st character where Cabin is alphanumerical.'''\n",
    "merged.Cabin = merged.Cabin.apply( lambda x : x[0])\n",
    "bold('**Cabin Categories after Processing:**')\n",
    "display(merged.Cabin.value_counts())\n",
    "\n",
    "'''After processing, we can visualize the absolute and relative frequency of newly transformed Cabin variable.'''\n",
    "absolute_and_relative_freq(merged.Cabin)"
   ]
  },
  {
   "cell_type": "markdown",
   "metadata": {
    "_uuid": "d0be3ecbbe1b99b29962e0ee455c05263c710b1c"
   },
   "source": [
    "**Findings:** It seems nearly 77.5% of passengers had X cabin category (formerly NaNs), followed by over 7% had cabin category C and nearly 5% had cabin category B.\n",
    "\n",
    "## 5.2 Process Name <a id=\"5.2\"></a>"
   ]
  },
  {
   "cell_type": "code",
   "execution_count": 40,
   "metadata": {
    "_uuid": "0b1e8bdac8bc9ce0d11f3fb077ee244a4b583a48"
   },
   "outputs": [
    {
     "data": {
      "text/plain": [
       "0                              Braund, Mr. Owen Harris\n",
       "1    Cumings, Mrs. John Bradley (Florence Briggs Th...\n",
       "2                               Heikkinen, Miss. Laina\n",
       "3         Futrelle, Mrs. Jacques Heath (Lily May Peel)\n",
       "4                             Allen, Mr. William Henry\n",
       "5                                     Moran, Mr. James\n",
       "6                              McCarthy, Mr. Timothy J\n",
       "7                       Palsson, Master. Gosta Leonard\n",
       "Name: Name, dtype: object"
      ]
     },
     "metadata": {},
     "output_type": "display_data"
    }
   ],
   "source": [
    "\"\"\"Lets see what's inside the Name.\"\"\"\n",
    "display(merged.Name.head(8))"
   ]
  },
  {
   "cell_type": "markdown",
   "metadata": {
    "_uuid": "387767fe30d9d5005ac45e7ac4baaa38b0d23469"
   },
   "source": [
    "What we can easily understand from this column, it contains strings that further contains titles such as Mr, Mrs, Master etc. These titles give us some useful information about sex(Mr = male, Mrs = married female), age(Miss is usually younger than Mrs), and profession(Master indicates profession and hence social status) etc which in the end could tell us something more about survival. Now we want to extract these titles from Name to check if there is any association between these titles and Survived."
   ]
  },
  {
   "cell_type": "code",
   "execution_count": 41,
   "metadata": {
    "_uuid": "508520a395c57321bc1b98040c3c84adbd1424ac"
   },
   "outputs": [
    {
     "data": {
      "text/plain": [
       "Mr          757\n",
       "Miss        260\n",
       "Mrs         197\n",
       "Master       61\n",
       "Rev           8\n",
       "Dr            8\n",
       "Col           4\n",
       "Major         2\n",
       "Mlle          2\n",
       "Ms            2\n",
       "Don           1\n",
       "Lady          1\n",
       "Capt          1\n",
       "Mme           1\n",
       "Dona          1\n",
       "Jonkheer      1\n",
       "Sir           1\n",
       "Countess      1\n",
       "Name: Title, dtype: int64"
      ]
     },
     "metadata": {},
     "output_type": "display_data"
    }
   ],
   "source": [
    "'''Create a new variable Title that extracts titles from Name.'''\n",
    "merged['Title'] = merged.Name.str.extract('([A-Za-z]+)\\.')\n",
    "\n",
    "'''Count the extracted categories of Title from Name.'''\n",
    "display(merged.Title.value_counts())"
   ]
  },
  {
   "cell_type": "markdown",
   "metadata": {
    "_uuid": "65259938a2ff355eb8f3eb7675281bcb917783bb"
   },
   "source": [
    "We can see there are several titles with the very least frequency. So, it makes sense to put them in fewer buckets. Professionals like Dr, Rev, Col, Major, Capt will be put into 'Officer' bucket. Titles such as Dona, Jonkheer, Countess, Sir, Lady, Don were usually entitled to the aristocrats and hence these titles will be put into bucket 'Aristocrat'. We would also replace Mlle and Ms with Miss and Mme by Mrs as these are French titles."
   ]
  },
  {
   "cell_type": "code",
   "execution_count": null,
   "metadata": {
    "_uuid": "58f03c06a4412afd28e45a9feaef09e670d3bf09"
   },
   "outputs": [],
   "source": [
    "'''Create a bucket Officer and put Dr, Rev, Col, Major, Capt titles into it.'''\n",
    "merged.Title.replace(to_replace = ['Dr', 'Rev', 'Col', 'Major', 'Capt'], value = 'Officer', inplace = True)\n",
    "\n",
    "'''Put Dona, Jonkheer, Countess, Sir, Lady, Don in bucket Aristocrat.'''\n",
    "merged.Title.replace(to_replace = ['Dona', 'Jonkheer', 'Countess', 'Sir', 'Lady', 'Don'], value = 'Aristocrat', inplace = True)\n",
    "\n",
    "'''Finally Replace Mlle and Ms with Miss. And Mme with Mrs.'''\n",
    "merged.Title.replace({'Mlle':'Miss', 'Ms':'Miss', 'Mme':'Mrs'}, inplace = True)\n",
    "\n",
    "'''After processing, visualise and count absolute and relative frequency of transformed Title.'''\n",
    "absolute_and_relative_freq(merged.Title)"
   ]
  },
  {
   "cell_type": "markdown",
   "metadata": {
    "_uuid": "6ba4c9e8fd229463a9e0b5efc912bf62eca4584f"
   },
   "source": [
    "**Findings:** Nearly 58% passengers had title Mr(male of course), followed by over 20% passengers had titles Miss(unmarried women hence usually younger than Mrs). Just over 15% passengers were married women (Mrs).\n",
    "\n",
    "## 5.3 Process SibSp & Parch <a id=\"5.3\"></a>\n",
    "In univariate analysis, we saw some passengers had siblings/spouses and some didn't have. The same is also true for variable Parch. Since these two variables together indicate the size of a family, we would create a new variable 'Family_size' from these two variables."
   ]
  },
  {
   "cell_type": "code",
   "execution_count": null,
   "metadata": {
    "_uuid": "5be69bd37dd0d33f6b79505e44426ad48c9a97fc"
   },
   "outputs": [],
   "source": [
    "'''Merge SibSp and Parch to create a variable Family_size.'''\n",
    "merged['Family_size'] = merged.SibSp + merged.Parch + 1  # Adding 1 for single person\n",
    "display(merged.Family_size.value_counts())"
   ]
  },
  {
   "cell_type": "markdown",
   "metadata": {
    "_uuid": "d7411945fe56e35f54cdb33c76dd751fc1f2f799"
   },
   "source": [
    "We see there are several family sizes with the very least frequency. So its sensible to put them in a fewer buckets. We will create 4 buckets namely single, small, medium, and large for rest of them."
   ]
  },
  {
   "cell_type": "code",
   "execution_count": null,
   "metadata": {
    "_uuid": "1a2af0649060e1ff5b3e896ba7d4dc1c222da564"
   },
   "outputs": [],
   "source": [
    "'''Create buckets of single, small, medium, and large and then put respective values into them.'''\n",
    "merged.Family_size.replace(to_replace = [1], value = 'single', inplace = True)\n",
    "merged.Family_size.replace(to_replace = [2,3], value = 'small', inplace = True)\n",
    "merged.Family_size.replace(to_replace = [4,5], value = 'medium', inplace = True)\n",
    "merged.Family_size.replace(to_replace = [6, 7, 8, 11], value = 'large', inplace = True)\n",
    "\n",
    "'''After processing, visualise and count the absolute and relative frequency of engineered Family_size.'''\n",
    "absolute_and_relative_freq(merged.Family_size)"
   ]
  },
  {
   "cell_type": "markdown",
   "metadata": {
    "_uuid": "ebc79b282344833fd99720673cc120c9c1e384b3"
   },
   "source": [
    "**Findings:** Looks like most of the passengers (over 60%) were single(without family), followed by 30% passengers had a small family. Almost 5% passengers had medium families and just over 4.5% passengers had large families abroad.\n",
    "\n",
    "## 5.4 Process Ticket <a id=\"5.4\"></a>"
   ]
  },
  {
   "cell_type": "code",
   "execution_count": null,
   "metadata": {
    "_uuid": "786c8cf62c6518078fe6ee06f204f1aed8f4f38f"
   },
   "outputs": [],
   "source": [
    "\"\"\"Let's preview the variable Ticket first.\"\"\"\n",
    "display(merged.Ticket.head())"
   ]
  },
  {
   "cell_type": "markdown",
   "metadata": {
    "_uuid": "393473a9cc03be5ae1edd5683b9468b2f01e77be"
   },
   "source": [
    "Ticket is also an alphanumeric type variable. We will create two groups-one will contain just number and other will only contain character extracted from string. If a row contains both character and number, we will keep only character."
   ]
  },
  {
   "cell_type": "code",
   "execution_count": null,
   "metadata": {
    "_uuid": "846a008cf883ddb9e8102c26516242eca65ceb76"
   },
   "outputs": [],
   "source": [
    "'''Assign N if there is only number and no character. If there is a character, extract the character only.'''\n",
    "ticket = []\n",
    "for x in list(merged.Ticket):\n",
    "    if x.isdigit():\n",
    "        ticket.append('N')\n",
    "    else:\n",
    "        ticket.append(x.replace('.','').replace('/','').strip().split(' ')[0])\n",
    "        \n",
    "'''Swap values'''\n",
    "merged.Ticket = ticket\n",
    "\n",
    "'''Count the categories in Ticket.'''\n",
    "bold('**Categories of Ticket:**')\n",
    "display(merged.Ticket.value_counts())"
   ]
  },
  {
   "cell_type": "markdown",
   "metadata": {
    "_uuid": "c9d2f03917725852e55ed1fd8e1f668d8b00ca47"
   },
   "source": [
    "Still there are too many categories to deal with. Let's keep only the 1st character of Ticket to further reduce the classes of Ticket."
   ]
  },
  {
   "cell_type": "code",
   "execution_count": null,
   "metadata": {
    "_uuid": "1099e63c156bd34bb81e5aee07b28998cd720965"
   },
   "outputs": [],
   "source": [
    "'''Keep only the 1st character of Ticket to further reduce the Ticket categories.'''\n",
    "merged.Ticket = merged.Ticket.apply(lambda x : x[0])\n",
    "bold('**Ticket after Processing:**')\n",
    "display(merged.Ticket.value_counts())\n",
    "\n",
    "'''After processing, visualise and count the absolute and relative frequency of updated Ticket.'''\n",
    "absolute_and_relative_freq(merged.Ticket)"
   ]
  },
  {
   "cell_type": "markdown",
   "metadata": {
    "_uuid": "4d8fcff2d3820c867ec529c1084df0e633b7e74f"
   },
   "source": [
    "**Findings:** Over 73% passengers had ticket of category N, followed by nearly 7.5% passengers ticket category were S and P. Passengers with W ticket category were as low as 1.45%.\n",
    "\n",
    "# 6.Outliers Detection <a id=\"6\"></a>\n",
    "**How outliers affect the distribution:** If a value of a variable is significantly above the expected range, it will drag the distribution to the right, making the graph right-skewed or positive-skewed (like Fare). Alternatively, If a value is significantly below the expected range, it will drag the distribution to the left, making the graph left-skewed or negative-skewed.\n",
    "\n",
    "Another useful plot for visualizing a continuous variable is box plot. Box plot is particularly helpful to understand the spread of the continus data and whether there are potential unusual observations (outliers) in that variable. It presents information of min, 1st quartile, 2nd quartile(median), 3rd quartile, and max of a variable. **We will use IQR method to detect the outliers for variable Age and Fare though we won't remove them.**"
   ]
  },
  {
   "cell_type": "code",
   "execution_count": null,
   "metadata": {
    "_uuid": "07596bc0a600c81b6c10788e5b008eb16fc434ec"
   },
   "outputs": [],
   "source": [
    "'''Create a function to count total outliers. And plot variables with and without outliers.'''\n",
    "def outliers(variable):\n",
    "    global filtered\n",
    "    # Calculate 1st, 3rd quartiles and iqr.\n",
    "    q1, q3 = variable.quantile(0.25), variable.quantile(0.75)\n",
    "    iqr = q3 - q1\n",
    "    \n",
    "    # Calculate lower fence and upper fence for outliers\n",
    "    l_fence, u_fence = q1 - 1.5*iqr , q3 + 1.5*iqr   # Any values less than l_fence and greater than u_fence are outliers.\n",
    "    \n",
    "    # Observations that are outliers\n",
    "    outliers = variable[(variable<l_fence) | (variable>u_fence)]\n",
    "    print('Total Outliers of', variable.name,':', outliers.count())\n",
    "    \n",
    "    # Drop obsevations that are outliers\n",
    "    filtered = variable.drop(outliers.index, axis = 0)\n",
    "\n",
    "    # Create subplots\n",
    "    out_variables = [variable, filtered]\n",
    "    out_titles = [' Distribution with Outliers', ' Distribution Without Outliers']\n",
    "    title_size = 25\n",
    "    font_size = 18\n",
    "    plt.figure(figsize = (25, 15))\n",
    "    for ax, outlier, title in zip(range(1,3), out_variables, out_titles):\n",
    "        plt.subplot(2, 1, ax)\n",
    "        sns.boxplot(outlier).set_title('%s' %outlier.name + title, fontsize = title_size)\n",
    "        plt.xticks(fontsize = font_size)\n",
    "        plt.xlabel('%s' %outlier.name, fontsize = font_size)"
   ]
  },
  {
   "cell_type": "markdown",
   "metadata": {
    "_uuid": "ed5adb449e852f889199bc9193673b385010b36d"
   },
   "source": [
    "## 6.1 Outliers Detection for Age <a id=\"6.1\"></a>"
   ]
  },
  {
   "cell_type": "code",
   "execution_count": null,
   "metadata": {
    "_uuid": "bb549776aa323179741598c557427c57d97d3376"
   },
   "outputs": [],
   "source": [
    "'''Count total outliers of Age. Plot Age with and without outliers.'''\n",
    "outliers(merged.Age)"
   ]
  },
  {
   "cell_type": "markdown",
   "metadata": {
    "_uuid": "398d77bf632182cec6a299fd69274b235e4145ce"
   },
   "source": [
    "**We count 9 outliers but boxplot shows 7 because 70 and 71 have duplicates.**\n",
    "\n",
    "**For a box plot, if the longer part of the box is right (or above) to the median, the data is said to be skewed right. If the longer part is  left (or below) to the median, the data is skewed left. In our case, the bigger part of the box is right to the median**\n",
    "\n",
    "## 6.2 Outliers Detection for Fare <a id=\"6.2\"></a>"
   ]
  },
  {
   "cell_type": "code",
   "execution_count": null,
   "metadata": {
    "_uuid": "ac741ae26bf8c0f7be6b2c698e4afb9ee05ab855"
   },
   "outputs": [],
   "source": [
    "'''Count total outliers of Fare. Plot Fare with and without outliers.'''\n",
    "outliers(merged.Fare)"
   ]
  },
  {
   "cell_type": "markdown",
   "metadata": {
    "_uuid": "8ea517ef9a3d3b63afc2c39beeba2245b382ae48"
   },
   "source": [
    "# 7.Imputing Missing Variables <a id=\"7\"></a>\n",
    "The simpliest way to impute missing values of a variable is to impute its missing values with its mean, median or mode depending on its distribution and variable type(categorical or numerical). By now, we should have a good idea about the distribution of the variables and the presence of outliers in those variables. For categorical variables mode-imputation is performed and for numerical variable mean-impuation is performed if its distribution is symmetric(or almost symmetric or normal like Age). On the other hand, for a variable with skewed distribution and outliers (like Fare), meadian-imputation is recommended as median is more immune to outliers than mean. \n",
    "\n",
    "However, one clear disadvantage of using mean, median or mode to impute missing values is the addition of bias if the amount of missing values is significant (like Age). So simply replacing them with the mean or the median age might not be the best solution since the age may differ by groups and categories of passengers.\n",
    "\n",
    "To solve this, we can group our data by some variables that have no missing values and for each subset compute the median age to impute the missing values. Or we can build a linear regression model that will predict missing values of Age using the features that have no missing values. These two methods may result in better accuracy without high bias, unless a missing value is expected to have a very high variance. We will show the former method of imputation.\n",
    "\n",
    "*Let's first look for  variables with the missing values.*"
   ]
  },
  {
   "cell_type": "code",
   "execution_count": null,
   "metadata": {
    "_uuid": "6248c6b0d11be53c786afc942d9836b76428c89d"
   },
   "outputs": [],
   "source": [
    "'''We can visualize the missing values for each variable.'''\n",
    "mn.matrix(merged)\n",
    "bold('**Values Missing in Each Variable:**')"
   ]
  },
  {
   "cell_type": "markdown",
   "metadata": {
    "_uuid": "d984796a73779e7e7d7fd2d8cf671c929b270796"
   },
   "source": [
    "**The above ultaviolet plot delivers the most noise for Survived, followed by Age, Embarked and Fare.**"
   ]
  },
  {
   "cell_type": "code",
   "execution_count": null,
   "metadata": {
    "_uuid": "d24fe519761951d31a46e6ada20d9eb665cafa0c"
   },
   "outputs": [],
   "source": [
    "\"\"\"Let's count the missing values for each variable.\"\"\"\n",
    "bold('**Missing Values of Each Variable:**')\n",
    "display(merged.isnull().sum())"
   ]
  },
  {
   "cell_type": "markdown",
   "metadata": {
    "_uuid": "494975a4228115456eaf88b0bd1fb7f0f7365042"
   },
   "source": [
    "**Findings:** \n",
    "1. Age has 263 missing values.\n",
    "2. Fare has only 1.\n",
    "3. Cabin has a whopping 1014 missing values.\n",
    "4. Embarked has just 2 missing values.\n",
    "5. **Finally Survived has missing values (due to concatenation of train and test set) that we would predict learning from the train dataset.**\n",
    "\n",
    "**Remember we have total 1309 observations except variable Survived.**\n",
    "\n",
    "## 7.1 Impute Embarked & Fare <a id=\"7.1\"></a>"
   ]
  },
  {
   "cell_type": "code",
   "execution_count": null,
   "metadata": {
    "_uuid": "1620a4f481aceb75058beb9874b651f3f3eff095"
   },
   "outputs": [],
   "source": [
    "'''Impute missing values of Embarked. Embarked is a categorical variable where S is the most frequent.'''\n",
    "merged.Embarked.fillna(value = 'S', inplace = True)\n",
    "\n",
    "'''Impute missing values of Fare. Fare is a numerical variable with outliers. Hence it will be imputed by median.'''\n",
    "merged.Fare.fillna(value = merged.Fare.median(), inplace = True)"
   ]
  },
  {
   "cell_type": "markdown",
   "metadata": {
    "_uuid": "cb3ec0bdd5a3f6c58caa0c0648a40f1bec90e1b8"
   },
   "source": [
    "## 7.2 Impute Age <a id=\"7.2\"></a>\n",
    "To impute Age with grouped median, we need to know which features are heavily correlated with Age. Let's find out the variables correlated with Age."
   ]
  },
  {
   "cell_type": "code",
   "execution_count": null,
   "metadata": {
    "_uuid": "5727f362d6221010dfbd703313a05c6cca0522fd"
   },
   "outputs": [],
   "source": [
    "\"\"\"Create a boxplot to view the variables correlated with Age. First extract the variables we're interested in.\"\"\"\n",
    "correlation = merged.loc[:, ['Sex', 'Pclass', 'Embarked', 'Title', 'Family_size', 'Parch', 'SibSp', 'Cabin', 'Ticket']]\n",
    "fig, axes = plt.subplots(nrows = 3, ncols = 3, figsize = (25,25))\n",
    "for ax, column in zip(axes.flatten(), correlation.columns):\n",
    "    sns.boxplot(x = correlation[column], y =  merged.Age, ax = ax)\n",
    "    ax.set_title(column, fontsize = 23)\n",
    "    ax.tick_params(axis = 'both', which = 'major', labelsize = 20)\n",
    "    ax.tick_params(axis = 'both', which = 'minor', labelsize = 20)\n",
    "    ax.set_ylabel('Age', fontsize = 20)\n",
    "    ax.set_xlabel('')\n",
    "fig.suptitle('Variables Associated with Age', fontsize = 30)\n",
    "fig.tight_layout(rect = [0, 0.03, 1, 0.95])"
   ]
  },
  {
   "cell_type": "markdown",
   "metadata": {
    "_uuid": "4c333509395bd55368a00335b40575ec70b835b4"
   },
   "source": [
    "|**Findings:** \n",
    "1. Age distribution seems to be the same in male and female subpopulations and S, C, Q subpopulations of Embarked. So Sex and Embarked aren't good predictors for Age.\n",
    "2. On the other hand, Age distribution seems to be distinct in Pclass's 1, 2 and 3 subpopulations, so Pclass is informative to predict Age.\n",
    "3. Finally, Age distribution seems to be distinct in different categories for Title, Family_size, SibSp, Parch, and Cabin. So they might be good predictors for Age as well."
   ]
  },
  {
   "cell_type": "code",
   "execution_count": null,
   "metadata": {
    "_uuid": "95370e42e63837cb21ece01af9101f9d93f8a50c"
   },
   "outputs": [],
   "source": [
    "\"\"\"Let's plot correlation heatmap to see which variable is highly correlated with Age and if our boxplot interpretation holds true. We need to convert categorical variable into numerical to plot correlation heatmap. So convert categorical variables into numerical.\"\"\"\n",
    "from sklearn.preprocessing import LabelEncoder\n",
    "correlation = correlation.agg(LabelEncoder().fit_transform)\n",
    "correlation['Age'] = merged.Age # Inserting Age in variable correlation.\n",
    "correlation = correlation.set_index('Age').reset_index() # Move Age at index 0.\n",
    "\n",
    "'''Now create the heatmap correlation.'''\n",
    "plt.figure(figsize = (20,7))\n",
    "sns.heatmap(correlation.corr(), cmap ='BrBG', annot = True)\n",
    "plt.title('Variables Correlated with Age', fontsize = 18)\n",
    "plt.show()"
   ]
  },
  {
   "cell_type": "markdown",
   "metadata": {
    "_uuid": "c2ade98510a6271c5b72d1671a4d699a9c440af4"
   },
   "source": [
    "**Findings:** As expected Sex, Embarked, and Ticket have the weakest correlation with Age what we could guess beforehand from boxplot. Parch and Family_size are moderately correlated with Age. Title, Pclass, Cabin, and SibSp have the highest correlation with Age. But we are gonna use Title and Pclass only in order to impute Age since they have the strongest correlation with Age. So the tactic is to impute missing values of Age with the median age of similar rows according to Title and Pclass."
   ]
  },
  {
   "cell_type": "code",
   "execution_count": null,
   "metadata": {
    "_uuid": "334d25872239e76c6335d07ce8ad076100eaab73"
   },
   "outputs": [],
   "source": [
    "'''Impute Age with median of respective columns (i.e., Title and Pclass).'''\n",
    "merged.Age = merged.groupby(['Title', 'Pclass'])['Age'].transform(lambda x: x.fillna(x.median()))\n",
    "\n",
    "'''So by now we should have variables with no missing values.'''\n",
    "bold('**Missing Values after Imputation:**')\n",
    "display(merged.isnull().sum())"
   ]
  },
  {
   "cell_type": "markdown",
   "metadata": {
    "_uuid": "6d371a2b72227115eb6a11f372685d0548ed2c4b"
   },
   "source": [
    "# 8.Bivariate Analysis <a id=\"8\"></a>\n",
    "Being the most important part, bivariate analysis tries to find the relationship between two variables. We will look for correlation or association between our predictor and target variables. Bivariate analysis is performed for any combination of categorical and numerical variables. The combination can be: Numerical & Numerical, Numerical & Categorical and Categorical & Categorical. Different methods are used to tackle these combinations during analysis process. The methods are:\n",
    "1. Numerical & Numerical: Pearson's correlation, or Spearman correlation (doesn't require normal distribution).\n",
    "2. Numerical & Categorical: Point biserial correlation (only  if categorical variable is binary type), or ANOVA test. For this problem, you can use either biserial correlation or ANOVA. But I will perform both test just to learn because ANOVA will come in handy if categorical variable has more than two groups.\n",
    "3. Categorical & Categorical: We would use Chi-square test for bivariate analysis between categorical variables.\n",
    "\n",
    "## 8.1 Numerical & Categorical Variables <a id=\"8.1\"></a>\n",
    "First we create a boxplot between our numerical and categorical variables to check if the distribution of numerical variable is distinct in different classes of nominal variables. Then we find the mean of numerical variable for every class of categorical variable. Again we plot a histogram of numerical variable for every class of categorical variable. Finally anova or point biserial correlation (in case of two class categorical variable) is calculated to find association between nominal and numerical variables.   "
   ]
  },
  {
   "cell_type": "code",
   "execution_count": null,
   "metadata": {
    "_uuid": "d57dbfe9929e20471e26a9840748d98ebb9530d1"
   },
   "outputs": [],
   "source": [
    "\"\"\"Let's split the train and test data for bivariate analysis since test data has no Survived values. We need our target variable without missing values to conduct the association test with predictor variables.\"\"\"\n",
    "df_train = merged.iloc[:891, :]\n",
    "df_test = merged.iloc[891:, :]\n",
    "df_test = df_test.drop(columns = ['Survived'], axis = 1)\n",
    "\n",
    "'''#1.Create a function that creates boxplot between categorical and numerical variables and calculates biserial correlation.'''\n",
    "def boxplot_and_correlation(cat,num):\n",
    "    '''cat = categorical variable, and num = numerical variable.'''\n",
    "    plt.figure(figsize = (18,7))\n",
    "    title_size = 18\n",
    "    font_size = 15\n",
    "    ax = sns.boxplot(x = cat, y = num)\n",
    "    \n",
    "    # Select boxes to change the color\n",
    "    box = ax.artists[0]\n",
    "    box1 = ax.artists[1]\n",
    "    \n",
    "    # Change the appearance of that box\n",
    "    box.set_facecolor('red')\n",
    "    box1.set_facecolor('green')\n",
    "    plt.title('Association between Survived & %s' %num.name, fontsize = title_size)\n",
    "    plt.xlabel('%s' %cat.name, fontsize = font_size)\n",
    "    plt.ylabel('%s' %num.name, fontsize = font_size)\n",
    "    plt.xticks(fontsize = font_size)\n",
    "    plt.yticks(fontsize = font_size)\n",
    "    plt.show()\n",
    "    print('Correlation between', num.name, 'and', cat.name,':', stats.pointbiserialr(num, cat))\n",
    "\n",
    "'''#2.Create another function to calculate mean when grouped by categorical variable. And also plot the grouped mean.'''\n",
    "def nume_grouped_by_cat(num, cat):\n",
    "    global ax\n",
    "    font_size = 15\n",
    "    title_size = 18\n",
    "    grouped_by_cat = num.groupby(cat).mean().sort_values( ascending = False)\n",
    "    grouped_by_cat.rename ({1:'survived', 0:'died'}, axis = 'rows', inplace = True) # Renaming index\n",
    "    grouped_by_cat = round(grouped_by_cat, 2)\n",
    "    ax = grouped_by_cat.plot.bar(figsize = (18,5)) \n",
    "    abs_bar_labels()\n",
    "    plt.title('Mean %s ' %num.name + ' of Survivors vs Victims', fontsize = title_size)\n",
    "    plt.ylabel('Mean ' + '%s' %num.name, fontsize = font_size)\n",
    "    plt.xlabel('%s' %cat.name, fontsize = font_size)\n",
    "    plt.xticks(fontsize = font_size)\n",
    "    plt.yticks(fontsize = font_size)\n",
    "    plt.show()\n",
    "\n",
    "'''#3.This function plots histogram of numerical variable for every class of categorical variable.'''\n",
    "def num_hist_by_cat(num,cat):\n",
    "    font_size = 15\n",
    "    title_size = 18\n",
    "    plt.figure(figsize = (18,7))\n",
    "    num[cat == 1].hist(color = ['g'], label = 'Survived', grid = False)\n",
    "    num[cat == 0].hist(color = ['r'], label = 'Died', grid = False)\n",
    "    plt.yticks([])\n",
    "    plt.xticks(fontsize = font_size)\n",
    "    plt.xlabel('%s' %num.name, fontsize = font_size)\n",
    "    plt.title('%s ' %num.name + ' Distribution of Survivors vs Victims', fontsize = title_size)\n",
    "    plt.legend()\n",
    "    plt.show()\n",
    "   \n",
    "'''#4.Create a function to calculate anova between numerical and categorical variable.'''\n",
    "def anova(num, cat):\n",
    "    from scipy import stats\n",
    "    grp_num_by_cat_1 = num[cat == 1] # Group our numerical variable by categorical variable(1). Group Fair by survivors\n",
    "    grp_num_by_cat_0 = num[cat == 0] # Group our numerical variable by categorical variable(0). Group Fare by victims\n",
    "    f_val, p_val = stats.f_oneway(grp_num_by_cat_1, grp_num_by_cat_0) # Calculate f statistics and p value\n",
    "    print('Anova Result between ' + num.name, ' & '+ cat.name, ':' , f_val, p_val)  \n",
    "    \n",
    "'''#5.Create another function that calculates Tukey's test between our nemurical and categorical variable.'''\n",
    "def tukey_test(num, cat):\n",
    "    from statsmodels.stats.multicomp import pairwise_tukeyhsd\n",
    "    tukey = pairwise_tukeyhsd(endog = num,   # Numerical data\n",
    "                             groups = cat,   # Categorical data\n",
    "                             alpha = 0.05)   # Significance level\n",
    "    \n",
    "    summary = tukey.summary()   # See test summary\n",
    "    print(\"Tukey's Test Result between \" + num.name, ' & '+ cat.name, ':' )  \n",
    "    display(summary)        "
   ]
  },
  {
   "cell_type": "markdown",
   "metadata": {
    "_uuid": "4f960757924ef3c55beb0b78abd3a0e6cc39a5ec"
   },
   "source": [
    "### 8.1.1 Fare & Survived <a id=\"8.1.1\"></a>"
   ]
  },
  {
   "cell_type": "code",
   "execution_count": null,
   "metadata": {
    "_uuid": "18b2d4399a53932bbbbe898e9cfae0005750d0c4"
   },
   "outputs": [],
   "source": [
    "'''Create a boxplot to visualize the strength of association of Survived with Fare. Also calculate biserial correlation.'''\n",
    "boxplot_and_correlation(df_train.Survived, df_train.Fare)"
   ]
  },
  {
   "cell_type": "markdown",
   "metadata": {
    "_uuid": "c1845166ed5767f38e6a4a25aad3028f16a14cb4"
   },
   "source": [
    "**Findings:** The distribution of Fare between different categories of Survived (0 and 1) are distinct (very least overlap) that makes it comparatively strong predictor for Survived what is kind of true from the correlation value of  0.257307 and the p value (less than 0.01) that suggests we're 99% confident that this correlation is statistically significant. Also survival is positively correlated to Fare, so the more you pay for fare, the more your chances are to survive that is quite evident from the box plot."
   ]
  },
  {
   "cell_type": "code",
   "execution_count": null,
   "metadata": {
    "_uuid": "35ed87df71a388b0d54dd4666735d7b26675083f"
   },
   "outputs": [],
   "source": [
    "'''So the mean fare of survivors should be much more (positive correlation or boxplot interpretation) than those who died. Calculate mean fare paid by the survivors as well as by the victims.'''\n",
    "nume_grouped_by_cat(df_train.Fare, df_train.Survived)"
   ]
  },
  {
   "cell_type": "markdown",
   "metadata": {
    "_uuid": "e4145afb20170754cbe7afcc75521dcfaa68c118"
   },
   "source": [
    "**Looks like, on average, if you pay more for your ticket, you are more likely to survive. Let's plot histogram of survivors and victims fare together to validate our intuition:**"
   ]
  },
  {
   "cell_type": "code",
   "execution_count": null,
   "metadata": {
    "_uuid": "ecb98c118fd5c3d9476731ea2b29fcd2e5996dd4"
   },
   "outputs": [],
   "source": [
    "\"\"\"Plot histogram of survivor's vs victims fare.\"\"\"\n",
    "num_hist_by_cat(df_train.Fare, df_train.Survived)"
   ]
  },
  {
   "cell_type": "markdown",
   "metadata": {
    "_uuid": "b3ebf7984f94cbad3a4765026d78b3b6070fd93d"
   },
   "source": [
    "**That's true. Passengers who paid more for their fair, mostly survived.**\n",
    "\n",
    "**ANOVA:** \n",
    "The ANOVA(ANalysis Of VAriance) test lets us check whether a numeric response variable varies according to the levels (or class) of a categorical variable. When we simply refer to 'ANOVA', we usually mean the 'one way' ANOVA which is a test for exploring the impact of one single factor on three or more groups (but two groups would also do, as we explain below).\n",
    "\n",
    "Though one should use either point biserial correlation (if categorical variable is of binary type) or ANOVA method for this problem to find any association between a categorical and a numerical variable, I would perform ANOVA too to have an intuition of how ANOVA works. Though ANOVA is usually prefered if the categorical variable having more than two groups, it is also possible to perform ANOVA for a categorical variable with two groups.\n",
    "\n",
    "The one-way ANOVA tests whether the mean of some numeric variable differs across the levels of one categorical variable. It essentially answers the question: do any of the group means differ from one another? The null hypothesis is all of the group means are equal. And the alternate hypothesis is any of the group means differ from one another."
   ]
  },
  {
   "cell_type": "code",
   "execution_count": null,
   "metadata": {
    "_uuid": "b488c0b591db9638e26b9ca5fe36c0bef4e72387"
   },
   "outputs": [],
   "source": [
    "\"\"\"Let's perform ANOVA between Fare and Survived. One can omit this step. I perform just to show how anova is performed if there were more than two groups in our categorical variable.\"\"\"\n",
    "anova(df_train.Fare, df_train.Survived)"
   ]
  },
  {
   "cell_type": "markdown",
   "metadata": {
    "_uuid": "c6132533746c3588892b70c6e1406c73f1700da3"
   },
   "source": [
    "**Interpretation of ANOVA result:**\n",
    "As p < 0.05 we state that we have a main interaction effect. This simply means that amongst the groups at least any of the group(or groups) means statistically significantly  differ from one another (true for only more than two groups). However, this result does not identify the sample pair (or pairs) which cause this significance (again true for more than two groups of categorical variable but we have just two groups..i.e., 0 and 1).\n",
    "So, when ANOVA reports 'interaction effect' we need to further identify the group pairs by applying pair-wise controls(required for more than two groups of categorical variable). Although these controls could be done by implementing ordinary t-test but this is not the right approach. So a post hoc-test ( usually Tukey's test) is performed to find the pair or pairs that cause the difference. Though Tukey's test is not required with a categorical variable less than three groups. But I perform it so that you could perform if there were three groups.\n",
    "\n",
    "***Note:*** Tukey's test is not required if ANOVA gives a p value greater than 0.05 and nominal variable has less than three groups."
   ]
  },
  {
   "cell_type": "code",
   "execution_count": null,
   "metadata": {
    "_uuid": "3fdabccb8585a7df930d809b037c1d348ae75988"
   },
   "outputs": [],
   "source": [
    "\"\"\"Perform Tukey's test using pairwise_tukeyhsd() function. One can omit Anova and Tukey's test for categorical variable less than three levels by performing biserial correlation.\"\"\"\n",
    "tukey_test(df_train.Fare, df_train.Survived)"
   ]
  },
  {
   "cell_type": "markdown",
   "metadata": {
    "_uuid": "9eb120445f0efb06b37a6587dd3b5a21238dcd52"
   },
   "source": [
    "** 'True' in the reject column indicates that there is  statistically significant difference  (\"true\" to reject the null hypothesis) between groups in the 0-1 pair, i.e., it can be said survial rate is statistically associated with Fare.** \n",
    "\n",
    "### 8.1.2 Age & Survived <a id=\"8.1.2\"></a>"
   ]
  },
  {
   "cell_type": "code",
   "execution_count": null,
   "metadata": {
    "_uuid": "cb87c380bfb0142b428bf651227c9837dd908c38"
   },
   "outputs": [],
   "source": [
    "\"\"\"Let's create a box plot between Age and Survived to have an idea by how much Age is associated with Survived. Also find point biserial correlation between them.\"\"\"\n",
    "boxplot_and_correlation(df_train.Survived, df_train.Age)"
   ]
  },
  {
   "cell_type": "markdown",
   "metadata": {
    "_uuid": "b9ba01a07af1e3056c21df9bb59c36a00962af17"
   },
   "source": [
    "**Findings:** Box plot shows the distribution of Age between categories of Survived (1 and 0) has significant overlap which is also kind of true from a small correlation value of -0.05939. And a p value greater than 0.05 indicates that there is no evidence that the correlation is statistically significant. As we can see that Survived is inversly correlated to Age, so if you are younger, you are just likely to survive."
   ]
  },
  {
   "cell_type": "code",
   "execution_count": null,
   "metadata": {
    "_uuid": "e32c5b72f2b06c83f289797fe9d474f56db4fd28"
   },
   "outputs": [],
   "source": [
    "'''So the mean age of survivors should be just less than those who died (small negative correlation and reading boxplot). Calculate the mean age of survivors and victims.'''\n",
    "nume_grouped_by_cat(df_train.Age, df_train.Survived)"
   ]
  },
  {
   "cell_type": "markdown",
   "metadata": {
    "_uuid": "acbcb4b58fb6ff4f8b4ab385d1767f11e09c6b8b"
   },
   "source": [
    "**Analysing box and above bar plot, we have a feeling that younger people, on average, were just more likely to survive. Let's plot one histogram of survivors' age and another of victims' age to validate our intuition.**"
   ]
  },
  {
   "cell_type": "code",
   "execution_count": null,
   "metadata": {
    "_uuid": "0232bf18c25f561479eb8f8d03dc5ef388ea9dde"
   },
   "outputs": [],
   "source": [
    "'''Histogram of survivors vs victims age.'''\n",
    "num_hist_by_cat(df_train.Age, df_train.Survived)"
   ]
  },
  {
   "cell_type": "markdown",
   "metadata": {
    "_uuid": "87a6bf1cffe81d6a95496ff74b42094d036f8ed2"
   },
   "source": [
    "**We see infants and children had high survival rate. The oldest passengers (Age = 80) survived. A large number of passengers aged from 16 to 30 died.**"
   ]
  },
  {
   "cell_type": "code",
   "execution_count": null,
   "metadata": {
    "_uuid": "1670c6cd6b37b4e659933dfda103793f56ccff66"
   },
   "outputs": [],
   "source": [
    "'''Perform ANOVA between all the levels of Survived (i.e.., 0 and 1) and Age.'''\n",
    "anova(df_train.Age, df_train.Survived)"
   ]
  },
  {
   "cell_type": "markdown",
   "metadata": {
    "_uuid": "f0ea9b0cba3a13555d74e9d80364a654ca9276ce"
   },
   "source": [
    "**Note:** Choose either biserial correlation (if categorical variable has two groups) or Anova. If anova states main interaction effect(i.e.,p<0.05) and categorical variable has more than two categories ( like good, better, best), then perform tukey test to find out the pair or pairs that cause the difference(i.e., main interaction effect).\n",
    "\n",
    "**Interpretation of ANOVA result:**\n",
    "Since p>0.05, we can say that survival chance is not statistically associated with Age.\n",
    "\n",
    "## 8.2 Categorical & Categorical Variables <a id=\"8.2\"></a>\n",
    "We will calculate and plot absolute and relative frequency of output categorical variable by predictor nominal variables. WE would calculate the chi square test between target nominal and predictor nominal variables. Finally we will calculate Bonferroni-adjusted P value if the contingency table has dimension more than 2x2."
   ]
  },
  {
   "cell_type": "code",
   "execution_count": null,
   "metadata": {
    "_uuid": "f90e3da527720cb6d0d661410b3be43b0aa803ba"
   },
   "outputs": [],
   "source": [
    "'''#1.Create a function that calculates absolute and relative frequency of Survived variable by a categorical variable. And then plots the absolute and relative frequency of Survived by a categorical variable.'''\n",
    "def crosstab(cat, cat_target):\n",
    "    '''cat = categorical variable, cat_target = our target categorical variable.'''\n",
    "    global ax, ax1\n",
    "    fig_size = (18, 5)\n",
    "    title_size = 18\n",
    "    font_size = 15\n",
    "    cat_grouped_by_cat_target = pd.crosstab(index = cat, columns = cat_target)\n",
    "    cat_grouped_by_cat_target.rename({0:'Victims', 1:'Survivors'}, axis = 'columns', inplace = True)  # Renaming the columns\n",
    "    pct_cat_grouped_by_cat_target = round(pd.crosstab(index = cat, columns = cat_target, normalize = 'index')*100, 2)\n",
    "    pct_cat_grouped_by_cat_target.rename({0:'Victims(%)', 1:'Survivors(%)'}, axis = 'columns', inplace = True)\n",
    "    \n",
    "    # Plot absolute frequency of Survived by a categorical variable\n",
    "    ax =  cat_grouped_by_cat_target.plot.bar(color = ['r', 'g'], title = 'Absolute Count of Survival and Death by %s' %cat.name, figsize = fig_size)\n",
    "    ax.title.set_size(fontsize = title_size)\n",
    "    abs_bar_labels()\n",
    "    plt.xlabel(cat.name, fontsize = font_size)\n",
    "    plt.show()\n",
    "    \n",
    "    # Plot relative frequrncy of Survived by a categorical variable\n",
    "    ax1 = pct_cat_grouped_by_cat_target.plot.bar(color = ['r', 'g'], title = 'Percentage Count of Survival and Death by %s' %cat.name, figsize = fig_size)\n",
    "    ax1.title.set_size(fontsize = title_size)\n",
    "    pct_bar_labels()\n",
    "    plt.xlabel(cat.name, fontsize = font_size)\n",
    "    plt.show()\n",
    "    \n",
    "'''#2.Create a function to calculate chi_square test between a categorical and target categorical variable.'''\n",
    "def chi_square(cat, cat_target):\n",
    "    cat_grouped_by_cat_target = pd.crosstab(index = cat, columns = cat_target)\n",
    "    test_result = stats.chi2_contingency (cat_grouped_by_cat_target)\n",
    "    print('Chi Square Test Result between Survived & %s' %cat.name + ':')\n",
    "    display(test_result)\n",
    "\n",
    "'''#3.Finally create another function to calculate Bonferroni-adjusted pvalue for a categorical and target categorical variable.'''\n",
    "def bonferroni_adjusted(cat, cat_target):\n",
    "    dummies = pd.get_dummies(cat)\n",
    "    for columns in dummies:\n",
    "        crosstab = pd.crosstab(dummies[columns], cat_target)\n",
    "        print(stats.chi2_contingency(crosstab))\n",
    "    print('\\nColumns:', dummies.columns)"
   ]
  },
  {
   "cell_type": "markdown",
   "metadata": {
    "_uuid": "9f67019d8e02f116cc32913a73cd8bfc1b8bf5ad"
   },
   "source": [
    "### 8.2.1 Sex & Survived <a id=\"8.2.1\"></a>"
   ]
  },
  {
   "cell_type": "code",
   "execution_count": null,
   "metadata": {
    "_uuid": "7c7c2929f4727a3eaa6cc64a9cc0bdec5abcea52"
   },
   "outputs": [],
   "source": [
    "'''Plot the no of passergers who survived and died due to their sex in absolute and relative scale.'''\n",
    "crosstab(df_train.Sex, df_train.Survived)"
   ]
  },
  {
   "cell_type": "markdown",
   "metadata": {
    "_uuid": "f0f920b2dd73f2c0b0d3c01312636e3b7a788e6c"
   },
   "source": [
    "**Findings:** Out of 342 survivors, 233 passergers were female while only 109 passengers were male. So female survivors were more than double the male survivors. Proportion tells a female has over 74% chance of survival while male has almost 19% chance of survival. So female has the best chance of survival.\n",
    "\n",
    "***Chi-square Test***: The Chi-square test of independence tests if there is a significant relationship between two categorical variables.The data is usually displayed in a cross-tabulation format with each row representing a category for one variable and each column representing a category for another variable. Chi-square test of independence is an omnibus test.That is it tests the data as a whole. This means that one will not be able to tell which levels (categories) of the variables are responsible for the relationship **if the Chi-square table is larger than 2×2. If the test is larger than 2×2, it requires post hoc testing.**\n",
    "\n",
    "**The H0 (Null Hypothesis): There is no relationship between variable 1 and variable 2.**\n",
    "\n",
    "**The H1 (Alternative Hypothesis): There is a relationship between variable 1 and variable 2.**\n",
    "\n",
    "If the p-value is significant (less than 0.05), you can reject the null hypothesis and claim that the findings support the alternate hypothesis. While we check the results of the chi2 test, we need also to check that the expected cell frequencies are greater than or equal to 5. If a cell has an expected frequency less that 5, then the Fisher’s Exact test should be use to overcome this problem.\n",
    "\n",
    "The chi2_contingency() method conducts the Chi-square test on a contingency table (crosstab)."
   ]
  },
  {
   "cell_type": "code",
   "execution_count": null,
   "metadata": {
    "_uuid": "4c77df4e1cfb7684c734d84ea696b780bfe1e58d"
   },
   "outputs": [],
   "source": [
    "'''Perform chi-square test of independence between Survived and Sex.'''\n",
    "chi_square(df_train.Sex, df_train.Survived)"
   ]
  },
  {
   "cell_type": "markdown",
   "metadata": {
    "_uuid": "426ed36c393da4137e7c65b60ed38582e4079f0b"
   },
   "source": [
    "***Interpretation of chi-square test outcome***: The first value (260.717) is the Chi-square value, followed by the p-value (1.197e-58), then comes the degrees of freedom (1), and lastly it outputs the expected frequencies as an array. Since all of the expected frequencies are greater than 5, the chi2 test results can be trusted. We can reject the null hypothesis as the p-value is less than 0.05(infact p value is almost 0).  Thus, the results indicate that there is a statistically significant relationship between Sex and Survived.\n",
    "\n",
    "### 8.2.2 Pclass & Survived <a id=\"8.2.2\"></a>"
   ]
  },
  {
   "cell_type": "code",
   "execution_count": null,
   "metadata": {
    "_uuid": "c865b0b26c2d7c1f8689a8e9aedeb3a38d828088"
   },
   "outputs": [],
   "source": [
    "'''Plot the number of passengers who survived and died due to their pclass in absolute and relative scale.'''\n",
    "crosstab(df_train.Pclass, df_train.Survived)"
   ]
  },
  {
   "cell_type": "markdown",
   "metadata": {
    "_uuid": "4ce29a853697869148d7a446240a48f43f9534aa"
   },
   "source": [
    "**Findings:** Out of 342 survivors, pclass1(136) has the most number of survivors followed by pclass3(119) and pclass2(87). But the percentage tells different story. If you're in class1, your survival chance is nearly 63% while pclass2 has just over 47% survival chance. But if you are in class3, your chance of survival is very bleak, i.e.,just over 24%."
   ]
  },
  {
   "cell_type": "code",
   "execution_count": null,
   "metadata": {
    "_uuid": "03e82357111c46e1b1f1f2eba7050b378dbdf0e9"
   },
   "outputs": [],
   "source": [
    "'''Perform chi-square test of independence between Survived and Pclass.'''\n",
    "chi_square(df_train.Pclass, df_train.Survived)"
   ]
  },
  {
   "cell_type": "markdown",
   "metadata": {
    "_uuid": "f383f5e6caa834a9250bcfd97a97b9c6de526859"
   },
   "source": [
    "**Interpretation of chi-square test outcome:** The overall 3x2 table has a chi-square value of 102.889, pvalue  of 4.549e-23, degrees of freedom of 2 and the rest are the expected frequencies of array. Since all of the expected frequencies are greater than 5, the chi2 test results can be trusted. We can reject the null hypothesis as the p-value is less than 0.05(infact p value is almost 0). Thus, the results indicate that there is a statistically significant relationship between Pclass and titanic's survivors. \n",
    "\n",
    "\n",
    "**Post Hoc Test**: Although our Chi-square test was signficant, since our analysis is 3x2 we don't know which levels of Pclass(1, 2 or 3) have the strongest association with variable Survived. Hence we need to perform a post hoc test to verify if and which combinations are actually significantly associated with Survived. In order to do this, we need to conduct multiple 2×2 Chi-square tests using the *Bonferroni-adjusted p-value.*\n",
    "\n",
    "To conduct multiple 2×2 Chi-square tests, one needs to regroup the variables for each test to where it is one category against the rest. For us, it will be:\n",
    "\n",
    "1. 1 vs 2\n",
    "2. 1 vs 3\n",
    "3. And finally 2 vs 3\n",
    "\n",
    "**Because there are 3 comparisons, the Bonferroni-adjusted P value needed for significance is 0.05/3, or 0.017. So for our any planned pairwise comparisons to be significant, the p-value must be less than 0.017.**"
   ]
  },
  {
   "cell_type": "code",
   "execution_count": null,
   "metadata": {
    "_uuid": "f06fc4e2bc6429c250faeff626eefd1308bd4fae"
   },
   "outputs": [],
   "source": [
    "'''Calculate Bonferroni-adjusted pvalue for Pclass (1,2,3) and Survived.'''\n",
    "bonferroni_adjusted(df_train.Pclass, df_train.Survived)"
   ]
  },
  {
   "cell_type": "markdown",
   "metadata": {
    "_uuid": "78171d8d04420ca3a12efdf0770ccbcc125a647a"
   },
   "source": [
    "**Interpretation of the outcome of  Bonferroni-adjusted p-value test:** Using the Bonferroni-adjusted p-value of 0.017, 3 out of 3 planned pairwise comparisons are significant. Though p value suggests Pclass2 has the weakest association with Survived compared to Pclass1 and Pclass3.\n",
    "\n",
    "###  8.2.3 Embarked & Survived <a id=\"8.2.3\"></a>"
   ]
  },
  {
   "cell_type": "code",
   "execution_count": null,
   "metadata": {
    "_uuid": "1e4cbf4f3a78d6c1f68556b741648bfd4b1fefca"
   },
   "outputs": [],
   "source": [
    "'''Count and plot the survivors and victims by place of embarkation in absolute and relative scale.'''\n",
    "crosstab(df_train.Embarked, df_train.Survived)"
   ]
  },
  {
   "cell_type": "markdown",
   "metadata": {
    "_uuid": "30b37d3843829727d67f13096f4becf08aee2cc3"
   },
   "source": [
    "**Findings:** Though people embarked from Southampton have the most survivors count (219) but proportion-wise it has only nearly 34% chance of survival. Because 427 passengers embarked from Southampton died. On the contrary, if you would embark from Cherbourg, you have a very decent chance of survival of over 55%.  Finally, people embarked from  Queenstown have a chance of survival more than 5% from those who embarked from Southampton."
   ]
  },
  {
   "cell_type": "code",
   "execution_count": null,
   "metadata": {
    "_uuid": "2a897c2c3dea083685dfdb1867a65d31ac3b0ed9"
   },
   "outputs": [],
   "source": [
    "'''Now perform chi-square test to find the association between Embarked and Survived.'''\n",
    "chi_square(df_train.Embarked, df_train.Survived)"
   ]
  },
  {
   "cell_type": "markdown",
   "metadata": {
    "_uuid": "f3f60ab9878eea4e9698a8d58b70ab4444853d12"
   },
   "source": [
    "**Interpretation of chi-square test result:** The  3x2 table has a chi-square value of 25.96, pvalue of 2.3e-06, degrees of freedom of 2 and the rest are the expected frequencies of array. Since all of the expected frequencies are greater than 5, the chi2 test results can be trusted. We can reject the null hypothesis as the p-value is less than 0.05(infact p value is less than 0.01). Thus, the results indicate that there is a statistically significant relationship between the variables Embarked and Survived.\n",
    "\n",
    "**Because there are three comparisons, the Bonferroni-adjusted P value needed for significance is 0.05/3, or 0.017. So for our any planned pairwise comparisons to be significant, the p-value must be less than 0.017.**"
   ]
  },
  {
   "cell_type": "code",
   "execution_count": null,
   "metadata": {
    "_uuid": "382985e5b022924d18eae3e6fa44560ac0381a8a"
   },
   "outputs": [],
   "source": [
    "'''Calculate Bonferroni-adjusted pvalue  between Embarked (C,Q,S one by one) and Survived.'''\n",
    "bonferroni_adjusted(df_train.Embarked, df_train.Survived)"
   ]
  },
  {
   "cell_type": "markdown",
   "metadata": {
    "_uuid": "501a511799c0bd55da3a0be2a46dbdadf511b993"
   },
   "source": [
    "**Interpreting the result of pair-wise Bonferroni-adjusted pvalue:** Using the Bonferroni-adjusted p-value of 0.017, 2 of the 3 planned pairwise comparisons are significant. Bonferroni-adjusted p-value for Q and Survived is 0.989 which is way greater than 0.017. So it can be said that level Q of variable Embarked is not statistically associated with variable Survived.\n",
    "\n",
    "### 8.2.4 SibSp & Survived <a id=\"8.2.4\"></a>"
   ]
  },
  {
   "cell_type": "code",
   "execution_count": null,
   "metadata": {
    "_uuid": "4519e1ccf99034f4b2845f702d68c30f617f7f06"
   },
   "outputs": [],
   "source": [
    "'''Count and plot absolute and relative number of survivors and victims due to SibSp.'''\n",
    "crosstab(df_train.SibSp, df_train.Survived)"
   ]
  },
  {
   "cell_type": "markdown",
   "metadata": {
    "_uuid": "bb2fa853ad8f39a91da45420969ef71c463f13c4"
   },
   "source": [
    "**Findings:** A large number of passengers (210) who survived were without (0) any siblings or spouse, followed by 112 passengers with 1 spouse or siblings. Percentage-wise, passengers with 1 spouse or siblings had over 53.5% chance of survival, followed by passengers with 2 siblings or spouse had over 46% chance of survival. Passengers with 5 or 8 siblings or spouse had all died."
   ]
  },
  {
   "cell_type": "code",
   "execution_count": null,
   "metadata": {
    "_uuid": "614660848d70c944cf61fc592bcda2e1f89bdb46"
   },
   "outputs": [],
   "source": [
    "'''Chi-square test between SibSp and Survived.'''\n",
    "chi_square(df_train.SibSp, df_train.Survived)"
   ]
  },
  {
   "cell_type": "markdown",
   "metadata": {
    "_uuid": "01772f9671976de73e6318518c75d7f825dde215"
   },
   "source": [
    "**Interpretation of Chi-square Test:**  Since all the expected frequencies aren't greater than 5, chi-square test result can't be trusted.\n",
    "\n",
    "### 8.2.5 Parch & Survived  <a id=\"8.2.5\"></a>"
   ]
  },
  {
   "cell_type": "code",
   "execution_count": null,
   "metadata": {
    "_uuid": "1b9ab298bb46acbaa3af76c34dbb8221b32d905d"
   },
   "outputs": [],
   "source": [
    "'''Count and visualize absolute and relative number of survivors and victims by Parch.'''\n",
    "crosstab(df_train.Parch, df_train.Survived)"
   ]
  },
  {
   "cell_type": "markdown",
   "metadata": {
    "_uuid": "3633493513b73139a05ac9a10df59a22dd526ffc"
   },
   "source": [
    "**Findings:** Passengers with 3 children/parent had 60% survival rate, followed by passengers with 2 children/parent has a 50% survival rate. No passengers survived with 4 or 6 children/parent."
   ]
  },
  {
   "cell_type": "code",
   "execution_count": null,
   "metadata": {
    "_uuid": "fb1a35c341d7e09650990988bdadadcf0e4c3def"
   },
   "outputs": [],
   "source": [
    "'''Perform Chi-square test of independence between Parch and Survived.'''\n",
    "chi_square(df_train.Parch, df_train.Survived)"
   ]
  },
  {
   "cell_type": "markdown",
   "metadata": {
    "_uuid": "7134535d9462ed5dbc0dcdb206d849816b64d08f"
   },
   "source": [
    "**Interpretation of Chi-square Test Outcome:**  Since all the expected frequencies aren't greater than 5, chi-square test result can't be trusted.\n",
    "\n",
    "### 8.2.6 Title & Survived <a id=\"8.2.6\"></a>"
   ]
  },
  {
   "cell_type": "code",
   "execution_count": null,
   "metadata": {
    "_uuid": "aac08c6c5796349c46e42064ac0294c05efd5fc1"
   },
   "outputs": [],
   "source": [
    "'''Count and visualize absolute and relative number of survivors and victims by Title.'''\n",
    "crosstab(df_train.Title, df_train.Survived)"
   ]
  },
  {
   "cell_type": "markdown",
   "metadata": {
    "_uuid": "5d8c36d335063c2d81573a3ede3b29f335797d2f"
   },
   "source": [
    "**Findings:** Women had the best survival rate, i.e., Mrs(over 79%) and Miss(over 70%) that reminds us the variable Sex where we have seen female were more likely to survive in. Mr is the worst title to have when it comes to survival situation since just over 15% of passengers with title Mr survived that again indicates the importance of Sex as a deal breaker for survival."
   ]
  },
  {
   "cell_type": "code",
   "execution_count": null,
   "metadata": {
    "_uuid": "9d9cc92346264682e6001ae228e594a5ad96fce9"
   },
   "outputs": [],
   "source": [
    "'''Perform Chi-square test of independence between Title and Survived.'''\n",
    "chi_square(df_train.Title, df_train.Survived)"
   ]
  },
  {
   "cell_type": "markdown",
   "metadata": {
    "_uuid": "abb3abbe70f8eaa6263ced41d9f11703b1e00845"
   },
   "source": [
    "**Interpretation of chi-square test result**: Since all the expected frequencies aren't greater than 5, chi-square test result can't be trusted.\n",
    "\n",
    "### 8.2.7 Family_size & Survived <a id=\"8.2.7\"></a>"
   ]
  },
  {
   "cell_type": "code",
   "execution_count": null,
   "metadata": {
    "_uuid": "b591444153dae47a3751461efd7798d42522202b"
   },
   "outputs": [],
   "source": [
    "'''Survivors and victims count and percentage count by Family_size. Also plot the absolute and percentage count.'''\n",
    "crosstab(df_train.Family_size, df_train.Survived)"
   ]
  },
  {
   "cell_type": "markdown",
   "metadata": {
    "_uuid": "dfb5df6123aaf2192facaf2f1ed6b2b6f8c90724"
   },
   "source": [
    "**Findings:** Passengers with small and medium familiy size had good survival rate. Single passengers had survival chance of just over 30%. And passengers with large families has a survival rate below 15%."
   ]
  },
  {
   "cell_type": "code",
   "execution_count": null,
   "metadata": {
    "_uuid": "f5378d1ba8c7e2eebc82cd16ad7373478c6060a0"
   },
   "outputs": [],
   "source": [
    "'''Perform Chi-square test of independence between Family_size and Survived.'''\n",
    "chi_square(df_train.Family_size, df_train.Survived)"
   ]
  },
  {
   "cell_type": "markdown",
   "metadata": {
    "_uuid": "c3ff10ab5bfb6c030402888a149a368b13f9a55e"
   },
   "source": [
    "**Interpretation of chi-square test result**:Since all of the expected frequencies are greater than 5, the chi2 test results can be trusted. We can reject the null hypothesis as the p-value is less than 0.05(infact p value is almost 0). Thus, the results indicate that there is a statistically significant relationship between variable Family_size and Survived.\n",
    "\n",
    "**Because there are 8 comparisons, the Bonferroni-adjusted P value needed for significance is 0.05/8, or 0.0063. So for our any planned pairwise comparisons to be significant, the p-value must be less than 0.0063.**"
   ]
  },
  {
   "cell_type": "code",
   "execution_count": null,
   "metadata": {
    "_uuid": "74367671da17349325417b022c8bf6db02d1a812"
   },
   "outputs": [],
   "source": [
    "'''Calculate Bonferroni-adjusted pvalue  between Family_size and Survived.'''\n",
    "bonferroni_adjusted(df_train.Family_size, df_train.Survived)"
   ]
  },
  {
   "cell_type": "markdown",
   "metadata": {
    "_uuid": "4717e52bc8b1110598205bd2cb3736536c7bce1e"
   },
   "source": [
    "**Interpretation of Bonferroni-adjusted Post-hoc test result:** Using the Bonferroni-adjusted p-value of 0.0063, 3 of the 4 planned pairwise comparisons are significant. Bonferroni-adjusted p-value for medium and Survived is 0.03555 which is way greater than 0.0063. So it can be said that level medium of variable Family_size is not statistically associated with variable Survived.\n",
    "\n",
    "### 8.2.8 Cabin & Survived <a id=\"8.2.8\"></a>"
   ]
  },
  {
   "cell_type": "code",
   "execution_count": null,
   "metadata": {
    "_uuid": "db0f69fc01e695a49ef9ff7dd12bd08351ef1ce3"
   },
   "outputs": [],
   "source": [
    "'''Count and plot absolute and relative number of survivors and victims due to Cabin possession.'''\n",
    "crosstab(df_train.Cabin, df_train.Survived)"
   ]
  },
  {
   "cell_type": "markdown",
   "metadata": {
    "_uuid": "b2e1dc10e66f8dc66a7a401422af8616a9e02879"
   },
   "source": [
    "**Findings:** Most of the passengers survived and died were from cabin X. But percentage-wise, its category B, D, and E that had impressive chance of survival. People from cabin category X had just 30% chance of survival."
   ]
  },
  {
   "cell_type": "code",
   "execution_count": null,
   "metadata": {
    "_uuid": "bc4775b3811f63195f57ea6266e2e3fe3323b864"
   },
   "outputs": [],
   "source": [
    "\"\"\"Perform Chi-square test of independence between Cabin and Survived.\"\"\"\n",
    "chi_square(df_train.Cabin, df_train.Survived)"
   ]
  },
  {
   "cell_type": "markdown",
   "metadata": {
    "_uuid": "113893480a965f21c2bb4560aa3cd742c7b5294c"
   },
   "source": [
    "**Interpretation of chi-square test result**:Since all of the expected frequencies aren't greater than 5, the chi2 test results can't be trusted.\n",
    "\n",
    "### 8.2.9 Ticket & Survived <a id=\"8.2.9\"></a>"
   ]
  },
  {
   "cell_type": "code",
   "execution_count": null,
   "metadata": {
    "_uuid": "b64b58652dc048a21c9eeb45d8bfb47d74761b60"
   },
   "outputs": [],
   "source": [
    "'''Count and plot absolute and relative number of survivors and victims due to Ticket category.'''\n",
    "crosstab(df_train.Ticket, df_train.Survived)"
   ]
  },
  {
   "cell_type": "markdown",
   "metadata": {
    "_uuid": "7e3feb008cdc134c67a65cdd6cd7ce86612b4aa0"
   },
   "source": [
    "**Findings:** 93% passengers died with Ticket category A, over 64% survived from category P. Over 57% survived from F and just over 15% passengers survived from ticket category W."
   ]
  },
  {
   "cell_type": "code",
   "execution_count": null,
   "metadata": {
    "_uuid": "1a86604ad3dbe411a60dd8dd4760e483c6a68990"
   },
   "outputs": [],
   "source": [
    "'''Perform Chi-square test of independence between Ticket and Survived.'''\n",
    "chi_square(df_train.Ticket, df_train.Survived)"
   ]
  },
  {
   "cell_type": "markdown",
   "metadata": {
    "_uuid": "95d69220925627bdd6c7b7b2fcd1b3e78fc17f37"
   },
   "source": [
    "**Interpretation of chi-square test result**: Since all of the expected frequencies aren't greater than 5, the chi2 test results can't be trusted.\n",
    "\n",
    "# 9.Multivariate Analysis <a id=\"9\"></a>\n",
    "In multivariate analysis, we try to find the relationship among more than two variables. Number of predictor variable in bivariate analysis was one. On the contrary, number of predictor variables for multivariate analysis are more than one. More specifically, we will try to associate more than one predictor variable with the response variable. We will just visualize the impact of different predictor variables (3 variables) at a time on variable Survived."
   ]
  },
  {
   "cell_type": "code",
   "execution_count": null,
   "metadata": {
    "_uuid": "a79a35e7d593da1132e254711c69caf45399f2af"
   },
   "outputs": [],
   "source": [
    "'''Create a function that plots the impact of 3 predictor variables at a time on a target variable.'''\n",
    "def multivariate_analysis(cat1, cat2, cat3, cat_target):\n",
    "    font_size = 15\n",
    "    grouped = round(pd.crosstab(index = [cat1, cat2, cat3], columns = cat_target, normalize = 'index')*100, 2)\n",
    "    grouped.rename({0:'Died%', 1:'Survived%'}, axis = 1, inplace = True)\n",
    "    grouped.plot.bar(color = ['r', 'g'], figsize = (18,5))\n",
    "    plt.xlabel(cat1.name + ',' + cat2.name + ',' + cat3.name, fontsize = font_size)\n",
    "    plt.ylabel('Relative Frequency (%)', fontsize = font_size)\n",
    "    plt.xticks(fontsize = font_size)\n",
    "    plt.yticks(fontsize = font_size)\n",
    "    plt.legend(loc = 'best')\n",
    "    plt.show()"
   ]
  },
  {
   "cell_type": "markdown",
   "metadata": {
    "_uuid": "1fe0e99358cadcc15396750c8a4fc92a93160e98"
   },
   "source": [
    "## 9.1 (Pclass, Sex, Cabin) vs Survived <a id=\"9.1\"></a>"
   ]
  },
  {
   "cell_type": "code",
   "execution_count": null,
   "metadata": {
    "_uuid": "f3908d7f6a9c687bbeb977b5daa5c700f77d1fba"
   },
   "outputs": [],
   "source": [
    "'''Proportion of survivors and victims due to pclass, sex, and cabin.'''\n",
    "multivariate_analysis(df_train.Pclass, df_train.Sex, df_train.Cabin, df_train.Survived)\n",
    "bold('**Findings: Sex male seems to be deciding factor for death.**')"
   ]
  },
  {
   "cell_type": "markdown",
   "metadata": {
    "_uuid": "8648c2308ae65369ba8b6e3b6aaeee06a6d795e7"
   },
   "source": [
    "## 9.2 (Pclass, Sex, Embarked) vs Survived <a id=\"9.2\"></a>"
   ]
  },
  {
   "cell_type": "code",
   "execution_count": null,
   "metadata": {
    "_uuid": "ed296cabced78a3a64c5b18f3430f0e9e52e324e"
   },
   "outputs": [],
   "source": [
    "'''Proportion of survivors and victims due to pclass, sex, and embarked.'''\n",
    "multivariate_analysis(df_train.Pclass, df_train.Sex, df_train.Embarked, df_train.Survived)\n",
    "bold('**Findings: Again Sex male seems to be deciding factor for death and female for survival.**')"
   ]
  },
  {
   "cell_type": "markdown",
   "metadata": {
    "_uuid": "5171ece683fd7c7a1cce21588ce86e2d1bdeac3e"
   },
   "source": [
    "## 9.3 (Pclass, Sex, SibSp) vs Survived <a id=\"9.3\"></a>"
   ]
  },
  {
   "cell_type": "code",
   "execution_count": null,
   "metadata": {
    "_uuid": "0ed7c51c968ff01337d09cb99e4d920c11bf99e2"
   },
   "outputs": [],
   "source": [
    "'''Proportion of survivors and victims due to pclass, sex, and SibSp.'''\n",
    "multivariate_analysis(df_train.Pclass, df_train.Sex, df_train.SibSp, df_train.Survived)\n",
    "bold('**Findings: Bigger SibSp and male is responsible more for death.**')"
   ]
  },
  {
   "cell_type": "markdown",
   "metadata": {
    "_uuid": "dba2c180cf52fde22dc606902d5e7b9d12c18c29"
   },
   "source": [
    "## 9.4 (Pclass, Sex, Parch) vs Survived <a id=\"9.4\"></a>"
   ]
  },
  {
   "cell_type": "code",
   "execution_count": null,
   "metadata": {
    "_uuid": "c061a3693a8125cf6370b7bfdd257cb2252c012f"
   },
   "outputs": [],
   "source": [
    "'''Proportion of survivors and victims due to pclass, sex, and Parch.'''\n",
    "multivariate_analysis(df_train.Pclass, df_train.Sex, df_train.Parch, df_train.Survived)\n",
    "bold('**Findings: Bigger Parch and Sex male is responsible more for death.**')"
   ]
  },
  {
   "cell_type": "markdown",
   "metadata": {
    "_uuid": "e7236fd07927236f20d833bc47debeafd4c1afc0"
   },
   "source": [
    "## 9.5 (Pclass, Sex, Title) vs Survived <a id=\"9.5\"></a>"
   ]
  },
  {
   "cell_type": "code",
   "execution_count": null,
   "metadata": {
    "_uuid": "06680bbdea67345627cf0dd216154f501fa4bceb"
   },
   "outputs": [],
   "source": [
    "'''Proportion of survivors and victims due to pclass, sex, and title.'''\n",
    "multivariate_analysis(df_train.Pclass, df_train.Sex, df_train.Title, df_train.Survived)\n",
    "bold('**Findings: Findings: Passengers with sex male and title mr mostly died.**')"
   ]
  },
  {
   "cell_type": "markdown",
   "metadata": {
    "_uuid": "6ec39b38d9eb877ab59ec8862931b4a6b0c46d2b"
   },
   "source": [
    "## 9.6 (Pclass, Sex, Family_size) vs Survived <a id=\"9.6\"></a>"
   ]
  },
  {
   "cell_type": "code",
   "execution_count": null,
   "metadata": {
    "_uuid": "cbcd158565646a58985c95480b068055308f3a15"
   },
   "outputs": [],
   "source": [
    "'''Proportion of survivors and victims due to pclass, sex, and family_size.'''\n",
    "multivariate_analysis(df_train.Pclass, df_train.Sex, df_train.Family_size, df_train.Survived)\n",
    "bold('**Findings: Sex male, family_size single and large greatly influence the death ratio.**')"
   ]
  },
  {
   "cell_type": "markdown",
   "metadata": {
    "_uuid": "2c12a6d25d412e40680fda5d983ccdfa004db0cc"
   },
   "source": [
    "## 9.7 (Pclass, Sex, Ticket) vs Survived <a id=\"9.7\"></a>"
   ]
  },
  {
   "cell_type": "code",
   "execution_count": null,
   "metadata": {
    "_uuid": "f0ab41218c96da4af772bb79ea9485f923bf5a12"
   },
   "outputs": [],
   "source": [
    "'''Proportion of survivors and victims due to pclass, sex, and Ticket category.'''\n",
    "multivariate_analysis(df_train.Pclass, df_train.Sex, df_train.Ticket, df_train.Survived)\n",
    "bold('**Findings: Sex female, ticket p and w mostly survived.**')"
   ]
  },
  {
   "cell_type": "markdown",
   "metadata": {
    "_uuid": "42734be7913b876a47f0e5d65880168f3e26f326"
   },
   "source": [
    "## 9.8 (Pclass, Title, Cabin) vs Survived <a id=\"9.8\"></a>"
   ]
  },
  {
   "cell_type": "code",
   "execution_count": null,
   "metadata": {
    "_uuid": "a2dd4838deeb98d07ce4c243010ed26a9ac16d03"
   },
   "outputs": [],
   "source": [
    "'''Proportion of survivors and victims due to pclass, title, and cabin.'''\n",
    "multivariate_analysis(df_train.Pclass, df_train.Title, df_train.Cabin, df_train.Survived)\n",
    "bold('**Findings: Title mrs, master and cabin x had best survival ratio.**')"
   ]
  },
  {
   "cell_type": "markdown",
   "metadata": {
    "_uuid": "9b2b37efd0700af27f7ce0a0f5770f23468c71e2"
   },
   "source": [
    "## 9.9 (Family_size, Sex, Cabin) vs Survived <a id=\"9.9\"></a>"
   ]
  },
  {
   "cell_type": "code",
   "execution_count": null,
   "metadata": {
    "_uuid": "a9d5486dbaf91e2ce1b44a6f4c035b4a9a556ae6"
   },
   "outputs": [],
   "source": [
    "'''Proportion of survivors and victims due to family_size, sex, and cabin.'''\n",
    "multivariate_analysis(df_train.Family_size, df_train.Sex, df_train.Cabin, df_train.Survived)\n",
    "bold('**Findings: Family_size small, medium and sex female had best survival chance.**')"
   ]
  },
  {
   "cell_type": "markdown",
   "metadata": {
    "_uuid": "efeadf4437180189d1eee32a56c962c59c8b9df3"
   },
   "source": [
    "## 9.10 (Sex, Title, Family_size) vs Survived <a id=\"9.10\"></a>"
   ]
  },
  {
   "cell_type": "code",
   "execution_count": null,
   "metadata": {
    "_uuid": "950ec728ffd180c84024a654b59412d77be0584b"
   },
   "outputs": [],
   "source": [
    "'''Proportion of survivors and victims due to sex, title, and family_size.'''\n",
    "multivariate_analysis(df_train.Sex, df_train.Title, df_train.Family_size, df_train.Survived)\n",
    "bold('**Findings: Title aristocrat, sex female and family_size small mostly survived.**')"
   ]
  },
  {
   "cell_type": "markdown",
   "metadata": {
    "_uuid": "3914265a350110e244736ac5b7a55af4dea9e29a"
   },
   "source": [
    "## 9.11 (Sex, Title, Cabin) vs Survived <a id=\"9.11\"></a>"
   ]
  },
  {
   "cell_type": "code",
   "execution_count": null,
   "metadata": {
    "_uuid": "1e1b056733a8a0716ea965df53f797a815277cf1"
   },
   "outputs": [],
   "source": [
    "'''Proportion of survivors and victims due to sex, title, and cabin.'''\n",
    "multivariate_analysis(df_train.Sex, df_train.Title, df_train.Cabin, df_train.Survived)\n",
    "bold('**Findings: findings: Title aristocrat, miss, mrs and sex female mostly survived.**')"
   ]
  },
  {
   "cell_type": "markdown",
   "metadata": {
    "_uuid": "9d1b8a659c4485d0939ff76836cafc5da413e146"
   },
   "source": [
    "## 9.12 (Sex, Title, Embarked) vs Survived <a id=\"9.12\"></a>"
   ]
  },
  {
   "cell_type": "code",
   "execution_count": null,
   "metadata": {
    "_uuid": "825c19fbc0bbc492782140a0b87b6a2d49ced1f0"
   },
   "outputs": [],
   "source": [
    "'''Proportion of survivors and victims due to sex, title, and embarked.'''\n",
    "multivariate_analysis(df_train.Sex, df_train.Title, df_train.Embarked, df_train.Survived)\n",
    "bold('**Findings: Embarked c, sex female and title master and aristocrat had best survival rate.**')"
   ]
  },
  {
   "cell_type": "markdown",
   "metadata": {
    "_uuid": "ed79e2e5d04554dd990d3cf840773426a5691456"
   },
   "source": [
    "## 9.13 (Sex, Title, Ticket) vs Survived <a id=\"9.13\"></a>"
   ]
  },
  {
   "cell_type": "code",
   "execution_count": null,
   "metadata": {
    "_uuid": "ebf339ef676cbccd0facd0869a50925bf7cd31ef"
   },
   "outputs": [],
   "source": [
    "\"\"\"Proportion of survivors and victims due to sex, title, and Ticket.\"\"\"\n",
    "multivariate_analysis(df_train.Sex, df_train.Title, df_train.Ticket, df_train.Survived)\n",
    "bold('**Findings: Ticker n, w and sex male and title mr mostly died.**')"
   ]
  },
  {
   "cell_type": "markdown",
   "metadata": {
    "_uuid": "e9c3bc79ce64219b47ca9da5184e9d9330a3c8de"
   },
   "source": [
    "# 10.Data Transformation <a id=\"10\"></a>\n",
    "In this section, we will categorize our continuous variables. After that, redundant and useless features will be deleted.\n",
    "And finally categorical variables will be encoded into numerical to feed our machine learning models.\n",
    "\n",
    "## 10.1 Binning Continuous Variables <a id=\"10.1\"></a>\n",
    "We saw Age is inversely correlated with survival and infants were more likely to survive. We will create some categories of age to check which categories of age  are more likely to survive. We would do the same for Fare except Fair is posivively correlated with Survived.\n",
    "\n",
    "**Note:** Binning continuous variables prevents overfitting which is a common problem for tree based models like decision trees and random forest.\n",
    "\n",
    "### 10.1.1 Binning Age <a id=\"10.1.1\"></a>"
   ]
  },
  {
   "cell_type": "code",
   "execution_count": null,
   "metadata": {
    "_uuid": "f7ed875c15aee719f775967bb897858bd45ba86e"
   },
   "outputs": [],
   "source": [
    "'''Create bin categories for Age.'''\n",
    "label_names = ['infant','child','teenager','young_adult','adult','aged']\n",
    "\n",
    "'''Create range for each bin categories of Age.'''\n",
    "cut_points = [0,5,12,18,35,60,81]\n",
    "\n",
    "'''Create and view categorized Age with original Age.'''\n",
    "merged['Age_binned'] = pd.cut(merged.Age, cut_points, labels = label_names)\n",
    "bold('**Age with Categorized Age:**')\n",
    "display(merged[['Age', 'Age_binned']].head(2))"
   ]
  },
  {
   "cell_type": "markdown",
   "metadata": {
    "_uuid": "4e5f0fd78825f26a06fc482b01286daae4a2a2b0"
   },
   "source": [
    "### 10.1.2 Binning Fare <a id=\"10.1.2\"></a>"
   ]
  },
  {
   "cell_type": "code",
   "execution_count": null,
   "metadata": {
    "_uuid": "9f6893849b51f54fae6e9fdb2a584c82eae3bd30"
   },
   "outputs": [],
   "source": [
    "'''Create bin categories for Fare.'''\n",
    "groups = ['low','medium','high','very_high']\n",
    "\n",
    "'''Create range for each bin categories of Fare.'''\n",
    "cut_points = [-1, 130, 260, 390, 520]\n",
    "\n",
    "'''Create and view categorized Fare with original Fare.'''\n",
    "merged['Fare_binned'] = pd.cut(merged.Fare, cut_points, labels = groups)\n",
    "bold('**Fare with Categorized Fare:**')\n",
    "display(merged[['Fare', 'Fare_binned']].head(2))"
   ]
  },
  {
   "cell_type": "markdown",
   "metadata": {
    "_uuid": "b44322792ff72d37a4d39c86eeb8157ad4f3f92c"
   },
   "source": [
    "##  10.2 Dropping Features <a id=\"10.2\"></a>\n",
    "Now we have both transformed and the original variables transformation have been made from. So we should safely drop the variables that we think would not be useful anymore for our survival analysis since they are very unlikely to be analyzed in their raw forms."
   ]
  },
  {
   "cell_type": "code",
   "execution_count": null,
   "metadata": {
    "_uuid": "a983f3184d79473790d03579de9d96a4b1c1e5bd"
   },
   "outputs": [],
   "source": [
    "\"\"\"Let's see all the variables we currently have with their category.\"\"\"\n",
    "display(merged.head(2))\n",
    "\n",
    "'''Drop the features that would not be useful anymore.'''\n",
    "merged.drop(columns = ['Name', 'Age', 'Fare'], inplace = True, axis = 1)\n",
    "\n",
    "'''Features after dropping.'''\n",
    "bold('**Features Remaining after Dropping:**')\n",
    "display(merged.columns)"
   ]
  },
  {
   "cell_type": "markdown",
   "metadata": {
    "_uuid": "6bff22656822d93b19ca233eab73b7df14a1cd5c"
   },
   "source": [
    "## 10.3 Correcting Data Types <a id=\"10.3\"></a>"
   ]
  },
  {
   "cell_type": "code",
   "execution_count": null,
   "metadata": {
    "_uuid": "601d9a40db21022aab075e1c48ff2f694bd4e4a7"
   },
   "outputs": [],
   "source": [
    "'''Checking current data types.'''\n",
    "bold('**Current Variable Data Types:**')\n",
    "display(merged.dtypes)"
   ]
  },
  {
   "cell_type": "markdown",
   "metadata": {
    "_uuid": "4d9acdb779a679c1be96582eba4e4a355944a2ca"
   },
   "source": [
    "1. PassengerId, SibSp, and Parch data types will be kept same (integer).\n",
    "2. Survived data type will be converted into integer and rest of the variables' data types will be converted into categorical data types."
   ]
  },
  {
   "cell_type": "code",
   "execution_count": null,
   "metadata": {
    "_uuid": "28aafbe1d2ec3235386189d4713db61c04e9a455"
   },
   "outputs": [],
   "source": [
    "'''Correcting data types, converting into categorical variables.'''\n",
    "merged.loc[:, ['Pclass', 'Sex', 'Embarked', 'Cabin', 'Title', 'Family_size', 'Ticket']] = merged.loc[:, ['Pclass', 'Sex', 'Embarked', 'Cabin', 'Title', 'Family_size', 'Ticket']].astype('category')\n",
    "\n",
    "'''Due to merging there are NaN values in Survived for test set observations.'''\n",
    "merged.Survived = merged.Survived.dropna().astype('int')#Converting without dropping NaN throws an error.\n",
    "\n",
    "'''Check if data types have been corrected.'''\n",
    "bold('**Data Types after Correction:**')\n",
    "display(merged.dtypes)"
   ]
  },
  {
   "cell_type": "markdown",
   "metadata": {
    "_uuid": "cee3a8d82f4aad312d48e72a603c9362c840e838"
   },
   "source": [
    "## 10.4 Encoding Categorical Variables <a id=\"10.4\"></a>\n",
    "WE would like to use one hot encoding instead of label encoding because algorithm might give weights to higher values if label encoding is used to encode numeric variables."
   ]
  },
  {
   "cell_type": "code",
   "execution_count": null,
   "metadata": {
    "_uuid": "57112be207736ec9a8a321fcfd642aaf06aabda6"
   },
   "outputs": [],
   "source": [
    "'''Convert categorical data into numeric to feed our machine learning model.'''\n",
    "merged = pd.get_dummies(merged)\n",
    "\n",
    "\"\"\"Let's visualize the updated dataset that would be fed to our machine learning algorithms.\"\"\"\n",
    "bold('**Preview of Processed Data:**')\n",
    "display(merged.head(2))"
   ]
  },
  {
   "cell_type": "markdown",
   "metadata": {
    "_uuid": "3c5abfd503c5cd2d0f69b519a64d98e8509f91eb"
   },
   "source": [
    "# 11.Model Building and Evaluation <a id=\"11\"></a>\n",
    "With all the preprocessings done and dusted, we're ready to train classifiers with the processed data. First extract train and test data from variable merged. Then feed the training data to the classifiers we're interested in for this problem."
   ]
  },
  {
   "cell_type": "code",
   "execution_count": null,
   "metadata": {
    "_uuid": "7de75cda5e2dc737c3be2812ec8f8b92119c5d92"
   },
   "outputs": [],
   "source": [
    "'''Set a seed for reproducibility'''\n",
    "seed = 43\n",
    "\n",
    "\"\"\"Let's split the train and test set to feed machine learning algorithm.\"\"\"\n",
    "df_train = merged.iloc[:891, :]\n",
    "df_test  = merged.iloc[891:, :]\n",
    "\n",
    "'''Drop passengerid from train set and Survived from test set.'''\n",
    "df_train = df_train.drop(columns = ['PassengerId'], axis = 1)\n",
    "df_test = df_test.drop(columns = ['Survived'], axis = 1)\n",
    "\n",
    "'''Extract data sets as input and output for machine learning models.'''\n",
    "X_train = df_train.drop(columns = ['Survived'], axis = 1) # Input matrix as pandas dataframe (dim:891*47).\n",
    "y_train = df_train['Survived'] # Output vector as pandas series (dim:891*1)\n",
    "\n",
    "\"\"\"Extract test set\"\"\"\n",
    "X_test  = df_test.drop(\"PassengerId\", axis = 1).copy()\n",
    "\n",
    "'''See the dimensions of input and output data set.'''\n",
    "print('Input Matrix Dimension:  ', X_train.shape)\n",
    "print('Output Vector Dimension: ', y_train.shape)\n",
    "print('Test Data Dimension:     ', X_test.shape)"
   ]
  },
  {
   "cell_type": "markdown",
   "metadata": {
    "_uuid": "ee2bd7674ccf959de91b69dbaf043138fb965176"
   },
   "source": [
    "## 11.1 Training Model <a id=\"11.1\"></a>\n",
    "We would train 10 different classifiers for this binary classification problem."
   ]
  },
  {
   "cell_type": "code",
   "execution_count": null,
   "metadata": {
    "_uuid": "bad841018dc75faafcda16f2b09c6eadc680bd20"
   },
   "outputs": [],
   "source": [
    "\"\"\"Building machine learning models: \n",
    "We will try 10 different classifiers to find the best classifier after tunning model's hyperparameters that will best generalize the unseen(test) data.\"\"\"\n",
    "\n",
    "'''Now initialize all the classifiers object.'''\n",
    "'''#1.Logistic Regression'''\n",
    "from sklearn.linear_model import LogisticRegression\n",
    "lr = LogisticRegression()\n",
    "\n",
    "'''#2.Support Vector Machines'''\n",
    "from sklearn.svm import SVC\n",
    "svc = SVC(gamma = 'auto')\n",
    "\n",
    "'''#3.Random Forest Classifier'''\n",
    "from sklearn.ensemble import RandomForestClassifier\n",
    "rf = RandomForestClassifier(random_state = seed, n_estimators = 100)\n",
    "\n",
    "'''#4.KNN'''\n",
    "from sklearn.neighbors import KNeighborsClassifier\n",
    "knn = KNeighborsClassifier()\n",
    "\n",
    "'''#5.Gaussian Naive Bayes'''\n",
    "from sklearn.naive_bayes import GaussianNB\n",
    "gnb = GaussianNB()\n",
    "\n",
    "'''#6.Decision Tree Classifier'''\n",
    "from sklearn.tree import DecisionTreeClassifier\n",
    "dt = DecisionTreeClassifier(random_state = seed)\n",
    "\n",
    "'''#7.Gradient Boosting Classifier'''\n",
    "from sklearn.ensemble import GradientBoostingClassifier\n",
    "gbc = GradientBoostingClassifier(random_state = seed)\n",
    "\n",
    "'''#8.Adaboost Classifier'''\n",
    "from sklearn.ensemble import AdaBoostClassifier\n",
    "abc = AdaBoostClassifier(random_state = seed)\n",
    "\n",
    "'''#9.ExtraTrees Classifier'''\n",
    "from sklearn.ensemble import ExtraTreesClassifier\n",
    "etc = ExtraTreesClassifier(random_state = seed)\n",
    "\n",
    "'''#10.Extreme Gradient Boosting'''\n",
    "from xgboost import XGBClassifier\n",
    "xgbc = XGBClassifier(random_state = seed)\n",
    "\n",
    "'''Create a function that returns train accuracy of different models.'''\n",
    "def train_accuracy(model):\n",
    "    model.fit(X_train, y_train)\n",
    "    train_accuracy = model.score(X_train, y_train)\n",
    "    train_accuracy = np.round(train_accuracy*100, 2)\n",
    "    return train_accuracy\n",
    "\n",
    "\n",
    "'''Models with best training accuracy:'''\n",
    "train_accuracy = pd.DataFrame({'Train_accuracy(%)':[train_accuracy(lr), train_accuracy(svc), train_accuracy(rf), train_accuracy(knn), train_accuracy(gnb), train_accuracy(dt), train_accuracy(gbc), train_accuracy(abc), train_accuracy(etc), train_accuracy(xgbc)]})\n",
    "train_accuracy.index = ['LR', 'SVC', 'RF', 'KNN', 'GNB', 'DT', 'GBC', 'ABC', 'ETC', 'XGBC']\n",
    "sorted_train_accuracy = train_accuracy.sort_values(by = 'Train_accuracy(%)', ascending = False)\n",
    "bold('**Training Accuracy of the Classifiers:**')\n",
    "display(sorted_train_accuracy)"
   ]
  },
  {
   "cell_type": "markdown",
   "metadata": {
    "_uuid": "42732ab4a47e0a0ea4f8c4f480099ed21c380be3"
   },
   "source": [
    "**Looks like all the tree based models have highest train accuracy followed KNN, LR, ABC and SVC. But train accuracy of a model is not enough to tell if a model can be able to generalize the unseen data or not. Because training data is something our model has been trained with, i.e., data our model has already seen it. We all know that, the purpose of building a machine learning model is to generalize the unseen data, i.e., data our model has not yet seen. Hence we can't use training accuracy for our model evaluation rather we must know how our model will perform on the data our model is yet to see.**\n",
    "\n",
    "## 11.2 Model Evaluation <a id=\"11.2\"></a>\n",
    "So basically, to evaluate a model's performance, we need some data (input) for which we know the ground truth(label). For this problem, we don't know the ground truth for the test set but we do know for the train set. So the idea is to train and evaluate the model performance on different data. One thing we can do is to split the train set in two groups, usually in 80:20 ratio. That means we would train our model on 80% of the training data and we reserve the rest 20% for evaluating the model since we know the ground truth for this 20% data. Then we can compare our model prediction with this ground truth (for 20% data). That's how we can tell how our model would perform on unseen data. This is the first model evaluation technique. In sklearn we have a train_test_split method for that.\n",
    "\n",
    "Train_test split has its drawbacks. Because this approach introduces bias as we are not using all of our observations for testing and also we're  reducing the train data size. To overcome this we can use a technique called cross validation where all the data is used for training and testing periodically. Thus we may reduce the bias introduced by train_test_split. From different cross validation methods, we would use k-fold cross validation. In sklearn we have a method cross_val_score for calculating k-fold cross validation score.\n",
    "\n",
    "However,  as the train set gets larger, train_test_split has its advantage over k-fold cross validation. Train_test_split is k-times faster than k-fold cross validation. If the training set is very large, both train_test_split and k-fold cross validation perform identically. So for a large training data, train_test_split is prefered over k-fold cross validation to accelerate the training process.\n",
    "\n",
    "### 11.2.1 K-Fold Cross Validation <a id=\"11.2.1\"></a>\n",
    "Let's say we will use 10-fold cross validation. So k = 10 and we have total 891 observations. Each fold would have 891/10 = 89.1 observations. So basically k-fold cross validation uses fold-1 (89.1 samples) as the testing set and k-1 (9 folds) as the training sets and calculates test accuracy.This procedure is repeated k times (if k = 10, then 10 times); each time, a different group of observations is treated as a validation or test set. This process results in k estimates of the test accuracy which are then averaged out."
   ]
  },
  {
   "cell_type": "code",
   "execution_count": null,
   "metadata": {
    "_uuid": "45eb69b73fb97937bd5a6476d57a17d10d6fcc32",
    "scrolled": true
   },
   "outputs": [],
   "source": [
    "'''Create a function that returns mean cross validation score for different models.'''\n",
    "def x_val_score(model):\n",
    "    from sklearn.model_selection import cross_val_score\n",
    "    x_val_score = cross_val_score(model, X_train, y_train, cv = 10, scoring = 'accuracy').mean()\n",
    "    x_val_score = np.round(x_val_score*100, 2)\n",
    "    return x_val_score\n",
    "\n",
    "\"\"\"Let's perform k-fold (k=10) cross validation to find the classifier with the best cross validation accuracy.\"\"\"\n",
    "x_val_score = pd.DataFrame({'X_val_score(%)':[x_val_score(lr), x_val_score(svc), x_val_score(rf), x_val_score(knn), x_val_score(gnb), x_val_score(dt), x_val_score(gbc), x_val_score(abc), x_val_score(etc), x_val_score(xgbc)]})\n",
    "x_val_score.index = ['LR', 'SVC', 'RF', 'KNN', 'GNB', 'DT', 'GBC', 'ABC', 'ETC', 'XGBC']\n",
    "sorted_x_val_score = x_val_score.sort_values(by = 'X_val_score(%)', ascending = False) \n",
    "bold('**Models 10-fold Cross Validation Score:**')\n",
    "display(sorted_x_val_score)"
   ]
  },
  {
   "cell_type": "markdown",
   "metadata": {
    "_uuid": "3023244ccfa300ecc5f51e9adbea756c13dd9f60"
   },
   "source": [
    "**I've always found that trying out multiple algorithms on the same problem reveals very interesting differences in the patterns the algorithms pick up well. Algorithms disagree on predictions because they've different ways of viewing the data.**\n",
    "\n",
    "**Findings:** Looks like LR and SVC have the highest cross validation accuracy among the classifiers, followed by GBC, XGBC, KNN, ABC, ETC and RF.\n",
    "\n",
    "## 11.2.2 Tunning Hyperparameters  <a id=\"11.2.2\"></a>\n",
    "**Now let's add Grid Search to all the classifiers with the hopes of optimizing their hyperparameters and thus improving their accuracy. Are the default model parameters the best bet? Let's find out.**\n",
    "\n",
    "**Note:** Hyperparameters should be tunned for all the models you try because only then you will be able to tell what is the best you can get out of that particular model."
   ]
  },
  {
   "cell_type": "code",
   "execution_count": null,
   "metadata": {
    "_uuid": "02a7d924721c252eca2e2e1f06af04fdffa97b90"
   },
   "outputs": [],
   "source": [
    "\"\"\"Define all the models' hyperparameters one by one first::\"\"\"\n",
    "\n",
    "'''Define hyperparameters the logistic regression will be tuned with. For LR, the following hyperparameters are usually tunned.'''\n",
    "lr_params = {'penalty':['l1', 'l2'],\n",
    "             'C': np.logspace(0, 4, 10)}\n",
    "\n",
    "'''For GBC, the following hyperparameters are usually tunned.'''\n",
    "gbc_params = {'learning_rate': [0.01, 0.02, 0.05, 0.01],\n",
    "              'max_depth': [4, 6, 8],\n",
    "              'max_features': [1.0, 0.3, 0.1], \n",
    "              'min_samples_split': [ 2, 3, 4],\n",
    "              'random_state':[seed]}\n",
    "\n",
    "'''For SVC, the following hyperparameters are usually tunned.'''\n",
    "svc_params = {'C': [6, 7, 8, 9, 10, 11, 12], \n",
    "              'kernel': ['linear','rbf'],\n",
    "              'gamma': [0.5, 0.2, 0.1, 0.001, 0.0001]}\n",
    "\n",
    "'''For DT, the following hyperparameters are usually tunned.'''\n",
    "dt_params = {'max_features': ['auto', 'sqrt', 'log2'],\n",
    "             'min_samples_split': [2, 3, 4, 5, 6, 7, 8, 9, 10, 11, 12, 13, 14, 15], \n",
    "             'min_samples_leaf':[1, 2, 3, 4, 5, 6, 7, 8, 9, 10, 11],\n",
    "             'random_state':[seed]}\n",
    "\n",
    "'''For RF, the following hyperparameters are usually tunned.'''\n",
    "rf_params = {'criterion':['gini','entropy'],\n",
    "             'n_estimators':[10, 15, 20, 25, 30],\n",
    "             'min_samples_leaf':[1, 2, 3],\n",
    "             'min_samples_split':[3, 4, 5, 6, 7], \n",
    "             'max_features':['sqrt', 'auto', 'log2'],\n",
    "             'random_state':[44]}\n",
    "\n",
    "'''For KNN, the following hyperparameters are usually tunned.'''\n",
    "knn_params = {'n_neighbors':[3, 4, 5, 6, 7, 8],\n",
    "              'leaf_size':[1, 2, 3, 5],\n",
    "              'weights':['uniform', 'distance'],\n",
    "              'algorithm':['auto', 'ball_tree','kd_tree','brute']}\n",
    "\n",
    "'''For ABC, the following hyperparameters are usually tunned.'''\n",
    "abc_params = {'n_estimators':[1, 5, 10, 15, 20, 25, 40, 50, 60, 80, 100, 130, 160, 200, 250, 300],\n",
    "              'learning_rate':[0.0001, 0.001, 0.01, 0.1, 0.2, 0.3,1.5],\n",
    "              'random_state':[seed]}\n",
    "\n",
    "'''For ETC, the following hyperparameters are usually tunned.'''\n",
    "etc_params = {'max_depth':[None],\n",
    "              'max_features':[1, 3, 10],\n",
    "              'min_samples_split':[2, 3, 10],\n",
    "              'min_samples_leaf':[1, 3, 10],\n",
    "              'bootstrap':[False],\n",
    "              'n_estimators':[100, 300],\n",
    "              'criterion':[\"gini\"], \n",
    "              'random_state':[seed]}\n",
    "\n",
    "'''For XGBC, the following hyperparameters are usually tunned.'''\n",
    "xgbc_params = {'n_estimators': (150, 250, 350,450,550,650, 700, 800, 850, 1000),\n",
    "              'learning_rate': (0.01, 0.6),\n",
    "              'subsample': (0.3, 0.9),\n",
    "              'max_depth': [3, 4, 5, 6, 7, 8, 9],\n",
    "              'colsample_bytree': (0.5, 0.9),\n",
    "              'min_child_weight': [1, 2, 3, 4],\n",
    "              'random_state':[seed]}\n",
    "\n",
    "\n",
    "'''Create a function to tune hyperparameters of the selected models.'''\n",
    "def tune_hyperparameters(model, params):\n",
    "    from sklearn.model_selection import GridSearchCV\n",
    "    global best_params, best_score\n",
    "    # Construct grid search object with 10 fold cross validation.\n",
    "    grid = GridSearchCV(model, params, verbose = 2, cv = 10, scoring = 'accuracy', n_jobs = -1)\n",
    "    # Fit using grid search.\n",
    "    grid.fit(X_train, y_train)\n",
    "    best_params, best_score = grid.best_params_, np.round(grid.best_score_*100, 2)\n",
    "    return best_params, best_score"
   ]
  },
  {
   "cell_type": "markdown",
   "metadata": {
    "_uuid": "ba2af76fddcf7b743f24d5df52f6ad588c7a5ab5"
   },
   "source": [
    "**Note:** GridSearchCV will only consider the values for each hyperparameter that you explicitly define here. If you don't \n",
    "define it in the parameter dictionary object, it will not be included in the grid search.This process of finding the best \n",
    "parameters is called exhaustive grid-search because its trying every combination."
   ]
  },
  {
   "cell_type": "code",
   "execution_count": null,
   "metadata": {
    "_uuid": "15ec6ddee5edafca9522f14dac5106e5ccab6299"
   },
   "outputs": [],
   "source": [
    "'''Tune LR hyperparameters.'''\n",
    "tune_hyperparameters(lr, params = lr_params)\n",
    "lr_best_params, lr_best_score = best_params, best_score\n",
    "print('Best Score:', lr_best_score)\n",
    "print('Best Parameters:', lr_best_params)"
   ]
  },
  {
   "cell_type": "markdown",
   "metadata": {
    "_uuid": "ef8ea9a1e79e5358cc5f104f516fe8fa4c5b7915"
   },
   "source": [
    "**Since accuracy increases, it can be said that the most accurate logistic regression model uses C = 2.7825594022071245 and penalty = l1 as hyperparameters.**"
   ]
  },
  {
   "cell_type": "code",
   "execution_count": null,
   "metadata": {
    "_uuid": "766f1edd10314d196bfbaff5e904b0817a942351"
   },
   "outputs": [],
   "source": [
    "\"\"\"Tune GBC's hyperparameters.\"\"\"\n",
    "tune_hyperparameters(gbc, params = gbc_params)\n",
    "gbc_best_score, gbc_best_params = best_score, best_params"
   ]
  },
  {
   "cell_type": "code",
   "execution_count": null,
   "metadata": {
    "_uuid": "d8327954733501bc98dc0c713df18024b640266f"
   },
   "outputs": [],
   "source": [
    "\"\"\"Tune SVC's hyperparameters.\"\"\"\n",
    "tune_hyperparameters(svc, params = svc_params)\n",
    "svc_best_score, svc_best_params = best_score, best_params"
   ]
  },
  {
   "cell_type": "code",
   "execution_count": null,
   "metadata": {
    "_uuid": "946c2f1916ee077da7a055ef29de0ee504e9e811"
   },
   "outputs": [],
   "source": [
    "\"\"\"Tune DT's hyperparameters.\"\"\"\n",
    "tune_hyperparameters(dt, params = dt_params)\n",
    "dt_best_score, dt_best_params = best_score, best_params"
   ]
  },
  {
   "cell_type": "code",
   "execution_count": null,
   "metadata": {
    "_uuid": "f5dc643cc4762e3d81bf6413a7abc2b23aedc94e"
   },
   "outputs": [],
   "source": [
    "\"\"\"Tune RF's hyperparameters.\"\"\"\n",
    "tune_hyperparameters(rf, params = rf_params)\n",
    "rf_best_score, rf_best_params = best_score, best_params"
   ]
  },
  {
   "cell_type": "code",
   "execution_count": null,
   "metadata": {
    "_uuid": "7e04fcefdec6a3133e171b5c410709b4214f280d"
   },
   "outputs": [],
   "source": [
    "\"\"\"Tune KNN's hyperparameters.\"\"\"\n",
    "tune_hyperparameters(knn, params = knn_params)\n",
    "knn_best_score, knn_best_params = best_score, best_params"
   ]
  },
  {
   "cell_type": "code",
   "execution_count": null,
   "metadata": {
    "_uuid": "a1ee3e4aa98dcc102ce3ec3d564ec2bb72148e61"
   },
   "outputs": [],
   "source": [
    "\"\"\"Tune ABC's hyperparameters.\"\"\"\n",
    "tune_hyperparameters(abc, params = abc_params)\n",
    "abc_best_score, abc_best_params = best_score, best_params"
   ]
  },
  {
   "cell_type": "code",
   "execution_count": null,
   "metadata": {
    "_uuid": "b50300270d11da5852f58afff49e460959793734"
   },
   "outputs": [],
   "source": [
    "\"\"\"Tune ETC's hyperparameters.\"\"\"\n",
    "tune_hyperparameters(etc, params = etc_params)\n",
    "etc_best_score, etc_best_params = best_score, best_params"
   ]
  },
  {
   "cell_type": "markdown",
   "metadata": {
    "_uuid": "86e3a847fd1709074b8e3d4ad943ba9a32093efa"
   },
   "source": [
    "##### Tune XGBC's hyperparameters. Due to computational restrictions, I won't optimise its hyperparameters.\n",
    "tune_hyperparameters(xgbc, params = xgbc_params)\n",
    "xgbc_best_score, xgbc_best_params = best_score, best_params"
   ]
  },
  {
   "cell_type": "markdown",
   "metadata": {
    "_uuid": "261adf21274a44249b62f200b163b7fe5507145f"
   },
   "source": [
    "## 11.2.3  Model Selection <a id=\"11.2.3\"></a>\n",
    "Let's sort the models according to their accuracy score after tunning hyperparameters to select the best models for further study on this classification problem."
   ]
  },
  {
   "cell_type": "code",
   "execution_count": null,
   "metadata": {
    "_uuid": "969b137dc3287a9e1c6bd3ec05b6184eb50f7f22"
   },
   "outputs": [],
   "source": [
    "'''Create a dataframe of tunned scores and sort them in descending order.'''\n",
    "tunned_scores = pd.DataFrame({'Tunned_accuracy(%)': [lr_best_score, gbc_best_score, svc_best_score, dt_best_score, rf_best_score, knn_best_score, abc_best_score, etc_best_score]})\n",
    "tunned_scores.index = ['LR', 'GBC', 'SVC', 'DT', 'RF', 'KNN', 'ABC', 'ETC']\n",
    "sorted_tunned_scores = tunned_scores.sort_values(by = 'Tunned_accuracy(%)', ascending = False)\n",
    "bold('**Models Accuracy after Optimization:**')\n",
    "display(sorted_tunned_scores)"
   ]
  },
  {
   "cell_type": "code",
   "execution_count": null,
   "metadata": {
    "_uuid": "5f643120c45d3df3e59fbfde323186a811522a02"
   },
   "outputs": [],
   "source": [
    "'''#4.Create a function that compares cross validation scores with tunned scores for different models by plotting them.'''\n",
    "def compare_scores(accuracy):\n",
    "    global ax1   \n",
    "    font_size = 15\n",
    "    title_size = 18\n",
    "    ax1 = accuracy.plot.bar(legend = False,  title = 'Models %s' % ''.join(list(accuracy.columns)), figsize = (18, 5), color = 'sandybrown')\n",
    "    ax1.title.set_size(fontsize = title_size)\n",
    "    # Removes square brackets and quotes from column name after to converting list.\n",
    "    pct_bar_labels()\n",
    "    plt.ylabel('% Accuracy', fontsize = font_size)\n",
    "    plt.show()\n",
    "\n",
    "'''Compare cross validation scores with tunned scores to find the best model.'''\n",
    "bold('**Comparing Cross Validation Scores with Optimized Scores:**')\n",
    "compare_scores(sorted_x_val_score)\n",
    "compare_scores(sorted_tunned_scores)"
   ]
  },
  {
   "cell_type": "markdown",
   "metadata": {
    "_uuid": "add53e0659c1f94fd64ffc1e901eddfd93236e7e"
   },
   "source": [
    "**Findings:** Among the classifiers, RF and GBC have the highest accuracy after  tunning hyperparameters. So RF and GBC are perhaps worthy of further study on this classification problem. Hence we choose RF and GBC.\n",
    "\n",
    "**Note:** Please note that if we chose our classifier based on cross validation scores, we would not get RF and GBC as our best classifiers instead we would end up choosing LR and SVC. So it is recommended to select best classifiers based on accuracy after tunning hyperparameters though it is computationally intensive.\n",
    "\n",
    "## 11.3 Retrain and Predict Using Optimized Hyperparameters <a id=\"11.3\"></a>\n",
    "So we have our best classifiers with their best hyperparameters that produces best accuracy out of a model. That means if we retrain the classifiers using their best hyperparameters, we will be able to get the very same score that we got after tunning hyperparameters (see part 14.4). Let's retrain our classifiers and then use cross validation to calculate the accuracy of the trained model. That's how we will have the same accuracy score as after tunning hyperparameters. Let's retrain models with optimized hyperparameters."
   ]
  },
  {
   "cell_type": "code",
   "execution_count": null,
   "metadata": {
    "_uuid": "1e43a01277a85fa0f7a24975df16c9313fdef407"
   },
   "outputs": [],
   "source": [
    "'''Instantiate the models with optimized hyperparameters.'''\n",
    "rf  = RandomForestClassifier(**rf_best_params)\n",
    "gbc = GradientBoostingClassifier(**gbc_best_params)\n",
    "svc = SVC(**svc_best_params)\n",
    "knn = KNeighborsClassifier(**knn_best_params)\n",
    "etc = ExtraTreesClassifier(**etc_best_params)\n",
    "lr  = LogisticRegression(**lr_best_params)\n",
    "dt  = DecisionTreeClassifier(**dt_best_params)\n",
    "abc = AdaBoostClassifier(**abc_best_params)\n",
    "\n",
    "'''Train all the models with optimised hyperparameters.'''\n",
    "models = {'RF':rf, 'GBC':gbc, 'SVC':svc, 'KNN':knn, 'ETC':etc, 'LR':lr, 'DT':dt, 'ABC':abc}\n",
    "bold('**10-fold Cross Validation after Optimization:**')\n",
    "score = []\n",
    "for x, (keys, items) in enumerate(models.items()):\n",
    "    # Train the models with optimized parameters using cross validation.\n",
    "    # No need to fit the data. cross_val_score does that for us.\n",
    "    # But we need to fit train data for prediction in the follow session.\n",
    "    from sklearn.model_selection import cross_val_score\n",
    "    items.fit(X_train, y_train)\n",
    "    scores = cross_val_score(items, X_train, y_train, cv = 10, scoring = 'accuracy')*100\n",
    "    score.append(scores.mean())\n",
    "    print('Mean Accuracy: %0.4f (+/- %0.4f) [%s]'  % (scores.mean(), scores.std(), keys))"
   ]
  },
  {
   "cell_type": "markdown",
   "metadata": {
    "_uuid": "7288773e678bafe322593bb9d7779bab53a127c5"
   },
   "source": [
    "**See! We've successfully managed to reproduce the same score that we achived only after tunning hyperparameters. Now if we predict using these trained models, we should have the best test accuracy possible out of those model. So let's predict using those trained models:**"
   ]
  },
  {
   "cell_type": "code",
   "execution_count": null,
   "metadata": {
    "_uuid": "46258b0d28870358e410b0208320cfee2e42a877"
   },
   "outputs": [],
   "source": [
    "'''Make prediction using all the trained models.'''\n",
    "model_prediction = pd.DataFrame({'RF':rf.predict(X_test), 'GBC':gbc.predict(X_test), 'ABC':abc.predict(X_test),\n",
    "                                 'ETC':etc.predict(X_test), 'DT':dt.predict(X_test), 'SVC':svc.predict(X_test), \n",
    "                                 'KNN':knn.predict(X_test), 'LR':lr.predict(X_test)})\n",
    "\n",
    "\"\"\"Let's see how each model classifies a prticular class.\"\"\"\n",
    "bold('**All the Models Prediction:**')\n",
    "display(model_prediction.head())"
   ]
  },
  {
   "cell_type": "markdown",
   "metadata": {
    "_uuid": "c2fd75e1137a9ceeb72f3fbd6d92b200f518cea9"
   },
   "source": [
    "## 11.4 Feature Importance <a id=\"11.4\"></a>\n",
    "Do the classifiers give the same priority to every feature? Let's visualize the features importance given by our classifiers."
   ]
  },
  {
   "cell_type": "code",
   "execution_count": null,
   "metadata": {
    "_uuid": "7addc8a762ed068b92626fdbb82a4e72669d2b41",
    "scrolled": false
   },
   "outputs": [],
   "source": [
    "'''Create a function that plot feature importance by the selected tree based models.'''\n",
    "def feature_importance(model):\n",
    "    importance = pd.DataFrame({'Feature': X_train.columns,\n",
    "                              'Importance': np.round(model.feature_importances_,3)})\n",
    "    importance = importance.sort_values(by = 'Importance', ascending = False).set_index('Feature')\n",
    "    return importance\n",
    "\n",
    "'''Create subplots of feature impotance of rf, gbc, dt, etc, and abc.'''\n",
    "fig, axes = plt.subplots(3,2, figsize = (20,40))\n",
    "fig.suptitle('Tree Based Models Feature Importance', fontsize = 28)\n",
    "tree_models = [rf, gbc, dt, etc, abc]\n",
    "tree_names = ['RF', 'GBC', 'DT', 'ETC', 'ABC']\n",
    "\n",
    "for ax, model, name in zip(axes.flatten(), tree_models, tree_names):\n",
    "    feature_importance(model).plot.barh(ax = ax, title = name, fontsize = 16)\n",
    "fig.delaxes(ax = axes[2,1]) # We don't need the last subplot.\n",
    "fig.tight_layout(rect = [0, 0.03, 1, 0.97])"
   ]
  },
  {
   "cell_type": "markdown",
   "metadata": {
    "_uuid": "57d2655c4b716f9b38732f918dd5261c38da7d55"
   },
   "source": [
    "**Findings:** RF, DT, ETC, and ABC (in particular) give some features no importance (zero importance). On the other hand, GBC give all the features more or less importance but it doesn't give zero importance to any features. These are the tree based models that have 'feature_importances_' method by default. LR, KNN and SVC don't have this method. In this problem, SVC uses rbf kernel (only possible for linear kernel to plot feature importance), so its not possible to view feature importance given by SVC. Though its trickier, we would try to get the feature importance given by LR."
   ]
  },
  {
   "cell_type": "code",
   "execution_count": null,
   "metadata": {
    "_uuid": "7e213bf3cb3f250fbe24cd4a2d9442d7828b5e86"
   },
   "outputs": [],
   "source": [
    "\"\"\"Let's plot feature importance of LR.\"\"\"\n",
    "coeff = pd.DataFrame({'Feature':X_train.columns,'Importance':np.transpose(lr.coef_[0])})\n",
    "coeff.sort_values(by = 'Importance').set_index('Feature').plot.bar(title = 'Feature Importance of Linear Model (LR)', figsize = (18,2.5))\n",
    "plt.show()"
   ]
  },
  {
   "cell_type": "markdown",
   "metadata": {
    "_uuid": "5c919a10a442013879351091a1605e5efff2ee1e"
   },
   "source": [
    "**Findings:** We can see some negative values that means that higher value of the corresponding feature pushes the classification more towards the negative class (in our case 0) that is, of course, something we're already aware of. Some features like Family_size_single, Embarked_Q, Embarked_C, and Cabin_F were given zero importance by lr.\n",
    "\n",
    "## 11.5 Learning Curves  <a id=\"11.5\"></a>\n",
    "Let's plot the learning curves for the optimized classifiers to see their bias-variance tradeoff."
   ]
  },
  {
   "cell_type": "code",
   "execution_count": null,
   "metadata": {
    "_uuid": "39bd1f90526997c0ffbd8cbad6372d4caab70a01"
   },
   "outputs": [],
   "source": [
    "'''Create a function that returns learning curves for different classifiers.'''\n",
    "def plot_learning_curve(model):\n",
    "    from sklearn.model_selection import learning_curve\n",
    "    # Create feature matrix and target vector\n",
    "    X, y = X_train, y_train\n",
    "    # Create CV training and test scores for various training set sizes\n",
    "    train_sizes, train_scores, test_scores = learning_curve(model, X, y, cv = 10,\n",
    "                                                    scoring='accuracy', n_jobs = -1, \n",
    "                                                    train_sizes = np.linspace(0.01, 1.0, 17), random_state = seed)\n",
    "                                                    # 17 different sizes of the training set\n",
    "\n",
    "    # Create means and standard deviations of training set scores\n",
    "    train_mean = np.mean(train_scores, axis = 1)\n",
    "    train_std = np.std(train_scores, axis = 1)\n",
    "\n",
    "    # Create means and standard deviations of test set scores\n",
    "    test_mean = np.mean(test_scores, axis = 1)\n",
    "    test_std = np.std(test_scores, axis = 1)\n",
    "\n",
    "    # Draw lines\n",
    "    plt.plot(train_sizes, train_mean, 'o-', color = 'red',  label = 'Training score')\n",
    "    plt.plot(train_sizes, test_mean, 'o-', color = 'green', label = 'Cross-validation score')\n",
    "    \n",
    "    # Draw bands\n",
    "    plt.fill_between(train_sizes, train_mean - train_std, train_mean + train_std, alpha = 0.1, color = 'r') # Alpha controls band transparency.\n",
    "    plt.fill_between(train_sizes, test_mean - test_std, test_mean + test_std, alpha = 0.1, color = 'g')\n",
    "\n",
    "    # Create plot\n",
    "    font_size = 15\n",
    "    plt.xlabel('Training Set Size', fontsize = font_size)\n",
    "    plt.ylabel('Accuracy Score', fontsize = font_size)\n",
    "    plt.xticks(fontsize = font_size)\n",
    "    plt.yticks(fontsize = font_size)\n",
    "    plt.legend(loc = 'best')\n",
    "    plt.grid()"
   ]
  },
  {
   "cell_type": "code",
   "execution_count": null,
   "metadata": {
    "_uuid": "ff3d5c8d6d2214f0299f5cb5c03b68be044eae82"
   },
   "outputs": [],
   "source": [
    "'''Now plot learning curves of the optimized models in subplots.'''\n",
    "plt.figure(figsize = (25,25))\n",
    "lc_models = [rf, gbc, dt, etc, abc, knn, svc, lr]\n",
    "lc_labels = ['RF', 'GBC', 'DT', 'ETC', 'ABC', 'KNN', 'SVC', 'LR']\n",
    "\n",
    "for ax, models, labels in zip (range(1,9), lc_models, lc_labels):\n",
    "    plt.subplot(4,2,ax)\n",
    "    plot_learning_curve(models)\n",
    "    plt.title(labels, fontsize = 18)\n",
    "plt.suptitle('Learning Curves of Optimized Models', fontsize = 28)\n",
    "plt.tight_layout(rect = [0, 0.03, 1, 0.97])"
   ]
  },
  {
   "cell_type": "markdown",
   "metadata": {
    "_uuid": "7ccef6d232aa528330a2c41cd962b52eb35dd0ba"
   },
   "source": [
    "**Findings:**\n",
    "1. RF, DT, SVC and ETC are just doing okay. Among them, SVC is doing the best in terms of bias-variance tradeoff since svc's train accuracy and cross validation accuracy are almost equal. Since training and validation curves haven't yet converged for these classifiers, adding more instances (rows) might help.\n",
    "\n",
    "2. On the other hand, learning curve of GBC, ABC, KNN and LR indicates a little bit high bias or low variance (underfitting) and as the curves have already converged, adding more training data just might not help. Rather adding more features (columns) and increasing model's complexity might help.\n",
    "\n",
    "# 12.More Evaluation Metrics  <a id=\"12\"></a>\n",
    "We've so far used accuracy score to evaluate our classifiers. But sometimes accuracy score isn't all enough to evaluate a classifier properly as accuracy score doesn't tell exactly which class (positive or negative) is being wrongly classified by our classifier in case of low accuracy score. **Again for imbalanced classification problem, accuracy score isn't the best metric to choose between different classifiers. To clarify this, in this section, we will calculate confusion matrix, precision score, recall score, specificity, f1 score, classification report for both random forest and gradient boosting classifier. And then we will compare our two best classifiers (rf and gbc) using these calculated metrics to see exactly where one classifier excels the other.**\n",
    "\n",
    "## 12.1 Confusion Matrix  <a id=\"12.1\"></a>\n",
    "The confusion matrix shows the number of correct classifications along with misclassifications when a classifier make predictions for each class (positive or negative). The diagonal elements are correct classification while the off diagonal elements are misscalssifications. Some basic terms associated with confusion matrix:\n",
    "1. True positives (TP): These are cases in which we predicted 1(yes), and the actual is also 1(yes).\n",
    "2. True negatives (TN): We predicted 0(no), and the actual is also 0(no).\n",
    "3. False positives (FP): We predicted 1(yes), but the actual is 0(no). (Also known as a \"Type I error.\")\n",
    "4. False negatives (FN): We predicted 0(no), but the actual is 1(yes). (Also known as a \"Type II error.\")"
   ]
  },
  {
   "cell_type": "code",
   "execution_count": null,
   "metadata": {
    "_uuid": "30c6b1d121bb350b688bbc1afb86b7ca03a0c6d2"
   },
   "outputs": [],
   "source": [
    "'''Return prediction to use it in another function.'''\n",
    "def x_val_predict(model):\n",
    "    from sklearn.model_selection import cross_val_predict\n",
    "    predicted = cross_val_predict(model, X_train, y_train, cv = 10)\n",
    "    return predicted # Now we can use it in another function by assigning the function to its return value.\n",
    "\n",
    "'''Function to return confusion matrix.'''\n",
    "def confusion_matrix(model):\n",
    "    predicted = x_val_predict(model)\n",
    "    confusion_matrix = pd.crosstab(y_train, predicted, rownames = ['Actual'], colnames = ['Predicted/Classified'], margins = True) # We use pandas crosstab\n",
    "    return display(confusion_matrix)\n",
    "\n",
    "'''Now calculate confusion matrix of rf and gbc.'''\n",
    "bold('**RF Confusion Matrix:**')\n",
    "confusion_matrix(rf)\n",
    "bold('**GBC Confusion Matrix:**')\n",
    "confusion_matrix(gbc)"
   ]
  },
  {
   "cell_type": "markdown",
   "metadata": {
    "_uuid": "dd3b0ae2e2938e85049c4da3c599091e4d5a91b7"
   },
   "source": [
    "The 1st row of our confusion matrix( or sometimes called error matrix) is about the negative class (because of 0 and hence non-survived) and The 2nd row of our confusion matrix( or sometimes called error matrix) is about the positive class (because of 1 and hence survived).\n",
    "\n",
    "For rf, passengers correctly classified as survived are 245 (true positives) and passengers correctly classified as non-survived (died) are 504(true negatives). While 45 passengers (false positives) from class 0 (non-survived) were misclassified as survived and 97 (false negatives) passengers who actually survived were classified as non-survived.\n",
    "\n",
    "And for gbc, passengers correctly classified as survived are 257 (true positives) and passengers correctly classified as non-survived (died) are 492(true negatives). While 57 (false positives) passengers from class 0 (non-survived) were misclassified as survived and 85 (false negatives) passengers who actually survived were misclassified as non-survived.\n",
    "\n",
    "**RF (749) makes exactly same correct predictions (true positives+true negatives) as gbc (749), hence rf and gbc have exactly same accuracy score that we saw when we calculated both model's accuracy score.**\n",
    "\n",
    "## 12.2 Precision Score  <a id=\"12.2\"></a>\n",
    "Precision is the ratio of true positive to total predicted positive(true positive + false positive). So precision score tells how many true positives our model can capture out of total predicted positives."
   ]
  },
  {
   "cell_type": "code",
   "execution_count": null,
   "metadata": {
    "_uuid": "970f0d4988ef43f4a7e59488b52e4583afbcb964"
   },
   "outputs": [],
   "source": [
    "'''Function to calculate precision score.'''\n",
    "def precision_score(model):\n",
    "    from sklearn.metrics import precision_score\n",
    "    predicted = x_val_predict(model)\n",
    "    precision_score = precision_score(y_train, predicted)\n",
    "    return np.round(precision_score*100, 2)\n",
    "\n",
    "'''Compute precision score for rf and gbc.'''\n",
    "print('RF  Precision Score:', precision_score(rf))\n",
    "print('GBC Precision Score:', precision_score(gbc))"
   ]
  },
  {
   "cell_type": "markdown",
   "metadata": {
    "_uuid": "1df0b79a8f8afb79ee005294a41b6c55fb19cb75"
   },
   "source": [
    "**RF's precision score tells when it predicts a passenger as a survivor (=class1), it is correct nearly 84.5% of the time. And gbc's precision score tells when gbc predicts a passenger as a survivor, it is correct nearly 82% of the time. So rf has a better precision score than gbc.**\n",
    "\n",
    "## 12.3 Recall (or Sensitivity or True Positive Rate)  <a id=\"12.3\"></a>\n",
    "Recall is the ratio of true positive to total actual positive(true positive + false negative). So recall score basically calculates true positives from total actual positives."
   ]
  },
  {
   "cell_type": "code",
   "execution_count": null,
   "metadata": {
    "_uuid": "82eab54ba1b869e439b3ce12d63d5fe0c680b477"
   },
   "outputs": [],
   "source": [
    "'''Function to calculate recall score.'''\n",
    "def recall_score(model):\n",
    "    from sklearn.metrics import recall_score\n",
    "    predicted = x_val_predict(model)\n",
    "    recall_score = recall_score(y_train, predicted)\n",
    "    return np.round(recall_score*100, 2)\n",
    "\n",
    "'''Compute recall score for rf and gbc.'''\n",
    "print('RF  Recall Score:', recall_score(rf))\n",
    "print('GBC Recall Score:', recall_score(gbc))"
   ]
  },
  {
   "cell_type": "markdown",
   "metadata": {
    "_uuid": "181cd590165c4c287326c9b0a6c66481091a61b7"
   },
   "source": [
    "** RF's recall score tells it correctly identifies over 71.5% of all the survivors. Or put another way, it predicts over 71.5% of the survivors as a survivor. On the other hand, gbc predicts just over 75% of the survivors as survivor. So gbc is more capable of capturing true positives than rf that we also observed from confusion matrix.**\n",
    "\n",
    "## 12.4 Specificity ( or True Negative Rate)  <a id=\"12.4\"></a>\n",
    "Specificity is the ratio of true negative to total actual negative(true negative + false positive). Specificity  is exactly the opposite of recall. So specificity score basically calculates true negatives from total actual negatives."
   ]
  },
  {
   "cell_type": "code",
   "execution_count": null,
   "metadata": {
    "_uuid": "93367aec6a1e1e366dff9c453bd8a4d80ac50f64"
   },
   "outputs": [],
   "source": [
    "'''Function for specificity score.'''\n",
    "def specificity_score(model):\n",
    "    from sklearn.metrics import confusion_matrix\n",
    "    predicted = x_val_predict(model)\n",
    "    tn, fp, fn, tp = confusion_matrix(y_train, predicted).ravel()\n",
    "    specificity_score = tn / (tn + fp)\n",
    "    return np.round(specificity_score*100, 2)\n",
    "\n",
    "'''Calculate specificity score for rf and gbc.'''\n",
    "print('RF  Specificity Score:', specificity_score(rf))\n",
    "print('GBC Specificity Score:', specificity_score(gbc))"
   ]
  },
  {
   "cell_type": "markdown",
   "metadata": {
    "_uuid": "8f6d903ccd596876053eb5f1242e697b5dc613b1"
   },
   "source": [
    "**RF's specificity score indicates it correctly predicts nearly 92% of the victims as a victim. Comparing recall score with specificity, it looks like our rf model is more accurate on predicting negative class (victims = 0) than predicting positive class (survivors = 1).**\n",
    "\n",
    "**While  gbc's specificity score indicates it correctly predicts over 89.5% of the victims as a victim. Comparing recall score with specificity, it looks like our gbc also is more accurate on predicting negative class (victims = 0) than predicting positive class (survivors = 1).**\n",
    "\n",
    "**Interesting! RF is better than capturing true negatives than gbc. So if we were to choose a model between rf and gbc where our priority is the negative class (0), we would choose rf. And if our priority is positive class(1), we would choose gbc.**\n",
    "\n",
    "## 12.5 F1 Score  <a id=\"12.5\"></a>\n",
    "We can't choose classifiers solely depending on their precision or recall score. Rather we need to consider both to find out the best classifiers. Here comes the f1 score which is  the balanced harmonic mean of Recall and Precision, giving both metrics equal weight. The higher the f1 score is, the better."
   ]
  },
  {
   "cell_type": "code",
   "execution_count": null,
   "metadata": {
    "_uuid": "fc76e088f9b0ecd2db8a4f4cce1d4aa8ccb9f3c5"
   },
   "outputs": [],
   "source": [
    "'''Function for F1 score.'''\n",
    "def f1_score(model):\n",
    "    from sklearn.metrics import f1_score\n",
    "    predicted = x_val_predict(model)\n",
    "    f1_score = f1_score(y_train, predicted)\n",
    "    return np.round(f1_score*100, 2)\n",
    "\n",
    "'''Calculate f1 score for rf and gbc.'''\n",
    "print('RF  F1 Score:', f1_score(rf))\n",
    "print('GBC F1 Score:', f1_score(gbc))"
   ]
  },
  {
   "cell_type": "markdown",
   "metadata": {
    "_uuid": "15ee43a8216a585d2be9503231b75f265fbb2096"
   },
   "source": [
    "**Looks like gbc is better than rf in terms of f1 score.**\n",
    "## 12.6 Classification Report  <a id=\"12.6\"></a>\n",
    "Precision, recall, and f1 score is only associated with true positives. But what if we want to measure true negatives? We can measure them with true positives and count of each class (0 and 1) in  a classification report. It provides precision, recall, f1 score and class count altogether for both classs (0 and 1) but at the cost of less hassle."
   ]
  },
  {
   "cell_type": "code",
   "execution_count": null,
   "metadata": {
    "_uuid": "d5b5a55da0e401b129777c0a50b21e98ccfe2168"
   },
   "outputs": [],
   "source": [
    "'''Function to compute classification report.'''\n",
    "def classification_report(model):\n",
    "    from sklearn.metrics import classification_report\n",
    "    predicted = x_val_predict(model)\n",
    "    classification_report = classification_report(y_train, predicted)\n",
    "    return print(classification_report)\n",
    "\n",
    "'''Now calculate classification report for rf and gbc.'''\n",
    "bold('**RF Classification Report:**')\n",
    "classification_report(rf)\n",
    "bold('**GBC Classification Report:**')\n",
    "classification_report(gbc)"
   ]
  },
  {
   "cell_type": "markdown",
   "metadata": {
    "_uuid": "b1b19d8bd5ab39f8c39bdcc19cd2abddcea58890"
   },
   "source": [
    "**We can see precision, recall, f1 score and class count for both class (0 and 1) of our two models.**\n",
    "## 12.7 Precision-Recall vs Threshold Curve  <a id=\"12.7\"></a>\n",
    "Sometimes we want a high precision and sometimes a high recall depending on our classification problem. The thing is that an increasing precision results in a decreasing recall and vice versa. This is called the precision-recall tradeoff that can be illustrated using precision-recall curve as a function of the decision threshold."
   ]
  },
  {
   "cell_type": "code",
   "execution_count": null,
   "metadata": {
    "_uuid": "20daaca9373b9ab8cd3fb0f054960cb086742513"
   },
   "outputs": [],
   "source": [
    "'''#7Function for plotting precision-recall vs threshold curve.'''\n",
    "def precision_recall_vs_threshold(model, title):\n",
    "    from sklearn.metrics import precision_recall_curve\n",
    "    probablity = model.predict_proba(X_train)[:, 1]\n",
    "    plt.figure(figsize = (18, 5))\n",
    "    precision, recall, threshold = precision_recall_curve(y_train, probablity)\n",
    "    plt.plot(threshold, precision[:-1], 'b-', label = 'precision', lw = 3.7)\n",
    "    plt.plot(threshold, recall[:-1], 'g', label = 'recall', lw = 3.7)\n",
    "    plt.xlabel('Threshold')\n",
    "    plt.legend(loc = 'best')\n",
    "    plt.ylim([0, 1])\n",
    "    plt.title(title)\n",
    "    plt.show()\n",
    "\n",
    "'''Now plot precision-recall vs threshold curve for rf and gbc.'''\n",
    "precision_recall_vs_threshold(rf, title = 'RF Precision-Recall vs Threshold Curve' )\n",
    "precision_recall_vs_threshold(gbc, title = 'GBC Precision-Recall vs Threshold Curve')"
   ]
  },
  {
   "cell_type": "markdown",
   "metadata": {
    "_uuid": "bbbbe394b79a3e5dcaaed2904ad1cd93df1e3885"
   },
   "source": [
    "**We can see for RF, the recall falls quickly at a precision of around 84%. So therefore, we need to select the precision-recall tradeoff before 84% of precision which could be at around 82%. Now, for example, if we want a precision of 80% off RF we would need a threshold of around 0.37**\n",
    "\n",
    "**On the other hand, for GBC, the recall falls fast at a precision of around 84% and hence we would select precision-recall tradeoff at around 80% of precision. If we want a precision of around 81% off GBC, we would need a threshold of around 0.40**\n",
    "\n",
    "## 12.8 Precision-Recall Curve  <a id=\"12.8\"></a>\n",
    "We can also plot precision against recall to get an idea of precision-recall tradeoff where y-axis represents precision and x-axis represents recall. In my plot, I plot recall on y-axis and precision on x-axis."
   ]
  },
  {
   "cell_type": "code",
   "execution_count": null,
   "metadata": {
    "_uuid": "8f652374a2a1f15ae94e812e7f3cfa2478705894"
   },
   "outputs": [],
   "source": [
    "'''Function to plot recall vs precision curve.'''\n",
    "def plot_precision_vs_recall(model, title):\n",
    "    from sklearn.metrics import precision_recall_curve\n",
    "    probablity = model.predict_proba(X_train)[:, 1]\n",
    "    plt.figure(figsize = (18, 5))\n",
    "    precision, recall, threshold = precision_recall_curve(y_train, probablity)\n",
    "    plt.plot(recall, precision, 'r-', lw = 3.7)\n",
    "    plt.ylabel('Recall')\n",
    "    plt.xlabel('Precision')\n",
    "    plt.axis([0, 1.5, 0, 1.5])\n",
    "    plt.title(title)\n",
    "    plt.show()\n",
    "\n",
    "'''Now plot recall vs precision curve of rf and gbc.'''\n",
    "plot_precision_vs_recall(rf, title = 'RF Precision-Recall Curve')\n",
    "plot_precision_vs_recall(gbc, title = 'GBC Precision-Recall Curve')"
   ]
  },
  {
   "cell_type": "markdown",
   "metadata": {
    "_uuid": "49ff79c6d6cc75c91a7c178bad0808287293990c"
   },
   "source": [
    "**We can see rcall falls rapidly at around a precision of 0.84 for both RF and GBC that we've observed in the previous section.**\n",
    "\n",
    "## 12.9 ROC  Curve & AUC Score  <a id=\"12.9\"></a>\n",
    "ROC (Reicever Operating Characteristic Curve) is a plot of the true positive rate against the false positive rate of a classifier. It shows the tradeoff between sensitivity and specificity (any increase in sensitivity will be accompanied by a decrease in specificity). AUC (Area under the ROC Curve) score is the corresponding score to the AUC Curve. It is simply computed by measuring the area under the ROC curve, which is called AUC. We will plot ROC curve and AUC score together for our two classifiers."
   ]
  },
  {
   "cell_type": "code",
   "execution_count": null,
   "metadata": {
    "_uuid": "c6c6c0fcd8f6479a0b8d78c28da3ad2c1529cd6c"
   },
   "outputs": [],
   "source": [
    "'''Function to plot ROC curve with AUC score.'''\n",
    "def plot_roc_and_auc_score(model, title):\n",
    "    from sklearn.metrics import roc_curve, roc_auc_score\n",
    "    probablity = model.predict_proba(X_train)[:, 1]\n",
    "    plt.figure(figsize = (18, 5))\n",
    "    false_positive_rate, true_positive_rate, threshold = roc_curve(y_train, probablity)\n",
    "    auc_score = roc_auc_score(y_train, probablity)\n",
    "    plt.plot(false_positive_rate, true_positive_rate, label = \"ROC CURVE, AREA = \"+ str(auc_score))\n",
    "    plt.plot([0, 1], [0, 1], 'red', lw = 3.7)\n",
    "    plt.xlabel('False Positive Rate (1-Specificity)')\n",
    "    plt.ylabel('True Positive Rate (Sensitivity)')\n",
    "    plt.axis([0, 1, 0, 1])\n",
    "    plt.legend(loc = 4)\n",
    "    plt.title(title)\n",
    "    plt.show()\n",
    "\n",
    "'''Plot roc curve and auc score for rf and gbc.'''\n",
    "plot_roc_and_auc_score(rf, title = 'RF ROC Curve with AUC Score')\n",
    "plot_roc_and_auc_score(gbc, title = 'GBC ROC Curve with AUC Score')"
   ]
  },
  {
   "cell_type": "markdown",
   "metadata": {
    "_uuid": "615db11983660ae847a91aa4d15a57ab96950aa2"
   },
   "source": [
    "This two plots tells few different things:\n",
    "\n",
    "1. A model that predicts at chance will have an ROC curve that looks like the diagonal red line. That is not a discriminating model.\n",
    "\n",
    "2. The further the curve is off the diagonal red line, the better the model is at discriminating between positives and negatives in general.\n",
    "\n",
    "3. There are useful statistics that can be calculated from this curve, like the Area Under the Curve (AUC). This tells you how well the model predicts and the optimal cut point for any given model (under specific circumstances).\n",
    "\n",
    "**Comparing the two ROC curves, we can see the distance between blue and red line of RF is greater than the distance between blue and red line of GBC. Hence it can safely be said that RF, in general, is better at discriminating between positives and negatives than GBC. Also RF(~92.25%) auc score (which is the area under the roc curve) is greater than gbc(~90.6%). It seems the higher the area, the further the classifier is off the red diagonal line and vice versa and hence more accurate. Since RF has more area under the ROC curve than GBC, RF is more accurate.**\n",
    "\n",
    "# 13.Prediction & Submission  <a id=\"13\"></a>\n",
    "First we will predict using both rf and gbc. Then we will create two prediction files in csv format for kaggle submission."
   ]
  },
  {
   "cell_type": "code",
   "execution_count": null,
   "metadata": {
    "_uuid": "9bc0e30014d7288c192ad7d5a47bc0fb68e152df"
   },
   "outputs": [],
   "source": [
    "'''Submission with the most accurate random forest classifier.'''\n",
    "submission = pd.DataFrame({\n",
    "        \"PassengerId\": test[\"PassengerId\"],\n",
    "        \"Survived\": rf.predict(X_test)})\n",
    "submission.to_csv('submission_rf.csv', index = False)\n",
    "\n",
    "\n",
    "'''Submission with the most accurate gradient boosting classifier.'''\n",
    "submission = pd.DataFrame({\n",
    "        \"PassengerId\": test[\"PassengerId\"],\n",
    "        \"Survived\": gbc.predict(X_test)})\n",
    "submission.to_csv('submission_gbc.csv', index = False)"
   ]
  },
  {
   "cell_type": "markdown",
   "metadata": {
    "_uuid": "226076fc71658bf5d2bb26bcabbe24afe9518002"
   },
   "source": [
    "**Though both RF and GBC have the identical validation accuracy (in our case optimized accuracy ~0.8406), RF scored 0.79425 while GBC scored 0.78468 on kaggle leaderboard. The fact that gbc's accuracy on the holdout data is 0.78468 compared with the 0.8406 accuracy we got with cross-validation indicates that GBC underfits the training data that we obsetved from the learning curve (see part 11.7). Hence it performs poorly on kaggle hold out set compared to RF.**\n",
    "\n",
    "### Can we further improve our classifiers' accuracy? May be we can! In the next few section, we will try to improve our models' accuracy with the help of ensemble method."
   ]
  },
  {
   "cell_type": "markdown",
   "metadata": {
    "_uuid": "f55b32b2b8bf50e5c601738ea0a6300a72410775"
   },
   "source": [
    "# 14.Introduction to Ensemble <a id=\"14\"></a>\n",
    "Can we further boost the accuracy of our best models? That's what we will try to do using ensemble method. Ensembles combine predictions from different models to generate a final prediction, and the more models we include the better it performs. Better still, because ensembles combine baseline predictions, they perform at least as well as the best baseline model. Most of the errors from a model’s learning are from three main factors: variance, noise, and bias. By using ensemble methods, we’re able to increase the stability of the final model and reduce the errors caused by bias, variance, and noise. By combining many models, we’re able to (mostly) reduce the variance, even when they are individually not great, as we won’t suffer from random errors from a single source. **The main principle behind ensemble modelling is to group weak learners together to form one strong learner. The most basic ensemble is majority voting rule (where the prediction or vote given by the majority of the models used as final prediction).But there are many other ways to combine predictions, and more generally we can use a model to learn how to best combine predictions.**"
   ]
  },
  {
   "cell_type": "markdown",
   "metadata": {
    "_uuid": "cc503214c5c162f556d860e21af2838f5d785965"
   },
   "source": [
    "**To implement an ensemble we need three basic things:**\n",
    "1. A group of base learners that generate predictions.\n",
    "2. A meta learner that learns how to best combine these predictions outputed by base learners.\n",
    "3. And finally a method for splitting the training data between the base learners and the meta learner.\n",
    "\n",
    "**An ensemble works best if:**\n",
    "1. There is a less correlation in the base models' predictions.\n",
    "2. We increase the number of base learners though it might slow the process down.\n",
    "\n",
    "\n",
    "## 14.1 Different Ensemble Methods\n",
    "We would first categorize ensemble methods into two subcategories like 1.Simple Ensemble Methods and 2.Advanced Ensemble Methods\n",
    "\n",
    "### 14.1.1 Simple Ensemble Methods\n",
    "They're the simpliest yet so useful form of enselbles. They can be further categorised into \n",
    "1. Voting, \n",
    "2. Averaging and \n",
    "3. Weighted Average. \n",
    "\n",
    "First one is usually used for classification while the later two are used for regression problems.\n",
    "\n",
    "#### 14.1.1.1 Voting Ensemble  \n",
    "Voting ensemble is further classified into \n",
    "1. Hard voting and \n",
    "2. Soft voting.\n",
    "\n",
    "##### 14.1.1.1.1 Hard Voting (or Majority Voting or Max Voting) <a id=\"14.1\"></a>\n",
    "This hard voting method is usually used for classification problems. The idea is to train multiple models to make predictions for each data point. The predictions by each model are considered as a ‘vote’. The predictions which we get from the majority of the models are used as the final prediction. Say rf and lr predict a class as 1 while knn predicts the same class as 0. Since the majority of the vots is casted in favour of class 1, the voting classifier would predict the very same class as 1. See the table below to understand how hard voting ensemble works."
   ]
  },
  {
   "cell_type": "code",
   "execution_count": null,
   "metadata": {
    "_uuid": "de1f486bb5dfd7a42cc5345442fad0f60684db07"
   },
   "outputs": [],
   "source": [
    "bold('**How hard voting works:**')\n",
    "data = [[1, 1, 1, 0, 1], \n",
    "        [0, 0, 0, 1, 0]]\n",
    "display(pd.DataFrame(data, columns= ['Class','RF', 'LR', 'KNN', 'Hard_voting']).set_index('Class'))"
   ]
  },
  {
   "cell_type": "markdown",
   "metadata": {
    "_uuid": "ecfa4a769e428f8d7199b940bfe773c0e9665cd4"
   },
   "source": [
    "**Correlation among Base Models Predictions:** How base models' predictions are correlated? If base models' predictions are weakly correlated with each other, the ensemble will likely to perform better. On the other hand, for a strong correlation of predictions among the base models, the ensemble will unlikely to perform better. To sumarize, diversity of predictions among the base models is inversely proportional to the ensemble accuracy. Let's make prediction for the test set."
   ]
  },
  {
   "cell_type": "code",
   "execution_count": null,
   "metadata": {
    "_uuid": "7f2ccfae495d3060dd519571c7088d6558e399f0"
   },
   "outputs": [],
   "source": [
    "'''Create a data frame to store base models prediction.\n",
    "First four in the dataframe are tree based models. Then two are kernel based. And the last is a linear model.'''\n",
    "base_prediction = model_prediction # We've a df of all the models prediction.\n",
    "\n",
    "\"\"\"Let's see how each model classifies a prticular class.\"\"\"\n",
    "bold('**All the Base Models Prediction:**')\n",
    "display(base_prediction.head())\n",
    "\n",
    "\"\"\"Let's visualize the correlations among the predictions of base models.\"\"\"\n",
    "plt.figure(figsize = (20, 6))\n",
    "sns.heatmap(base_prediction.corr(), annot = True)\n",
    "plt.title('Prediction Correlation among the Base Models', fontsize = 18)\n",
    "plt.show()"
   ]
  },
  {
   "cell_type": "markdown",
   "metadata": {
    "_uuid": "3702e3c56e4db0f7b97116e86aaf4a1672a9a180"
   },
   "source": [
    "**Findings:** The prediction looks quite similar for the 8 classifiers except when DT is compared to the others classifiers. Now we will create an ensemble with the base models RF, GBC, DT, KNN and LR. This ensemble can be called heterogeneous ensemble since we have three tree based, one kernel based and one linear models. We would use **EnsembleVotingClassifier method from mlxtend.classifier module** for both hard and soft voting ensembles. The advantage is it requires lesser codes to plot decision regions and I find it a bit faster than sklearn's voting classifier."
   ]
  },
  {
   "cell_type": "code",
   "execution_count": null,
   "metadata": {
    "_uuid": "c56138c6ea91eb1ded681635530a47627fb9d08f"
   },
   "outputs": [],
   "source": [
    "'''We will use mlxtend library to train, predict and plot decision regions of hard voting ensemble classifier.'''\n",
    "'''Define base models for hard voting ensemble.'''\n",
    "base_models = [rf, gbc, dt, knn, lr]\n",
    "\n",
    "'''Import ensemble classifier from mlxtend.'''\n",
    "from mlxtend.classifier import EnsembleVoteClassifier\n",
    "\n",
    "'''Initialize hard voting ensemble.'''\n",
    "hard_vct = EnsembleVoteClassifier(clfs = base_models, voting = 'hard')\n",
    "print('Training Hard Voting Ensemble Classifier...')\n",
    "display(hard_vct.fit(X_train, y_train))\n",
    "print('Done.')\n",
    "\n",
    "'''Predict with hard voting ensemble.'''\n",
    "y_pred_hard_vct = pd.DataFrame(hard_vct.predict(X_test), columns = ['Hard_vct'])\n",
    "\n",
    "'''Hard voting cross validation score.'''\n",
    "print('\\nComputing Hard Voting Cross Val Score...')\n",
    "hard_x_val_score = cross_val_score(hard_vct, X_train, y_train, cv = 10, scoring = 'accuracy')\n",
    "hard_x_val_score = np.round(hard_x_val_score.mean()*100, 2)\n",
    "print('Done.')\n",
    "\n",
    "'''Compare hard voting score with best base models scores.'''\n",
    "hard_vs_base_score = pd.DataFrame({'Hard_vs_base_score(%)': [hard_x_val_score, rf_best_score, gbc_best_score, dt_best_score, knn_best_score, lr_best_score]})\n",
    "'''So basically we're comparing hard voting x_val_score with base models's tunned score.'''\n",
    "hard_vs_base_score.index = ['Hard_vct', 'RF', 'GBC', 'DT', 'KNN', 'LR']\n",
    "bold('**Hard Voting vs Base Models Scores:**')\n",
    "display(hard_vs_base_score)"
   ]
  },
  {
   "cell_type": "markdown",
   "metadata": {
    "_uuid": "bf0503522cdf83424ca83b13dc57fd4bd7cdf9a2"
   },
   "source": [
    "**Findings:** We can see Hard voting classifier uses RF as meta learner for this problem that beats the best base learners (rf and gbc) by some margin. So we may want to further investigate how hard voting is using its decision boundary to excel our best base learners. Let's visualize the decision regions of hard voting classifier with base classifiers.\n",
    "\n",
    "**Now we have a new challenge. In machine learning, visualizing 2 or 3 dimensional data is not that challenging. But we have 47 dimensions (47 input features). That's way too much to visualize. So we need to reduce the dimensionality- may be into 2 or 3 dimensionality. That's where PCA comes into play.**\n",
    "\n",
    "### **Introduction to Principal Component Analysis (PCA) <a id=\"14.2\"></a>\n",
    "The main goal of a PCA analysis is to identify patterns in data. PCA aims to detect the correlation between variables. If a strong correlation between variables exists, the attempt to reduce the dimensionality only makes sense. In a nutshell, this is what PCA is all about: Finding the directions of maximum variance in high-dimensional data and project it onto a smaller dimensional subspace while retaining most of the information. PCA is very useful in the following two cases:\n",
    "1. When the training process takes too long due to large input dimension of training data.\n",
    "2. Reducing dimensions, it make data visualization a breeze.\n",
    "\n",
    "PCA is often effected if your input features have different ranges. So to make PCA work better we shoud scale the input features. We would use sklearn's StandardScaler to standarize our input features. The idea behind StandardScaler is that it will transform our data such that its distribution will have a mean value 0 and standard deviation of 1. **If the variables are correlated, PCA can achieve dimension reduction. If not, PCA just orders them according to their variances.**\n",
    "\n",
    "**Now let's perform standarization and then PCA to plot decision regions of different trained classifiers.**"
   ]
  },
  {
   "cell_type": "code",
   "execution_count": null,
   "metadata": {
    "_uuid": "8111992dce044af26286a2fd5299cd5d676184b3"
   },
   "outputs": [],
   "source": [
    "'''Perform Standarization:\n",
    "Variables have very different ranges (diffenence between max and  min). The purpose of standarization is to reduce the dispersion of these variables.'''\n",
    "from sklearn.preprocessing import StandardScaler\n",
    "'''Initialize standard scaler object.'''\n",
    "std_scaler = StandardScaler()\n",
    "'''Fit standard scaler object to train data.'''\n",
    "std_scaler.fit(X_train)\n",
    "'''Apply the standard scaler to training set.'''\n",
    "X_train_scaled = std_scaler.transform(X_train)\n",
    "\n",
    "\n",
    "'''Perform PCA:'''\n",
    "from sklearn.decomposition import PCA\n",
    "'''Initialize pca object with two components. i.e., converting into 2d from 47d.'''\n",
    "pca = PCA(n_components = 2) # Projection to 2d from 47d\n",
    "'''Fit pca to scaled data.'''\n",
    "pca.fit(X_train_scaled)\n",
    "'''Apply pca to scaled data.'''\n",
    "pca_train = pca.transform(X_train_scaled)\n",
    "'''Create a data frame consisting of two pca.'''\n",
    "df_train_pca = pd.DataFrame(data = pca_train, columns = ['pca-1', 'pca-2'])\n",
    "bold('**Projection to 2D from 47D:**')\n",
    "display(df_train_pca.head())\n",
    "\n",
    "\"\"\"let's merge our two pca components with our target feature.\"\"\"\n",
    "finaldf = pd.concat([df_train_pca, y_train], axis = 1)\n",
    "bold('**Target with 2-PCA Components:**')\n",
    "display(finaldf.head())"
   ]
  },
  {
   "cell_type": "markdown",
   "metadata": {
    "_uuid": "291a2bc331ce846db69c45233a74f0ebb1932db3"
   },
   "source": [
    "**So there we have it! We're down to 2 features only from 47 features. Now we want to calculate how much variance we're able to extract off these 2 components.**"
   ]
  },
  {
   "cell_type": "code",
   "execution_count": null,
   "metadata": {
    "_uuid": "ddfcf5b57e0f1af7d56f391a292a8086c796a5f7"
   },
   "outputs": [],
   "source": [
    "'''Now calculate how much variance we get off these two components.'''\n",
    "bold('**Total Variance Explained by 2 PCA Components:**')\n",
    "display(np.round((pca.explained_variance_ratio_[0] + pca.explained_variance_ratio_[1])*100, 2))"
   ]
  },
  {
   "cell_type": "markdown",
   "metadata": {
    "_uuid": "0bb95e55015e01584ed151190aa4209a26881c35"
   },
   "source": [
    "**Not so much! But considering the number of features we have, its not either too less. Let's visualize our two components (transformed features) in a scatter plot.**"
   ]
  },
  {
   "cell_type": "code",
   "execution_count": null,
   "metadata": {
    "_uuid": "7972909f2b701bbcd253070b384ea54eb60c3b16"
   },
   "outputs": [],
   "source": [
    "'''Visualize our newly transformed samples with class labels.'''\n",
    "'''Visualize our newly transformed samples with class labels.'''\n",
    "plt.figure(figsize = (18,6))\n",
    "plt.xlabel('PCA_1', fontsize = 15)\n",
    "plt.ylabel('PCA_2', fontsize = 15)\n",
    "plt.title('2-Component PCA (2D-Transformed Samples)', fontsize = 18)\n",
    "targets = [1, 0]\n",
    "colors = ['g', 'r']\n",
    "for target, color in zip(targets,colors):\n",
    "    indices = finaldf['Survived'] == target\n",
    "    plt.scatter(finaldf.loc[indices, 'pca-1'],\n",
    "               finaldf.loc[indices, 'pca-2'],\n",
    "               c = color, s = 37)\n",
    "plt.legend(targets)\n",
    "plt.show()"
   ]
  },
  {
   "cell_type": "markdown",
   "metadata": {
    "_uuid": "03d9357779b1880b9f386704564284142245ab56"
   },
   "source": [
    "**Looking at this plot, one thing we can say that a linear decision boundary will not be a good choice to separate these two classes. Now we would train our models on this 2d transformed samples to visualize decision regions created by them.**\n",
    "\n",
    "**Note:** PCA gives you an intuition if a linear or non-linear algorithms would be suitable for a problem. For example, if we look at the scatter plot, we see a non-linear trend between the two class that is, of course better seperable by a non-linear decision boundary. So a non-linear model would be a better bet than a linear one. That's why rf(non-linear) performs better than lr(linear model) for this problem."
   ]
  },
  {
   "cell_type": "code",
   "execution_count": null,
   "metadata": {
    "_uuid": "f520a20c8cb664b4eccd3d021e667e37c5a3cc82"
   },
   "outputs": [],
   "source": [
    "'''We will use mlxtend for plotting decision regions of base and ensemble models. Initialize base models and hard voting ensemble.'''\n",
    "rf_pca = RandomForestClassifier(random_state = seed)\n",
    "gbc_pca = GradientBoostingClassifier(random_state = seed)\n",
    "dt_pca = DecisionTreeClassifier(random_state = seed)\n",
    "knn_pca = KNeighborsClassifier()\n",
    "lr_pca = LogisticRegression(random_state = seed)\n",
    "base_model_pca = [rf_pca, gbc_pca, dt_pca, knn_pca, lr_pca]\n",
    "hard_vct_pca = EnsembleVoteClassifier(clfs = base_model_pca, voting = 'hard')\n",
    "\n",
    "'''Function to plot decision region.'''\n",
    "def plot_decision_region(model):\n",
    "    from mlxtend.plotting import plot_decision_regions\n",
    "    '''Train models with data pca returned. Get the train data.'''\n",
    "    X = df_train_pca.values # Must be converted into numpy array.\n",
    "    y = y_train.values\n",
    "    model.fit(X, y) \n",
    "    decision_region = plot_decision_regions(X = X, y = y, clf = model)\n",
    "    plt.xlabel('PCA-1', fontsize = 15)\n",
    "    plt.ylabel('PCA_2', fontsize = 15)\n",
    "    plt.xticks(fontsize = 15)\n",
    "    plt.yticks(fontsize = 15)\n",
    "    return decision_region\n",
    "\n",
    "'''Now plot decison regions for hard voting ensemble vs base models in subplots.'''\n",
    "plt.figure(figsize = (25,25))\n",
    "en_models = [hard_vct_pca, rf_pca, gbc_pca, dt_pca, knn_pca, lr_pca]\n",
    "en_labels = ['Hard_vct', 'RF', 'GBC', 'DT', 'KNN', 'LR']\n",
    "for ax, models, labels in zip(range(1,7), en_models, en_labels):\n",
    "    plt.subplot(3,2,ax)\n",
    "    plot_decision_region(models)\n",
    "    plt.title(labels, fontsize = 18)\n",
    "plt.suptitle('Hard Voting vs Base Models Decision Regions', fontsize = 28)\n",
    "plt.tight_layout(rect = [0, 0.03, 1, 0.97])    "
   ]
  },
  {
   "cell_type": "markdown",
   "metadata": {
    "_uuid": "98a9c790ad96d5f92b896be32dadac53d96892b3"
   },
   "source": [
    "**Findings:** There seems to be lesser misclassifications made by hard voting decision region compared to both rf and gbc's decision regions. Let's see how and where hard voting ensemble corrects base learners prediction in a data frame together."
   ]
  },
  {
   "cell_type": "code",
   "execution_count": null,
   "metadata": {
    "_uuid": "d9b57628c0e9629e6d51c4eae6346c53cec6d859"
   },
   "outputs": [],
   "source": [
    "'''Create a data frame consisting of base models and hard voting ensemble predictions. Revised base models are now rf, gbc, dt, knn, lr without svc and etc.'''\n",
    "base_prediction = base_prediction.drop(columns = ['ABC', 'SVC', 'ETC'], axis = 1)\n",
    "\n",
    "'''See base models prediction with hard voting prediction.'''\n",
    "df_hard_base = pd.concat([base_prediction,y_pred_hard_vct], sort = False, axis = 1)\n",
    "display(df_hard_base.head(7))"
   ]
  },
  {
   "cell_type": "markdown",
   "metadata": {
    "_uuid": "d378ad8f237d2bc10f18f84d34e4f971c7c8bff9"
   },
   "source": [
    "**Great! We can see hard voting ensemble is considering majority of the models vote(prediction) to label a particular class. Thus it can reduce prediction errors when predicted by a single base learners.**\n",
    "\n",
    "##### 14.1.1.1.2 Soft Voting <a id=\"14.3\"></a>\n",
    "On the other hand, When an ensembles averages based on probabilities  we refer to it as soft voting. In an ensemble model, all classifiers (algorithms) are able to estimate class probabilities (i.e., they all have predict_proba() method), then we can specify Scikit-Learn to predict the class with the highest probability, averaged over all the individual classifiers. In a voting classifier setting the voting parameter to 'soft' enables the models to calculate their probability(also known as confidence score) individually and present it to the voting classifier, then the voting classifier averages them and outputs the class with the highest probability. If average probablity of class-1 is greater than class-0, it outputs predicted class is 1 otherwise 0. \n",
    "\n",
    "**Note:** This soft-voting classifier often work better than hard-voting as it gives more weight to highly confident votes. We Need to specify voting=”soft” and ensure that all classifiers can estimate class probabilities. One algorithm where we need to be careful is SVC, by default SVC will not give probabilities, we have to specify 'probability' hyperparameter to True.\n",
    "See the table below to understand how soft voting ensemble works."
   ]
  },
  {
   "cell_type": "code",
   "execution_count": null,
   "metadata": {
    "_uuid": "ad50e0979551e3f215069cbf8f83e6f22611ec13"
   },
   "outputs": [],
   "source": [
    "bold('**How soft voting works:**')\n",
    "data = [[0.49, 0.99, 0.49, 0.66, 1], \n",
    "        [0.51, 0.01, 0.51, 0.34, 0]]\n",
    "display(pd.DataFrame(data, columns= ['RF', 'LR', 'KNN', 'Average', 'Soft_voting']))"
   ]
  },
  {
   "cell_type": "markdown",
   "metadata": {
    "_uuid": "b2e3e360cee6fd3eb3a8c64dc97da69499e192db"
   },
   "source": [
    "**Let's implement soft voting ensemble in mlxtend.**"
   ]
  },
  {
   "cell_type": "code",
   "execution_count": null,
   "metadata": {
    "_uuid": "c8f4c02dcec93a976a290a65295ed527c13fa4bb"
   },
   "outputs": [],
   "source": [
    "'''Base models for soft voting is the base models of hard voting.'''\n",
    "'''Initialize soft voting ensemble.'''\n",
    "base_models = [rf, gbc, dt, knn, lr]\n",
    "soft_vct = EnsembleVoteClassifier(clfs = base_models, voting = 'soft')\n",
    "print('Fitting Soft Voting Ensemble...')\n",
    "display(soft_vct.fit(X_train, y_train))\n",
    "print('Done.')\n",
    "\n",
    "'''Predict with soft voting ensemble.'''\n",
    "y_pred_soft_vct = pd.DataFrame(soft_vct.predict(X_test), columns = ['Soft_vct'])\n",
    "\n",
    "'''Hard voting cross validation score.'''\n",
    "print('\\nComputing Soft Voting X Val Score...')\n",
    "soft_x_val_score = cross_val_score(soft_vct, X_train, y_train, cv = 10, scoring = 'accuracy')\n",
    "soft_x_val_score = np.round(soft_x_val_score.mean()*100, 2)\n",
    "print('Done.')\n",
    "\n",
    "'''Compare hard voting score with best base models scores.'''\n",
    "soft_vs_base_score = pd.DataFrame({'Soft_vs_base_score(%)': [soft_x_val_score, rf_best_score, gbc_best_score, dt_best_score, knn_best_score, lr_best_score]})\n",
    "'''So basically we're comparing soft voting x_val_score with base models's tunned score.'''\n",
    "soft_vs_base_score.index = ['Soft_vct', 'RF', 'GBC', 'DT', 'KNN', 'LR']\n",
    "bold('**Soft Voting vs Base Models Scores:**')\n",
    "display(soft_vs_base_score)"
   ]
  },
  {
   "cell_type": "markdown",
   "metadata": {
    "_uuid": "16322019ef3bfb711f4e63f439deb1ef320ff87b"
   },
   "source": [
    "**Findings:** Soft voting ensemble fails to beat our two best models (rf and gbc). In fact, it produces way to inferior results compared to hard voting ensemble (83.74 vs 84.63). So hard voting ensemble, for this problem, seems to be superior to soft voting ensemble method. WE can visualize soft voting ensemble decision region along with base models decision regions."
   ]
  },
  {
   "cell_type": "code",
   "execution_count": null,
   "metadata": {
    "_uuid": "e5a8c3f0a90d2d68647519608d43317f3019c302",
    "scrolled": false
   },
   "outputs": [],
   "source": [
    "'''We would use the same data to plot decision region we got analysing PCA.'''\n",
    "base_model_pca = [rf_pca, gbc_pca, dt_pca, knn_pca, lr_pca]\n",
    "soft_vct_pca = EnsembleVoteClassifier(clfs = base_model_pca, voting = 'soft')\n",
    "\n",
    "'''Plot decision regions for soft voting ensemble vs base models in subplots.'''\n",
    "plt.figure(figsize = (25,25))\n",
    "en_models = [soft_vct_pca, rf_pca, gbc_pca, dt_pca, knn_pca, lr_pca]\n",
    "en_labels = ['Soft_vct', 'RF', 'GBC', 'DT', 'KNN', 'LR']\n",
    "for ax, models, labels in zip(range(1,7), en_models, en_labels):\n",
    "    plt.subplot(3,2,ax)\n",
    "    plot_decision_region(models)\n",
    "    plt.title(labels, fontsize = 18)\n",
    "plt.suptitle('Soft Voting vs Base Models Decision Regions', fontsize = 28)\n",
    "plt.tight_layout(rect = [0, 0.03, 1, 0.97])"
   ]
  },
  {
   "cell_type": "markdown",
   "metadata": {
    "_uuid": "553f1dd6de322ffd2cebc41244534417bce700ae"
   },
   "source": [
    "**Findings:** Soft voting decision region just seems to be creating more misclassification than rf and gbc. Let's see how and where soft voting ensemble falls to base learners prediction in a data frame together."
   ]
  },
  {
   "cell_type": "code",
   "execution_count": null,
   "metadata": {
    "_uuid": "d7da289c45dbed4c1c71425e02a4f31e65978f3f"
   },
   "outputs": [],
   "source": [
    "'''See base models prediction with soft voting prediction.'''\n",
    "df_soft_base = pd.concat([base_prediction,y_pred_soft_vct], sort = False, axis = 1)\n",
    "bold('**Soft voting should have labeled the class 1 instead of 0.**')\n",
    "display(df_soft_base.iloc[192, :])\n",
    "bold('**Soft voting should have labeled the class 0 instead of 1.**')\n",
    "display(df_soft_base.iloc[335, :])\n",
    "bold('**Soft voting should have labeled the class 1 instead of 0.**')\n",
    "display(df_soft_base.iloc[344, :])"
   ]
  },
  {
   "cell_type": "markdown",
   "metadata": {
    "_uuid": "0d31e4ac3897c3ef43589866397e5fd5fed20325"
   },
   "source": [
    "**Well we can see where soft voting is making a mess. Now let's move onto more advanced ensemble methods.**\n",
    "\n",
    "### 14.1.2 Advanced Ensemble Methods\n",
    "Advanced ensemble methods can further be classified into \n",
    "1. Bagging\n",
    "2. Boostoing\n",
    "3. Stacking\n",
    "4. Blending\n",
    "\n",
    "#### 14.1.2.1 Bagging  <a id=\"14.4\"></a>\n",
    "Bagging, is shorthand for the combination of bootstrapping and aggregating. Bootstrapping is a method to help decrease the variance of the classifier and thus reduce overfitting. So the model created should be less overfitted than a single individual model. Bagging is more suitable for high variance low bias models (complex models). Random forest itself is an ensemble machine learning algorithm that follows the bagging technique. We would use rf as the base estimator for bagging instead of default dt. Let's try to implement bagging in sklearn:"
   ]
  },
  {
   "cell_type": "code",
   "execution_count": null,
   "metadata": {
    "_uuid": "d45042faf7b0abb1c99c9019d685a067cac8f47e"
   },
   "outputs": [],
   "source": [
    "'''Initialize bagging classifier.'''\n",
    "from sklearn.ensemble import BaggingClassifier\n",
    "bagg = BaggingClassifier(base_estimator = rf, verbose = 0, n_jobs = -1, random_state = seed)\n",
    "'''We use rf as the base estimator for bagging technique.'''\n",
    "print('Fitting Bagging Ensemble...')\n",
    "display(bagg.fit(X_train, y_train))\n",
    "print('Done.')\n",
    "\n",
    "'''Bagging cross validation score.'''\n",
    "print('\\nComputing Bagging X Val Score..')\n",
    "bagg_x_val_score = cross_val_score(bagg, X_train, y_train, cv = 10, scoring = 'accuracy')\n",
    "bagg_x_val_score = np.round(bagg_x_val_score.mean()*100, 2)\n",
    "print('Done.')\n",
    "\n",
    "'''Compare bagging ensemble score with best base models scores.'''\n",
    "bagg_vs_base_score = pd.DataFrame({'Bagging_vs_base_score(%)': [bagg_x_val_score, rf_best_score, gbc_best_score, dt_best_score, knn_best_score, lr_best_score]})\n",
    "'''So basically we're comparing bagging x_val_score with base models's tunned score.'''\n",
    "bagg_vs_base_score.index = ['Bagg', 'RF', 'GBC', 'DT', 'KNN', 'LR']\n",
    "bold('**Bagging vs Base Models Scores:**')\n",
    "display(bagg_vs_base_score)"
   ]
  },
  {
   "cell_type": "markdown",
   "metadata": {
    "_uuid": "fec39b303b3d3849ceeffad7e85c710bbc20d856"
   },
   "source": [
    "**Findings:** Bagging can't beat our best base learners.\n",
    "\n",
    "#### 14.1.2.2 Boosting  <a id=\"14.5\"></a>\n",
    "Boosting refers to any Ensemble method that can combine several weak learners into a strong learner. It does this through a weighted majority vote (classification) or a weighted sum (regression). Ada boost and Gradient boost, and Extreme gradient boost are popular models that uses boosting technique. Boosting is particularly suitable for low variance high bias models (less complex models). Unlike bagging, its a sequential ensemble technique. We will perform a simple voting ensemble of boosting classifiers rather performing boosting ensemble using only a single classifer with a base estimator (for ada boost). I found this method to give higher accuracy than adaboost(with a base estimator), gradient boosting, or extreme gradient boosting for this problem. Let's perform boosting ensemble(infact voting of boosting classifiers) in mlxtend."
   ]
  },
  {
   "cell_type": "code",
   "execution_count": null,
   "metadata": {
    "_uuid": "b8c0bd9faca77446f8364bb30b7a76e72c2538a2"
   },
   "outputs": [],
   "source": [
    "'''We will use adaptive boosting, gradient boosting and extreme gradient boosting classifiers for boosting ensemble method.'''\n",
    "'''Initialize boosting classifier. Base models for boosting:'''\n",
    "boost_models = [abc, gbc, xgbc] # Unoptimized xgbc\n",
    "boost = EnsembleVoteClassifier(clfs = boost_models, voting='hard')\n",
    "\n",
    "'''Fitting boosting.'''\n",
    "print('Fitting Boosting Ensemble...')\n",
    "display(boost.fit(X_train, y_train))\n",
    "print('Done.')\n",
    "\n",
    "'''Boosting cross validation score.'''\n",
    "print('\\nCalculating Boosting X Val Score...')\n",
    "boost_x_val_score = cross_val_score(boost, X_train, y_train, cv = 10, scoring = 'accuracy')\n",
    "boost_x_val_score = np.round(boost_x_val_score.mean()*100, 2)\n",
    "print('Done.')\n",
    "\n",
    "'''Compare boosting ensemble score with best base models scores.'''\n",
    "xgbc_best_score = 82.27  # xgbc's x_val_score.\n",
    "boost_vs_base_score = pd.DataFrame({'Boosting_vs_base_score(%)': [boost_x_val_score, abc_best_score, gbc_best_score, xgbc_best_score]})\n",
    "'''So basically we're comparing boosting x_val_score with base models's tunned score except xgbc.'''\n",
    "boost_vs_base_score.index = ['Boost', 'ABC', 'GBC', 'XGBC']\n",
    "bold('**Boosting vs Base Models Scores:**')\n",
    "display(boost_vs_base_score)"
   ]
  },
  {
   "cell_type": "markdown",
   "metadata": {
    "_uuid": "8476a5898ecfd3ae97de9e1806267d298c25595b"
   },
   "source": [
    "**Findings:** Boosting method can't beat best boosting base learner gbc. Though it could beat, if we would have optimized xgbc. If you have time and infrastructure, you can tune xgbc's hyperparameters. Then compare boosting accuracy with its base models accuracy.\n",
    "\n",
    "#### 14.1.2.3 Blending  <a id=\"14.6\"></a>\n",
    "In blending, full training data is split into training and prediction sets. The base models (also called level 0 models) are trained on this train set and then predictions are made on this prediction set. These predictions made by base learers are then fed as an input to the meta learner (also called level 1 model). That is meta learner are trained with the output (predictions) of base learners. Blending ensemble uses only a subset of data to train base learners and another subset of data to make predictions. By only fitting every base learner once on a subset of the full training data, Blend ensemble is a fast ensemble that can handle very large datasets simply by only using portion of it at each stage. The cost of this approach is that information is thrown out at each stage, as one layer will not see the training data used by the previous layer. **We will use BlendEnsemble method from mlens.ensemble module to perform blending.**"
   ]
  },
  {
   "cell_type": "code",
   "execution_count": null,
   "metadata": {
    "_uuid": "83be566944f77d7376ea56832c38fd86e9f35cec"
   },
   "outputs": [],
   "source": [
    "'''Perform blending in mlens.'''\n",
    "from mlens.ensemble import BlendEnsemble\n",
    "'''Initialize blend ensembler.'''\n",
    "blend = BlendEnsemble(n_jobs = -1, test_size = 0.5, random_state = seed)\n",
    "'''Base models for blending.'''\n",
    "base_models = [gbc, rf, dt, knn, abc]\n",
    "blend.add(base_models)\n",
    "'''Meta learner for blending. We will use lr.'''\n",
    "blend.add_meta(lr)\n",
    "'''Train the blend ensemble.'''\n",
    "print('Fitting Blending...')\n",
    "display(blend.fit(X_train, y_train))\n",
    "print('Done.')"
   ]
  },
  {
   "cell_type": "markdown",
   "metadata": {
    "_uuid": "8818fbaa5cb2b9e7a4d2890a1a17c4a737bf06a0"
   },
   "source": [
    "#### 14.1.2.4 Stacking (Or Stacked Generalization)  <a id=\"14.7\"></a>\n",
    "In blending, we trained the base learners and the meta learner on only half the data, so a lot of information is lost. To prevent this, we need to use a cross-validation strategy. Fitting an ensemble with cross-validation is often referred to as stacking, while the ensemble itself is known as the Super Learner. So basically in stacking, the individual classification models (or base models) are trained on the complete training set; then, the meta-classifier is fitted on the outputs (predictions) of those base learners. The meta-classifier can either be trained on the predicted class labels or probabilities from the ensemble.\n",
    "\n",
    "**The basic difference between blending and stacking is therefore that stacking allows both base learners and the meta learner to train on the full data set.The outcome of stacking is improved accuracy which is typical for small and medium-sized data sets, where the effect of blending can be severe. As the data set size increases, blending and stacking performs similarly and hence for large data sets blending is preferred over stacking since stacking takes significant amount of time to train the ensemble. We will use package vecstack to perform stacking that can save you from writing a lot of codes if you implement stacking from scratch.**"
   ]
  },
  {
   "cell_type": "code",
   "execution_count": null,
   "metadata": {
    "_uuid": "7425bddf30855f2e45868cfe4c63f355427ce2a9"
   },
   "outputs": [],
   "source": [
    "'''Import stacking method from vecstack.'''\n",
    "from vecstack import stacking\n",
    "from sklearn.metrics import accuracy_score\n",
    "'''Initialize base models. We will use the same base models as blending.'''\n",
    "base_models = [rf, dt, gbc, abc, knn]\n",
    "'''Perform stacking.'''\n",
    "S_train, S_test = stacking(base_models,                # list of base models\n",
    "                           X_train, y_train, X_test,   # data\n",
    "                           regression = False,         # classification task (if you need \n",
    "                                                       # regression - set to True)\n",
    "                           mode = 'oof_pred_bag',      # mode: oof for train set, predict test \n",
    "                                                       # set in each fold and vote\n",
    "                           needs_proba = False,        # predict class labels (if you need \n",
    "                                                       # probabilities - set to True) \n",
    "                           save_dir = None,            # do not save result and log (to save \n",
    "                                                       # in current dir - set to '.')\n",
    "                           metric = accuracy_score,    # metric: callable\n",
    "                           n_folds = 10,               # number of folds\n",
    "                           stratified = True,          # stratified split for folds\n",
    "                           shuffle = True,             # shuffle the data\n",
    "                           random_state=  seed,        # ensure reproducibility\n",
    "                           verbose = 1)                # print progress"
   ]
  },
  {
   "cell_type": "markdown",
   "metadata": {
    "_uuid": "2362941301c7c9d403fcda4b01aa2b6206a1b4e6"
   },
   "source": [
    "**So now we have OOF from base (or 0 level models) models and we can build level 1 model. We have 5 base models (level 0 models), so we expect to get 5 columns in S_train and S_test. S_train will be our input feature to train our meta learner and then prediction will be made on S_test after we train our meta learner. And this prediction on S_test is actually the prediction for our test set (X_test). Before we train our meta learner we can investigate S_train and S_test.**"
   ]
  },
  {
   "cell_type": "code",
   "execution_count": null,
   "metadata": {
    "_uuid": "da74d4d32d897bb5ddce6bab1dd41341667dee36"
   },
   "outputs": [],
   "source": [
    "'''Input features for meta learner.'''\n",
    "display(S_train[:5])\n",
    "display(S_train.shape)"
   ]
  },
  {
   "cell_type": "code",
   "execution_count": null,
   "metadata": {
    "_uuid": "346970b5024163fafa06d64997df9d303d8c1e2f"
   },
   "outputs": [],
   "source": [
    "'''Test (prediction) set for meta learner.'''\n",
    "display(S_test[:5].shape)\n",
    "display(S_test.shape)"
   ]
  },
  {
   "cell_type": "code",
   "execution_count": null,
   "metadata": {
    "_uuid": "ae66f7fff4c68d76664dd0c2ca17a6552ef9490d"
   },
   "outputs": [],
   "source": [
    "\"\"\"Initialize 1st level model that is our meta learner. We will use lr.\"\"\"\n",
    "super_learner = lr \n",
    "    \n",
    "'''Fit meta learner on the output of base learners.'''\n",
    "print('Fitting Stacking...')\n",
    "super_learner.fit(S_train, y_train)\n",
    "print('Done.')\n",
    "'''Finally predict using super learner.'''\n",
    "y_pred_super = super_learner.predict(S_test)"
   ]
  },
  {
   "cell_type": "markdown",
   "metadata": {
    "_uuid": "c4ddc3afe1979c789a15aee513a9570491145a74"
   },
   "source": [
    "## 14.2  Evaluating Different Ensembles <a id=\"14.8\"></a>\n",
    "I've tried to demonstrate various ensemble methods. Let's make predictions with them to see how they perform on our test set on kaggle submission."
   ]
  },
  {
   "cell_type": "code",
   "execution_count": null,
   "metadata": {
    "_uuid": "3ccf6fd0cead35bf85059d4ee4e3dc6aeee9359a"
   },
   "outputs": [],
   "source": [
    "'''Predicting with different ensembles.'''\n",
    "\n",
    "'''Hard voting.'''\n",
    "submission = pd.DataFrame({\n",
    "        \"PassengerId\": test[\"PassengerId\"],\n",
    "        \"Survived\": hard_vct.predict(X_test)})\n",
    "submission.to_csv('submission_hard_vct.csv', index = False)\n",
    "\n",
    "'''Soft voting.'''\n",
    "submission = pd.DataFrame({\n",
    "        \"PassengerId\": test[\"PassengerId\"],\n",
    "        \"Survived\": soft_vct.predict(X_test)})\n",
    "submission.to_csv('submission_soft_vct.csv', index = False)\n",
    "\n",
    "'''Bagging.'''\n",
    "submission = pd.DataFrame({\n",
    "        \"PassengerId\": test[\"PassengerId\"],\n",
    "        \"Survived\": bagg.predict(X_test)})\n",
    "submission.to_csv('submission_bagg.csv', index = False)\n",
    "\n",
    "'''Boosting.'''\n",
    "submission = pd.DataFrame({\n",
    "        \"PassengerId\": test[\"PassengerId\"],\n",
    "        \"Survived\": boost.predict(X_test)})\n",
    "submission.to_csv('submission_boost.csv', index = False)\n",
    "\n",
    "'''Blending.'''\n",
    "submission = pd.DataFrame({\n",
    "        \"PassengerId\": test[\"PassengerId\"],\n",
    "        \"Survived\": blend.predict(X_test).astype(int)})\n",
    "submission.to_csv('submission_blend.csv', index = False)\n",
    "\n",
    "'''Stacking.'''\n",
    "submission = pd.DataFrame({\n",
    "        \"PassengerId\": test[\"PassengerId\"],\n",
    "        \"Survived\": y_pred_super.astype(int)})\n",
    "submission.to_csv('submission_super.csv', index = False)"
   ]
  },
  {
   "cell_type": "markdown",
   "metadata": {
    "_uuid": "8de123ddd99943b0d11b0b7f618a1af9baa11f05"
   },
   "source": [
    "**We've made our submissions using different ensembles. Let's now compare their submission scores with our best base models'  submission scores.**"
   ]
  },
  {
   "cell_type": "code",
   "execution_count": null,
   "metadata": {
    "_uuid": "320fe23aabfe17a82dd5624543c3cab714833f39"
   },
   "outputs": [],
   "source": [
    "'''Create a df of different ensemble submission scores and base models.'''\n",
    "submission_score = pd.DataFrame({'Ensembles or Base Models':['Bagging(en)', 'Boosting(en)', 'Blending(en)', 'Stacking(en)', 'Hard_voting(en)', 'Soft_voting(en)', 'RF(base)', 'GBC(base)'],\n",
    "             'Scored_on_submission(%)':[80.861, 78.468, 79.425, 79.425, 78.947, 78.468, 79.425, 78.468 ]})\n",
    "submission_score = submission_score.set_index('Ensembles or Base Models').sort_values(by = 'Scored_on_submission(%)', ascending = False)\n",
    "bold(\"**Ensembles' vs Base Models' Scores on Submission:**\")\n",
    "display(submission_score)"
   ]
  },
  {
   "cell_type": "code",
   "execution_count": null,
   "metadata": {
    "_uuid": "e57101f9be2edafcb7b5514cfb9deb3514ab836c"
   },
   "outputs": [],
   "source": [
    "\"\"\"Let's plot models' submission score for the last time.\n",
    "We would use plotly with cufflinks (used to create plotly charts from pandas series or data frame).\"\"\"\n",
    "import plotly.offline as py\n",
    "from plotly.offline import iplot, init_notebook_mode\n",
    "import cufflinks as cf\n",
    "cf.go_offline() # Required to use plotly offline with cufflinks.\n",
    "py.init_notebook_mode() # Graphs charts inline (jupyter notebook).\n",
    "'''Plot bar plot.'''\n",
    "figure = submission_score.iplot(kind = 'bar', asFigure = True, title = 'Models Scored on Submission', theme = 'solar')\n",
    "iplot(figure)"
   ]
  },
  {
   "cell_type": "markdown",
   "metadata": {
    "_uuid": "2075cdb52e4faa08643a6718894fc93a1d3ca95b"
   },
   "source": [
    "How can we add direct bar labels in the above plot? I pass  asFigure = True so that I can edit the figure to tweak further. Let's do that and add bar labels:"
   ]
  },
  {
   "cell_type": "code",
   "execution_count": null,
   "metadata": {
    "_uuid": "8b092590c940514c03752c2307851eb12fc38625"
   },
   "outputs": [],
   "source": [
    "'''Edit the figure object.'''\n",
    "figure"
   ]
  },
  {
   "cell_type": "code",
   "execution_count": null,
   "metadata": {
    "_uuid": "0154c3cbfebc1aad51e8702999c52798a27be7d3"
   },
   "outputs": [],
   "source": [
    "\"\"\"Let's update the figure.\"\"\"\n",
    "figure['data'][0]['text'] = submission_score.values.flatten().tolist()\n",
    "figure['data'][0]['textposition'] = 'auto'\n",
    "figure['data'][0]['textfont'] = dict(family = 'sans serif', size = 18, color = 'aquamarine')\n",
    "figure['data'][0]['hoverinfo'] = 'none'\n",
    "iplot(figure)"
   ]
  },
  {
   "cell_type": "markdown",
   "metadata": {
    "_uuid": "bcd2f70689ebb2b112160b9ed32f2f25fb5215e2"
   },
   "source": [
    "**Findings:**So there you have it! Surprisingly its bagging that comes out on top with a score of 0.80861 that can take you to the top 8% on the leaderboard! Blending and stacking perform identically and scored as much as rf. Hard voting, boosting and soft voting can't beat best base model rf. Since bagging performs well for high variance model, we have a feeling that we might have overfitted the training data because cross validation score for bagging is 82.27% and it still scores almost 81% on kaggle leaderboard. So its possible to overfit though your cross validation score is high since some models with higher cross validation score perform poorly on kaggle leaderboard compared to bagging ensemble."
   ]
  },
  {
   "cell_type": "markdown",
   "metadata": {
    "_uuid": "94c3cd999e6ff04e672c88cfdc4f7421a1e8225b"
   },
   "source": [
    "# 15.End Note <a id=\"15\"></a>\n",
    "**If you're still with me, I congratulate you because you've learned all those things that I learned after months of study, practice and of course patience. Of course, there is always room for improvement. I'm still learning. I've tried to explain everything I could possibly know. Any suggestion is cordially welcomed. May be trying out different base learners and meta learner to improve ensemble further or may be by tunning xgbc. And if you find my kernel useful, some upvotes will be appreciated. Finally I provide some links that I've found useful in creating this notebook.**\n",
    "\n",
    "**Recommended Readings:**\n",
    "1. Mlxtend package for voting ensemble and decision region: https://rasbt.github.io/mlxtend/user_guide/classifier/EnsembleVoteClassifier/ and\n",
    "https://rasbt.github.io/mlxtend/user_guide/plotting/plot_decision_regions/\n",
    "2. Mlens package for blending ensemble: https://github.com/flennerhag/mlens/blob/master/mlens/ensemble/blend.py\n",
    "3. Vecstack package for stacking ensemble: https://github.com/vecxoz/vecstack\n",
    "4. Introduction to Python Ensembles by Dataquest: https://www.dataquest.io/blog/introduction-to-ensembles/\n",
    "5. Kaggle ensemble guide by MLWave: https://mlwave.com/kaggle-ensembling-guide/\n",
    "6. Cufflinks documentation:  https://plot.ly/ipython-notebooks/cufflinks/"
   ]
  }
 ],
 "metadata": {
  "kernelspec": {
   "display_name": "Python 3",
   "language": "python",
   "name": "python3"
  },
  "language_info": {
   "codemirror_mode": {
    "name": "ipython",
    "version": 3
   },
   "file_extension": ".py",
   "mimetype": "text/x-python",
   "name": "python",
   "nbconvert_exporter": "python",
   "pygments_lexer": "ipython3",
   "version": "3.6.5"
  },
  "toc": {
   "base_numbering": 1,
   "nav_menu": {},
   "number_sections": true,
   "sideBar": true,
   "skip_h1_title": false,
   "title_cell": "Table of Contents",
   "title_sidebar": "Contents",
   "toc_cell": false,
   "toc_position": {
    "height": "274px",
    "left": "456.989px",
    "top": "110.994px",
    "width": "212px"
   },
   "toc_section_display": true,
   "toc_window_display": true
  }
 },
 "nbformat": 4,
 "nbformat_minor": 1
}
